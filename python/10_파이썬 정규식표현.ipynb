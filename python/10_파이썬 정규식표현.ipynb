{
 "cells": [
  {
   "cell_type": "code",
   "execution_count": 2,
   "metadata": {},
   "outputs": [
    {
     "data": {
      "text/plain": [
       "True"
      ]
     },
     "execution_count": 2,
     "metadata": {},
     "output_type": "execute_result"
    }
   ],
   "source": [
    "txt='111-222-333'\n",
    "'222' in txt"
   ]
  },
  {
   "cell_type": "code",
   "execution_count": 4,
   "metadata": {},
   "outputs": [
    {
     "data": {
      "text/plain": [
       "'111-###-333'"
      ]
     },
     "execution_count": 4,
     "metadata": {},
     "output_type": "execute_result"
    }
   ],
   "source": [
    "txt.replace('222','###')"
   ]
  },
  {
   "cell_type": "code",
   "execution_count": 5,
   "metadata": {},
   "outputs": [
    {
     "data": {
      "text/plain": [
       "True"
      ]
     },
     "execution_count": 5,
     "metadata": {},
     "output_type": "execute_result"
    }
   ],
   "source": [
    "txt.startswith('111')  # txt의 문자열이 '111'로 시작하냐"
   ]
  },
  {
   "cell_type": "code",
   "execution_count": null,
   "metadata": {},
   "outputs": [],
   "source": [
    "# 간단히 생각해서 위 내용들의 업그레드 버전이 정규표현식"
   ]
  },
  {
   "cell_type": "code",
   "execution_count": null,
   "metadata": {},
   "outputs": [],
   "source": []
  },
  {
   "cell_type": "markdown",
   "metadata": {
    "slideshow": {
     "slide_type": "slide"
    }
   },
   "source": [
    "# <font size=50>정규 표현식 (Regular Expression)</font>"
   ]
  },
  {
   "cell_type": "markdown",
   "metadata": {
    "slideshow": {
     "slide_type": "slide"
    }
   },
   "source": [
    "# 1. 정규 표현식(Regular Expression) 개요"
   ]
  },
  {
   "cell_type": "markdown",
   "metadata": {
    "slideshow": {
     "slide_type": "subslide"
    }
   },
   "source": [
    "## 1.1. 정규 표현식이란\n",
    "- 텍스트에서 특정한 형태나 규칙을 가지는 문자열을 찾기 위해 그 형태나 규칙을 정의하는 것.\n",
    "- 파이썬 뿐만 아니라 문자열을 다루는 모든 곳에서 사용된다.\n",
    "- **정규식, Regexp**이라고도 한다."
   ]
  },
  {
   "cell_type": "markdown",
   "metadata": {
    "slideshow": {
     "slide_type": "fragment"
    }
   },
   "source": [
    "## 1.2. 기본개념\n",
    "- 패턴 \n",
    "    - 정규 표현식이라고 한다.\n",
    "    - 문장내에서 찾기위한 문구의 형태에 대한 표현식.\n",
    "- 메타문자\n",
    "    - 패턴을 기술하기 위해 사용되는 특별한 의미를 가지는 문자\n",
    "    - 예) `a*` : a가 0회 이상 반복을 뜻한다. a, aa, aaaa\n",
    "- 리터럴\n",
    "    - 표현식이 값 자체를 의미하는 것\n",
    "    - 예) `a`는 `a` 자체를 의미한다.    "
   ]
  },
  {
   "cell_type": "markdown",
   "metadata": {
    "slideshow": {
     "slide_type": "slide"
    }
   },
   "source": [
    "# 2. 정규 표현식 메타 문자\n",
    "- 패턴을 기술하기 위한 문자"
   ]
  },
  {
   "cell_type": "markdown",
   "metadata": {
    "slideshow": {
     "slide_type": "subslide"
    }
   },
   "source": [
    "## 2.1 문자 클래스 :  [  ]\n",
    "- `[ ]` 사이의 문자들과 매칭\n",
    "    - `[abc]` : a, b, c 중 **하나의 문자**와 매치\n",
    "- `-`를 이용해 범위로 설정할 수 있다.\n",
    "    - `[a-z]` : 알파벳소문자중 하나의 문자와 매치\n",
    "    - `[a-zA-Z0-9]` : 알파벳대소문자와 숫자 중 하나의 문자와 매치 \n",
    "    - `[가-힣]` or `[ㄱ-힣]` : 한글\n",
    "- `[^ 패턴]` : ^ 으로 시작하는 경우 반대의 의미\n",
    "    - `[^abc]` : a, b, c를 제외한 나머지 문자들 중 하나와 매치.\n",
    "    - `[^a-z]` : 알파벳 소문자를 제외한 나머지 문자들 중 하나와 매치"
   ]
  },
  {
   "cell_type": "markdown",
   "metadata": {
    "slideshow": {
     "slide_type": "subslide"
    }
   },
   "source": [
    "## 2.2 미리 정의된 문자 클래스\n",
    "- 자주 사용되는 문자클래스를 미리 정의된 별도 표기법으로 제공한다.\n",
    "- `\\d` : 숫자와 매치. [0-9]와 동일\n",
    "- `\\D` : `\\d`의 반대. 숫자가 아닌 문자와 매치.  [^0-9]와 동일\n",
    "- `\\w` : 문자와 숫자, _(underscore)와 매치. `[a-zA-Z0-9_]`와 동일\n",
    "- `\\W` : `\\w`의 반대. 문자와 숫자와 _ 가 아닌 문자와 매치.  `[^a-zA-Z0-9_]`와 동일\n",
    "- `\\s` : 공백문자와 매치. tab,줄바꿈,공백문자와 일치\n",
    "- `\\S` : `\\s`와 반대. 공백을 제외한 문자열과 매치.\n",
    "- `\\b` : 단어 경계(word boundary) 표시. 보통 단어 경계로 공백을 의미\n",
    "    - `\\b가족\\b` => 우리 가족 만세(O), 우리가족만세 (X)\n",
    "- `\\B` : `\\b`의 반대. 단어 경계로 구분된 단어가 아닌 경우\n",
    "    - `\\B가족\\B` => 우리 가족 만세(X), 우리가족만세 (O)"
   ]
  },
  {
   "cell_type": "markdown",
   "metadata": {
    "slideshow": {
     "slide_type": "subslide"
    }
   },
   "source": [
    "## 2.3. 글자수와 관련된 메타문자\n",
    "- `.` : 한개의 모든 문자(\\n-줄바꿈 제외) (`a.b`)\n",
    "- `*` : 앞의 문자(패턴)과 일치하는 문자가 0개 이상인 경우. (`a*b`)\n",
    "- `+` : 앞의 문자(패턴)과 일치하는 문자가 1개이상인 경우.  (`a+b`)\n",
    "- `?` :  앞의 문자(패턴)과 일치하는 문자가 한개 있거나 없는 경우. (`a?b`)\n",
    "- `{m}` : 앞의 문자(패턴)가 m개. (`a{3}b`)\n",
    "- `{m,}` : 앞의 문자(패턴)이 m개 이상. (`a{3,}b`)\n",
    "    - , 뒤에 공백이 들어오지 않도록 한다.\n",
    "- `{m,n}` : 앞의 문자(패턴)이 m개이상 n개 이하. (`a{2,5}b`)    \n",
    "- `.`, `*`, `+`, `?` 를 리터럴로 표현할 경우 `\\`를 붙인다.\n",
    "\n",
    "만약 메타문자가 아니라 문자 자체로 쓰고싶을 경우 `\\.` 와 같이 앞에 `\\`를 붙인다."
   ]
  },
  {
   "cell_type": "markdown",
   "metadata": {
    "ExecuteTime": {
     "end_time": "2019-05-15T10:08:16.413433Z",
     "start_time": "2019-05-15T10:08:16.407394Z"
    },
    "slideshow": {
     "slide_type": "subslide"
    }
   },
   "source": [
    "## 2.4. 문장의 시작과 끝 표현\n",
    "- `^` 문자열의 시작 (`^abc`)\n",
    "    - 문자 클래스([ ])의 ^와는 의미가 다르다.\n",
    "- `$` : 문자열의 끝 (`abc$`)"
   ]
  },
  {
   "cell_type": "markdown",
   "metadata": {
    "ExecuteTime": {
     "end_time": "2019-05-15T10:08:16.413433Z",
     "start_time": "2019-05-15T10:08:16.407394Z"
    },
    "slideshow": {
     "slide_type": "fragment"
    }
   },
   "source": [
    "## 2.5. 기타\n",
    "- `|` : 둘중 하나 (OR) (010|011|016|019)\n",
    "    - 010|016-111 : 010 또는 016-111 이 된다. \n",
    "- `(  )` : 패턴내 하위그룹을 만들때 사용"
   ]
  },
  {
   "cell_type": "markdown",
   "metadata": {
    "slideshow": {
     "slide_type": "slide"
    }
   },
   "source": [
    "# 3. re 모듈\n",
    "- 파이썬에서 정규 표현식을 지원하기 위한 모듈\n",
    "- 파이썬 기본 라이브러리"
   ]
  },
  {
   "cell_type": "markdown",
   "metadata": {
    "slideshow": {
     "slide_type": "subslide"
    }
   },
   "source": [
    "## 3.1 코딩패턴\n",
    "1. 모듈 import\n",
    "    - import re\n",
    "2. 패턴 객체 생성\n",
    "    - 패턴 컴파일\n",
    "    - 패턴을 가지고 있는 객체 생성\n",
    "3. 텍스트에서 패턴 문자열 검색또는 변경 작업\n",
    "\n",
    "> ### raw string\n",
    "> - 패턴을 지정하는 문자열 앞에 r 표시구분자를 붙인 것을 말한다.\n",
    "> - `\\`를 일반문자로 처리\n",
    ">    - `re.compile('\\b가족\\b')` : `\\b`를 escape 문자 b(백스페이스)로 인식\n",
    ">    - `re.compile(r'\\b가족\\b')` : `\\b`가 일반문자가 되어 컴파일시 정규식 메타문자로 처리된다.\n"
   ]
  },
  {
   "cell_type": "code",
   "execution_count": 9,
   "metadata": {},
   "outputs": [
    {
     "name": "stdout",
     "output_type": "stream",
     "text": [
      "a\tb\n",
      "\\c\n",
      "a\\tb\\n\\c\n"
     ]
    }
   ],
   "source": [
    "txt='a\\tb\\n\\c'\n",
    "txt2=r'a\\tb\\n\\c' # 문자열 앞에 r을 붙이면 정규식표현이 아닌 있는 그대로 써라\n",
    "print(txt)\n",
    "print(txt2)"
   ]
  },
  {
   "cell_type": "code",
   "execution_count": null,
   "metadata": {},
   "outputs": [],
   "source": []
  },
  {
   "cell_type": "markdown",
   "metadata": {
    "slideshow": {
     "slide_type": "subslide"
    }
   },
   "source": [
    "> ### 정규식 관련 함수 구문의 두 형태\n",
    "1. pattern객체.함수(매개변수)\n",
    "    ```python\n",
    "        p = re.compile(r'\\d+')\n",
    "        p.search('abc123def')\n",
    "    ```\n",
    "2. re.정규식사용함수(패턴, 매개변수)\n",
    "    ```python\n",
    "        re.search(r'\\d+', 'abc123def')\n",
    "    ```"
   ]
  },
  {
   "cell_type": "markdown",
   "metadata": {
    "slideshow": {
     "slide_type": "slide"
    }
   },
   "source": [
    "## 3.2. 검색함수\n",
    "- match(), search() : 패턴과 일치하는 문장이 **있는지 여부**를 확인할 때 사용\n",
    "- findall() : 패턴과 일치하는 문장을 **찾을 때** 사용"
   ]
  },
  {
   "cell_type": "markdown",
   "metadata": {
    "slideshow": {
     "slide_type": "subslide"
    }
   },
   "source": [
    "### 3.2.1. Match 객체\n",
    "- **검색 결과를** 담아 반환되는 객체\n",
    "    - match(), search() 의 반환타\n",
    "- 패턴과 일치한 문자열과 대상문자열 내에서의 위치를 가지고 있는 객체\n",
    "- 주요 메소드\n",
    "    - **group()** : 매치된 문자열들을 튜플로 반환\n",
    "    - **group(subgroup 번호)** : 패턴에 하위그룹이 지정된 경우 특정 그룹의 문자열 반환\n",
    "    - **start(), end()** : 대상 문자열내에서 시작, 끝 index 반환\n",
    "    - **span()** : 대상 문자열 내에서 시작, 끝 index를 tuple로 반환"
   ]
  },
  {
   "cell_type": "markdown",
   "metadata": {
    "slideshow": {
     "slide_type": "subslide"
    }
   },
   "source": [
    "### 3.2.2 match(대상문자열 [, pos=0])\n",
    "- 대상 문자열의 시작 부터 정규식과 일치하는 것이 있는지 조회\n",
    "- pos : 시작 index 지정\n",
    "- 반환값\n",
    "    - Match 객체: 일치하는 문자열이 있는 경우\n",
    "    - None: 일치하는 문자열이 없는 경우"
   ]
  },
  {
   "cell_type": "code",
   "execution_count": 3,
   "metadata": {
    "scrolled": true
   },
   "outputs": [
    {
     "name": "stdout",
     "output_type": "stream",
     "text": [
      "<re.Match object; span=(0, 5), match='안녕하세요'>\n",
      "안녕하세요\n",
      "(0, 5)\n",
      "0\n",
      "5\n"
     ]
    }
   ],
   "source": [
    "import re\n",
    "txt = \"안녕하세요. 제 나이는 20세 입니다.\"\n",
    "#txt = \"반갑습니다. 제 나이는 20세 입니다.\"\n",
    "#txt = \"제 나이는 20세 입니다.\"\n",
    "# txt가 '안녕하세요' or '반갑습니다' 로 **시작**하는지 확인 => match() 함수 사용\n",
    "m = re.match(r'안녕하세요|반갑습니다', txt)\n",
    "print(m)\n",
    "print(m.group())\n",
    "print(m.span())\n",
    "print(m.start())\n",
    "print(m.end())\n",
    "# re.Match: 결과를 match에 담는다"
   ]
  },
  {
   "cell_type": "code",
   "execution_count": 4,
   "metadata": {},
   "outputs": [
    {
     "name": "stdout",
     "output_type": "stream",
     "text": [
      "안녕하세요\n"
     ]
    }
   ],
   "source": [
    "p=re.compile(r'안녕하세요|반갑습니다')\n",
    "m=p.match(txt)\n",
    "if m:  # 매치되는것이 존재한다. (True)\n",
    "    print(m.group())\n",
    "else:  # 존재하지 않는다. (False)\n",
    "    print(\"xxx\")"
   ]
  },
  {
   "cell_type": "code",
   "execution_count": 6,
   "metadata": {},
   "outputs": [
    {
     "name": "stdout",
     "output_type": "stream",
     "text": [
      "<re.Match object; span=(4, 9), match='안녕하세요'>\n"
     ]
    }
   ],
   "source": [
    "m2=p.search(\"abc 안녕하세요 반갑습니다 abc\") # 찾고자 하는 여러 문자열이 모두 존재해도 첫번째 패턴만 찾아내고 끝냄\n",
    "print(m2)"
   ]
  },
  {
   "cell_type": "code",
   "execution_count": 23,
   "metadata": {},
   "outputs": [
    {
     "name": "stdout",
     "output_type": "stream",
     "text": [
      "30\n"
     ]
    }
   ],
   "source": [
    "txt2=\"30으로 시작합니다.\"\n",
    "m = re.match(r'\\d{2}', txt2)  # \\d=>정수, \\d\\d or \\d{2} => 정수 2개로 시작하니?\n",
    "if m: # m값이 있다면=True라면, 즉 None 이 아니라면\n",
    "    print(m.group())\n",
    "else:\n",
    "    print(\"숫자로 시작안함\")"
   ]
  },
  {
   "cell_type": "code",
   "execution_count": 24,
   "metadata": {},
   "outputs": [
    {
     "name": "stdout",
     "output_type": "stream",
     "text": [
      "숫자로 시작안함\n"
     ]
    }
   ],
   "source": [
    "txt2=\"3으로 시작합니다.\"\n",
    "m = re.match(r'\\d{2}', txt2)  # \\d=>정수, \\d\\d or \\d{2} => 정수 2개로 시작하니?\n",
    "if m: # m값이 있다면=True라면, 즉 None 이 아니라면\n",
    "    print(m.group())\n",
    "else:\n",
    "    print(\"숫자로 시작안함\")"
   ]
  },
  {
   "cell_type": "markdown",
   "metadata": {
    "slideshow": {
     "slide_type": "subslide"
    }
   },
   "source": [
    "### 3.2.3 search(대상문자열 [, pos=0])\n",
    "- 대상문자열 전체 안에서 정규식과 일치하는 것이 있는지 조회\n",
    "- pos: 찾기 시작하는 index 지정\n",
    "- 반환값\n",
    "    - Match 객체: 일치하는 문자열이 있는 경우\n",
    "    - None: 일치하는 문자열이 없는 경우|"
   ]
  },
  {
   "cell_type": "code",
   "execution_count": 29,
   "metadata": {},
   "outputs": [
    {
     "name": "stdout",
     "output_type": "stream",
     "text": [
      "<re.Match object; span=(13, 15), match='20'>\n"
     ]
    }
   ],
   "source": [
    "txt = \"안녕하세요. 제 나이는 20세 30, 40 입니다.\"\n",
    "m = re.search(r'\\d{2}',txt) # 문자열내에 정수 2개가 있니? / match: 시작하니? search: 있니?\n",
    "print(m)"
   ]
  },
  {
   "cell_type": "code",
   "execution_count": 32,
   "metadata": {},
   "outputs": [
    {
     "data": {
      "text/plain": [
       "<re.Match object; span=(17, 19), match='30'>"
      ]
     },
     "execution_count": 32,
     "metadata": {},
     "output_type": "execute_result"
    }
   ],
   "source": [
    "p = re.compile(r'\\d{2}')\n",
    "m = p.search(txt, pos=15)   # 문자열의 15번째뒤로 정수 2개가 있니?\n",
    "m"
   ]
  },
  {
   "cell_type": "code",
   "execution_count": 35,
   "metadata": {},
   "outputs": [],
   "source": [
    "def my_search(pattern, txt):\n",
    "    p = re.compile(pattern)\n",
    "    m = p.search(txt)\n",
    "    return m"
   ]
  },
  {
   "cell_type": "code",
   "execution_count": 36,
   "metadata": {},
   "outputs": [
    {
     "name": "stdout",
     "output_type": "stream",
     "text": [
      "<re.Match object; span=(4, 6), match='20'>\n"
     ]
    }
   ],
   "source": [
    "m = my_search(r'\\d{2}', 'aaa 20 aaa')\n",
    "print(m)"
   ]
  },
  {
   "cell_type": "markdown",
   "metadata": {
    "slideshow": {
     "slide_type": "subslide"
    }
   },
   "source": [
    "### 3.2.4. findall(대상문자열)\n",
    "- 대상문자열에서 정규식과 매칭되는 문자열들을 리스트로 반환\n",
    "- 반환값\n",
    "    - 리스트(List) : 일치하는 문자열들을 가진 리스트를 반환\n",
    "    - 일치하는 문자열이 없는 경우 빈 리스트 반환"
   ]
  },
  {
   "cell_type": "code",
   "execution_count": 13,
   "metadata": {},
   "outputs": [
    {
     "name": "stdout",
     "output_type": "stream",
     "text": [
      "<re.Match object; span=(0, 1), match='L'>\n"
     ]
    },
    {
     "data": {
      "text/plain": [
       "['L',\n",
       " 'i',\n",
       " 'f',\n",
       " 'e',\n",
       " 'i',\n",
       " 's',\n",
       " 's',\n",
       " 'h',\n",
       " 'o',\n",
       " 'r',\n",
       " 't',\n",
       " 'Y',\n",
       " 'o',\n",
       " 'u',\n",
       " 'n',\n",
       " 'e',\n",
       " 'e',\n",
       " 'd',\n",
       " 'p',\n",
       " 'y',\n",
       " 't',\n",
       " 'h',\n",
       " 'o',\n",
       " 'n']"
      ]
     },
     "execution_count": 13,
     "metadata": {},
     "output_type": "execute_result"
    }
   ],
   "source": [
    "import re\n",
    "txt = 'Life is short. You need python.'\n",
    "p=re.compile(r'[a-zA-Z]')\n",
    "print(p.search(txt))  # search는 첫번째로 찾은 문자열만 반환\n",
    "p.findall(txt)   # a-zA-Z 에 매치되는 모!든! 문자열을 리스트로 반환"
   ]
  },
  {
   "cell_type": "code",
   "execution_count": 22,
   "metadata": {},
   "outputs": [
    {
     "name": "stdout",
     "output_type": "stream",
     "text": [
      "<re.Match object; span=(0, 4), match='Life'>\n"
     ]
    },
    {
     "data": {
      "text/plain": [
       "['Life', 'is', 'short', 'You', 'need', 'python']"
      ]
     },
     "execution_count": 22,
     "metadata": {},
     "output_type": "execute_result"
    }
   ],
   "source": [
    "import re\n",
    "txt = 'Life is short. You need python.'\n",
    "p=re.compile(r'[a-zA-Z]+')  # +: 앞의 패턴이 여러번(1번이상) 반복\n",
    "print(p.search(txt))  # search는 첫번째로 찾은 문자열만 반환\n",
    "p.findall(txt)   # a-zA-Z 에 매치되는 모!든! 문자열을 리스트로 반환"
   ]
  },
  {
   "cell_type": "code",
   "execution_count": 23,
   "metadata": {},
   "outputs": [
    {
     "data": {
      "text/plain": [
       "['Life', 'shor', 'need', 'pyth']"
      ]
     },
     "execution_count": 23,
     "metadata": {},
     "output_type": "execute_result"
    }
   ],
   "source": [
    "r=p.findall(txt)   # a-zA-Z 에 매치되는 모!든! 문자열을 리스트로 반환\n",
    "r2=re.findall(r'[a-zA-Z]{4}', txt) # {4}: 앞의 패턴이 4개가 연속되게 반환 ex)is뒤에는 공백이므로 탈락, short는 4개만 연속되므로 shor까지 반환\n",
    "r2"
   ]
  },
  {
   "cell_type": "markdown",
   "metadata": {
    "slideshow": {
     "slide_type": "slide"
    }
   },
   "source": [
    "### 예제\n",
    "- info 변수는 한줄에 한사람의 data가 있고 구성은 **`이름 이메일주소 주민번호`** 순서로 되어있다."
   ]
  },
  {
   "cell_type": "code",
   "execution_count": 25,
   "metadata": {},
   "outputs": [],
   "source": [
    "info ='''김정수 kjs@gmail.com 801023-1010221\n",
    "박영수 pys@gmail.com 700121-1120212\n",
    "이민영 lmy@naver.com 820301-2020122\n",
    "김순희 ksh@daum.net 781223-2012212\n",
    "오주연 ojy@daum.net 900522-1023218\n",
    "'''\n",
    "\n",
    "# [0-9a-zA-Z]+@[a-zA-Z]+\\.[a-zA-Z]{2,3}\n",
    "# \\w: [모든문자열,숫자,_]\n",
    "# [abc ]"
   ]
  },
  {
   "cell_type": "code",
   "execution_count": null,
   "metadata": {},
   "outputs": [],
   "source": []
  },
  {
   "cell_type": "code",
   "execution_count": 34,
   "metadata": {},
   "outputs": [
    {
     "name": "stdout",
     "output_type": "stream",
     "text": [
      "<re.Match object; span=(4, 17), match='kjs@gmail.com'>\n"
     ]
    }
   ],
   "source": [
    "# 이메일 주소만 조회\n",
    "import re\n",
    "pattern=r'[0-9a-zA-Z](?:[-_.]?[0-9a-zA-Z])*@[0-9a-zA-Z](?:[-_.]?[0-9a-zA-Z])*.[a-zA-Z]{2,3}'\n",
    "p=re.compile(pattern)\n",
    "# 이메일 주소가 존재하는지 여부만 확인\n",
    "m = p.search(info)\n",
    "if m:\n",
    "    print(m)\n",
    "else:\n",
    "    print(\"이메일주소 없음\")"
   ]
  },
  {
   "cell_type": "code",
   "execution_count": 37,
   "metadata": {},
   "outputs": [
    {
     "data": {
      "text/plain": [
       "['kjs@gmail.com',\n",
       " 'pys@gmail.com',\n",
       " 'lmy@naver.com',\n",
       " 'ksh@daum.net',\n",
       " 'ojy@daum.net']"
      ]
     },
     "execution_count": 37,
     "metadata": {},
     "output_type": "execute_result"
    }
   ],
   "source": [
    "# 모든 이메일 주소 조회\n",
    "email_list=p.findall(info)\n",
    "email_list\n",
    "#for email in p.finditer(info):\n",
    "#    print(email)"
   ]
  },
  {
   "cell_type": "code",
   "execution_count": 39,
   "metadata": {
    "scrolled": true
   },
   "outputs": [
    {
     "data": {
      "text/plain": [
       "['801023-1010221',\n",
       " '700121-1120212',\n",
       " '820301-2020122',\n",
       " '781223-2012212',\n",
       " '900522-1023218']"
      ]
     },
     "execution_count": 39,
     "metadata": {},
     "output_type": "execute_result"
    }
   ],
   "source": [
    "# 주민번호만 출력  {}:개수 => {6}:6개 / {6,10}:6~10개 / {6,}:6개 이상\n",
    "pattern=r'[0-9]{6}-[1-4][0-9]{6}'  # [1-4] or [1234] : 1,2,3,4 중 하나\n",
    "# 다른 방법 => pattern=r'\\d{6}-[1-4]\\d{6}'  # \\d == [0-9]: 숫자 1개\n",
    "\n",
    "p=re.compile(pattern)\n",
    "j_list=p.findall(info)\n",
    "j_list"
   ]
  },
  {
   "cell_type": "markdown",
   "metadata": {},
   "source": [
    "### finditer(대상문자열)\n",
    " - 패턴에 일치하는 모든 문자열을 찾아주는 Iterator => for문, list()\n",
    " - 찾은 문자열을 Match 객체로 반환 "
   ]
  },
  {
   "cell_type": "code",
   "execution_count": 40,
   "metadata": {},
   "outputs": [],
   "source": [
    "import re"
   ]
  },
  {
   "cell_type": "code",
   "execution_count": 51,
   "metadata": {},
   "outputs": [
    {
     "name": "stdout",
     "output_type": "stream",
     "text": [
      "801023-1010221 18 32 (18, 32)\n",
      "700121-1120212 51 65 (51, 65)\n",
      "820301-2020122 84 98 (84, 98)\n",
      "781223-2012212 116 130 (116, 130)\n",
      "900522-1023218 148 162 (148, 162)\n"
     ]
    },
    {
     "data": {
      "text/plain": [
       "<callable_iterator at 0x19098f6ed68>"
      ]
     },
     "execution_count": 51,
     "metadata": {},
     "output_type": "execute_result"
    }
   ],
   "source": [
    "pattern=r'\\d{6}-[1234]\\d{6}'\n",
    "p=re.compile(pattern)\n",
    "for m in p.finditer(info):\n",
    "#    print(m)\n",
    "    print(m.group(),m.start(),m.end(),m.span())\n",
    "    \n",
    "# re.finditer(pattern,info)"
   ]
  },
  {
   "cell_type": "markdown",
   "metadata": {
    "slideshow": {
     "slide_type": "subslide"
    }
   },
   "source": [
    "## 3.3. 문자열 변경\n",
    "- sub(): 변경된 문자열 반환\n",
    "- subn(): 변경된 문자열, 변경개수 반환"
   ]
  },
  {
   "cell_type": "markdown",
   "metadata": {
    "slideshow": {
     "slide_type": "subslide"
    }
   },
   "source": [
    "### 3.3.1 sub(바꿀문자열, 대상문자열 [, count=양수])\n",
    "- 대상문자열에서 패턴과 일치하는 것을 바꿀문자열로 변경한다.\n",
    "- count: 변경할 개수를 지정. 기본: 매칭되는 문자열은 다 변경\n",
    "- 반환값: 변경된 문자열\n",
    "\n",
    "### 3.3.2 subn(바꿀문자열, 대상문자열 [, count=양수])\n",
    "- sub()와 동일한 역할.\n",
    "- 반환값 : (변경된 문자열, 변경된문자열개수) 를 tuple로 반환"
   ]
  },
  {
   "cell_type": "code",
   "execution_count": null,
   "metadata": {},
   "outputs": [],
   "source": []
  },
  {
   "cell_type": "markdown",
   "metadata": {
    "slideshow": {
     "slide_type": "slide"
    }
   },
   "source": [
    "### 예제 "
   ]
  },
  {
   "cell_type": "code",
   "execution_count": 52,
   "metadata": {},
   "outputs": [
    {
     "data": {
      "text/plain": [
       "'오늘 밥을 먹었다.'"
      ]
     },
     "execution_count": 52,
     "metadata": {},
     "output_type": "execute_result"
    }
   ],
   "source": [
    "# 띄여 쓰기 여러개를 한개로 변경.\n",
    "txt= \"오늘            밥을           먹었다.\" # \"오늘 밥을 먹었다.\"\n",
    "import re\n",
    "#p = re.compile(r'[ ]+') # [ ]+ : 연이은 공백 여러개\n",
    "p = re.compile(r'\\s+')  # \\s: 공백 하나 \\s+: 공백 여러개\n",
    "txt2 = p.sub(' ', txt)  # ' ': 공백 하나로 변경 \n",
    "txt2"
   ]
  },
  {
   "cell_type": "code",
   "execution_count": 54,
   "metadata": {},
   "outputs": [
    {
     "data": {
      "text/plain": [
       "('오늘 밥을 먹었다.', 2)"
      ]
     },
     "execution_count": 54,
     "metadata": {},
     "output_type": "execute_result"
    }
   ],
   "source": [
    "txt3 = p.subn(' ', txt)  # subn: 변경 후 변경된 문자의 개수도 반환\n",
    "txt3"
   ]
  },
  {
   "cell_type": "code",
   "execution_count": 55,
   "metadata": {
    "scrolled": true
   },
   "outputs": [
    {
     "data": {
      "text/plain": [
       "('010111122220103321320101032133031', 8)"
      ]
     },
     "execution_count": 55,
     "metadata": {},
     "output_type": "execute_result"
    }
   ],
   "source": [
    "# 전화번호에서 사용된 구분자를 제거. 각 전화번호를 구분하는 공백은 남긴다.\n",
    "tel = '010-1111-2222, 01033213201 (010)3213-3031'\n",
    "# pattern=r'^a' : 문자열로 a로 시작하여라 r'[^abc]': abc를 제외한 나머지\n",
    "pattern=r'[^0-9]'\n",
    "p=re.compile(pattern)\n",
    "tel2=p.subn(\"\",tel)  # \"\": 지워라 / \" \":공백\n",
    "tel2"
   ]
  },
  {
   "cell_type": "code",
   "execution_count": 56,
   "metadata": {},
   "outputs": [
    {
     "data": {
      "text/plain": [
       "('01011112222 01033213201 01032133031', 6)"
      ]
     },
     "execution_count": 56,
     "metadata": {},
     "output_type": "execute_result"
    }
   ],
   "source": [
    "pattern=r'[^0-9 ]'  # 구분자 공백을 포함하려면 뒤에 공백표시\n",
    "p=re.compile(pattern)\n",
    "tel3=p.subn(\"\",tel)  # \"\": 지워라 / \" \":공백\n",
    "tel3"
   ]
  },
  {
   "cell_type": "markdown",
   "metadata": {
    "slideshow": {
     "slide_type": "subslide"
    }
   },
   "source": [
    "## 3.4 나누기(토큰화)\n",
    "### 3.4.1 split(대상문자열)\n",
    "- pattern을 구분자로 문장을 나눈다.\n",
    "- 반환: 나눈 문자열을 원소로 하는 리스트"
   ]
  },
  {
   "cell_type": "code",
   "execution_count": 59,
   "metadata": {},
   "outputs": [],
   "source": [
    "txt = 'A.B|C.D,E:F'"
   ]
  },
  {
   "cell_type": "code",
   "execution_count": 60,
   "metadata": {},
   "outputs": [
    {
     "data": {
      "text/plain": [
       "['A', 'B', 'C', 'D', 'E', 'F']"
      ]
     },
     "execution_count": 60,
     "metadata": {},
     "output_type": "execute_result"
    }
   ],
   "source": [
    "import re\n",
    "p=re.compile(r'[.|,:]')\n",
    "l=p.split(txt)\n",
    "l"
   ]
  },
  {
   "cell_type": "code",
   "execution_count": 62,
   "metadata": {},
   "outputs": [
    {
     "data": {
      "text/plain": [
       "['', '.', '|', '.', ',', ':', '']"
      ]
     },
     "execution_count": 62,
     "metadata": {},
     "output_type": "execute_result"
    }
   ],
   "source": [
    "re.split(r'\\w', txt)  # 글자가 구분자가 되어 특수문자가 분리됨"
   ]
  },
  {
   "cell_type": "code",
   "execution_count": 63,
   "metadata": {},
   "outputs": [
    {
     "data": {
      "text/plain": [
       "['A', 'B', 'C', 'D', 'E', 'F']"
      ]
     },
     "execution_count": 63,
     "metadata": {},
     "output_type": "execute_result"
    }
   ],
   "source": [
    "re.split(r'\\W', txt)  # \\W: \\w의 반대 즉 문자빼고 나머지가 구분자가 됨"
   ]
  },
  {
   "cell_type": "markdown",
   "metadata": {
    "slideshow": {
     "slide_type": "slide"
    }
   },
   "source": [
    "# 4. 그룹핑(Grouping)\n",
    "- 패턴 내에서 하위패턴을 만드는 것.\n",
    "    - 전체 패턴에서 일부 패턴을 묶어준다.\n",
    "- 구문: (패턴)"
   ]
  },
  {
   "cell_type": "markdown",
   "metadata": {
    "ExecuteTime": {
     "end_time": "2019-05-16T00:50:03.543080Z",
     "start_time": "2019-05-16T00:50:03.537062Z"
    },
    "slideshow": {
     "slide_type": "subslide"
    }
   },
   "source": [
    "## 4.1. 그룹핑 예"
   ]
  },
  {
   "cell_type": "markdown",
   "metadata": {
    "ExecuteTime": {
     "end_time": "2019-05-16T00:56:13.966065Z",
     "start_time": "2019-05-16T00:56:13.960644Z"
    },
    "slideshow": {
     "slide_type": "subslide"
    }
   },
   "source": [
    "### 4.1.1 전체 패턴 내에서 일부 패턴을 조회"
   ]
  },
  {
   "cell_type": "code",
   "execution_count": 70,
   "metadata": {},
   "outputs": [
    {
     "name": "stdout",
     "output_type": "stream",
     "text": [
      "010-1111-2345\n",
      "010\n",
      "1111\n",
      "2345\n"
     ]
    }
   ],
   "source": [
    "# 전화번호에서 국번만 조회하려는 경우\n",
    "tel = 'TEL:010-1111-2345'\n",
    "pattern=r'(\\d{2,3})-(\\d{3,4})-(\\d{4})'  # 전체 전화번호 패턴을 먼저 생성해야 함\n",
    "p = re.compile(pattern)\n",
    "m = p.search(tel)\n",
    "if m:\n",
    "    print(m.group())\n",
    "    print(m.group(1))  # 패턴 중 첫번째 괄호의 값만 반환\n",
    "    print(m.group(2))\n",
    "    print(m.group(3))"
   ]
  },
  {
   "cell_type": "code",
   "execution_count": 76,
   "metadata": {},
   "outputs": [
    {
     "name": "stdout",
     "output_type": "stream",
     "text": [
      "010-1111-2345\n",
      "010\n",
      "1111-2345\n",
      "1111\n",
      "2345\n"
     ]
    }
   ],
   "source": [
    "pattern=r'(\\d{2,3})-((\\d{3,4})-(\\d{4}))'\n",
    "p = re.compile(pattern)\n",
    "m = p.search(tel)\n",
    "if m:\n",
    "    print(m.group())\n",
    "    print(m.group(1))  # 패턴 중 첫번째 괄호의 값만 반환\n",
    "    print(m.group(2))\n",
    "    print(m.group(3))\n",
    "    print(m.group(4))"
   ]
  },
  {
   "cell_type": "code",
   "execution_count": null,
   "metadata": {},
   "outputs": [],
   "source": [
    "# 중첩 그룹\n",
    "num = '010-1111-2345-9999'\n"
   ]
  },
  {
   "cell_type": "markdown",
   "metadata": {
    "slideshow": {
     "slide_type": "subslide"
    }
   },
   "source": [
    "### 4.1.2 패턴 내에서 하위그룹 참조\n",
    "- `\\번호`\n",
    "- 지정한 '번호' 번째 패턴으로 매칭된 문자열과 같은 문자열을 의미"
   ]
  },
  {
   "cell_type": "code",
   "execution_count": 83,
   "metadata": {},
   "outputs": [
    {
     "name": "stdout",
     "output_type": "stream",
     "text": [
      "None\n",
      "None\n",
      "None\n",
      "<re.Match object; span=(0, 12), match='010-3232-010'>\n"
     ]
    }
   ],
   "source": [
    "import re\n",
    "# p=re.compile(r'\\d{2,3}-(\\d{3,4})-\\1')  # \\1: 앞의 패턴과 일치하는 것 즉, 반복되는 것 ex)010-3232-3232\n",
    "p=re.compile(r'(\\d{2,3})-(\\d{3,4})-\\1')\n",
    "print(p.search('010-2222-3333'))\n",
    "print(p.search('010-3333-3333'))\n",
    "print(p.search('010-3232-3232'))\n",
    "print(p.search('010-3232-010'))"
   ]
  },
  {
   "cell_type": "code",
   "execution_count": 84,
   "metadata": {
    "scrolled": true
   },
   "outputs": [
    {
     "name": "stdout",
     "output_type": "stream",
     "text": [
      "<re.Match object; span=(3, 8), match='정말 정말'>\n"
     ]
    }
   ],
   "source": [
    "p=re.compile(r'(\\w+)\\s\\1')\n",
    "print(p.search('나는 정말 정말 배가 고파요'))"
   ]
  },
  {
   "cell_type": "code",
   "execution_count": 85,
   "metadata": {},
   "outputs": [
    {
     "name": "stdout",
     "output_type": "stream",
     "text": [
      "<re.Match object; span=(3, 11), match='정말 정말 정말'>\n"
     ]
    }
   ],
   "source": [
    "p=re.compile(r'(\\w+)\\s\\1\\s\\1')\n",
    "print(p.search('나는 정말 정말 정말 배가 고파요'))"
   ]
  },
  {
   "cell_type": "code",
   "execution_count": 86,
   "metadata": {},
   "outputs": [
    {
     "data": {
      "text/plain": [
       "'891105-2******'"
      ]
     },
     "execution_count": 86,
     "metadata": {},
     "output_type": "execute_result"
    }
   ],
   "source": [
    "# 주민번호 뒷자리 변경\n",
    "jumin='891105-2222222'\n",
    "pattern=r'(\\d{6}-[1-4])\\d{6}'  # 바꾸지 않을것은 ()로 묶는다\n",
    "p=re.compile(pattern)\n",
    "p.sub(r'\\g<1>******',jumin)  # \\g<1>: 첫번째 그룹은 그대로"
   ]
  },
  {
   "cell_type": "code",
   "execution_count": 88,
   "metadata": {},
   "outputs": [
    {
     "name": "stdout",
     "output_type": "stream",
     "text": [
      "김정수 kjs@gmail.com 801023-1******\n",
      "박영수 pys@gmail.com 700121-1******\n",
      "이민영 lmy@naver.com 820301-2******\n",
      "김순희 ksh@daum.net 781223-2******\n",
      "오주연 ojy@daum.net 900522-1******\n",
      "\n"
     ]
    }
   ],
   "source": [
    "print(p.sub('\\g<1>******',info))"
   ]
  },
  {
   "cell_type": "code",
   "execution_count": 103,
   "metadata": {
    "scrolled": true
   },
   "outputs": [
    {
     "name": "stdout",
     "output_type": "stream",
     "text": [
      "891105-891105-891105\n",
      "891105-891105-891105:2222222-2222222***안녕\n",
      "891105\n"
     ]
    }
   ],
   "source": [
    "pattern=r'(\\d{6})-(\\d{7})'\n",
    "p=re.compile(pattern)\n",
    "print(p.sub('\\g<1>-\\g<1>-\\g<1>', jumin))   # 앞의 그룹을 반복하여 반환   \n",
    "print(p.sub('\\g<1>-\\g<1>-\\g<1>:\\g<2>-\\g<2>***안녕', jumin))\n",
    "print(p.sub('\\g<1>', jumin))"
   ]
  },
  {
   "cell_type": "markdown",
   "metadata": {},
   "source": [
    "### group으로 묶인 것 참조(조회)\n",
    " - 패턴 안에서 참조\n",
    "     - `\\번호`, `r'(\\d{3} \\1)'` => 중복되는 것을 패턴으로 표현할 때\n",
    " - match 조회\n",
    "     - match객체.group(번호)\n",
    " - sub() 함수에서 대체 문자로 참조\n",
    "     - `\\g<번호>`"
   ]
  },
  {
   "cell_type": "markdown",
   "metadata": {
    "slideshow": {
     "slide_type": "slide"
    }
   },
   "source": [
    "# 5. Greedy 와 Non-Greedy\n",
    "- Greedy(탐욕스러운-최대일치) 의 의미\n",
    "    - 주어진 패턴에 만족하는 문자열을 최대한 넓게(길게) 잡아 찾는다.\n",
    "    - 매칭시 기본 방식\n",
    "- Non-Greedy(최소일치)\n",
    "    - 주어진 패턴에 만족하는 문자열을 최초의 일치하는 위치까지 찾는다\n",
    "    - 개수를 나타내는 메타문자에 **`?`**를 붙인다.\n",
    "    - `*?`, `+?`, `{m,n}?`"
   ]
  },
  {
   "cell_type": "code",
   "execution_count": 104,
   "metadata": {},
   "outputs": [
    {
     "data": {
      "text/plain": [
       "['<h1>파이썬 정규식<h2>정규식이란</h2></h1>']"
      ]
     },
     "execution_count": 104,
     "metadata": {},
     "output_type": "execute_result"
    }
   ],
   "source": [
    "txt = '<h1>파이썬 정규식<h2>정규식이란</h2></h1>'\n",
    "pattern=r'<.*>'  # <.*>: 문장내 <가 시작하는 순간부터 문장 내 마지막 >까지 싹 다 반환     /  .: 문자or숫자 한글자  .*: 한글자 이상\n",
    "p=re.compile(pattern)\n",
    "p.findall(txt)\n"
   ]
  },
  {
   "cell_type": "code",
   "execution_count": 106,
   "metadata": {},
   "outputs": [
    {
     "data": {
      "text/plain": [
       "['<h1>', '<h2>', '</h2>', '</h1>']"
      ]
     },
     "execution_count": 106,
     "metadata": {},
     "output_type": "execute_result"
    }
   ],
   "source": [
    "txt = '<h1>파이썬 정규식<h2>정규식이란</h2></h1>'\n",
    "pattern=r'<.*?>'  # <.*?>: 뒤에 ?를 붙이면 < >을 하나씩 각각 따로 반환\n",
    "p=re.compile(pattern)\n",
    "p.findall(txt)"
   ]
  }
 ],
 "metadata": {
  "kernelspec": {
   "display_name": "Python 3",
   "language": "python",
   "name": "python3"
  },
  "language_info": {
   "codemirror_mode": {
    "name": "ipython",
    "version": 3
   },
   "file_extension": ".py",
   "mimetype": "text/x-python",
   "name": "python",
   "nbconvert_exporter": "python",
   "pygments_lexer": "ipython3",
   "version": "3.7.3"
  },
  "toc": {
   "base_numbering": 1,
   "nav_menu": {},
   "number_sections": false,
   "sideBar": false,
   "skip_h1_title": false,
   "title_cell": "Table of Contents",
   "title_sidebar": "Contents",
   "toc_cell": false,
   "toc_position": {
    "height": "606.319px",
    "left": "10px",
    "top": "150px",
    "width": "336.889px"
   },
   "toc_section_display": false,
   "toc_window_display": false
  },
  "varInspector": {
   "cols": {
    "lenName": 16,
    "lenType": 16,
    "lenVar": 40
   },
   "kernels_config": {
    "python": {
     "delete_cmd_postfix": "",
     "delete_cmd_prefix": "del ",
     "library": "var_list.py",
     "varRefreshCmd": "print(var_dic_list())"
    },
    "r": {
     "delete_cmd_postfix": ") ",
     "delete_cmd_prefix": "rm(",
     "library": "var_list.r",
     "varRefreshCmd": "cat(var_dic_list()) "
    }
   },
   "types_to_exclude": [
    "module",
    "function",
    "builtin_function_or_method",
    "instance",
    "_Feature"
   ],
   "window_display": false
  }
 },
 "nbformat": 4,
 "nbformat_minor": 2
}
