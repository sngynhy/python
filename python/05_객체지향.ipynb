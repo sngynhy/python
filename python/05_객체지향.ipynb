{
 "cells": [
  {
   "cell_type": "markdown",
   "metadata": {},
   "source": [
    "## 클래스 구현\n",
    "```python\n",
    "class 이름:\n",
    "    구현\n",
    "\n",
    "```"
   ]
  },
  {
   "cell_type": "markdown",
   "metadata": {},
   "source": [
    "## 객체(instance) 생성\n",
    " 변수 = 클래스이름()"
   ]
  },
  {
   "cell_type": "code",
   "execution_count": 1,
   "metadata": {},
   "outputs": [],
   "source": [
    "class Person:\n",
    "    pass  # 구현은 나중에 할거야!"
   ]
  },
  {
   "cell_type": "code",
   "execution_count": 2,
   "metadata": {},
   "outputs": [],
   "source": [
    "# Person 클래스의 객체 생성\n",
    "p = Person()"
   ]
  },
  {
   "cell_type": "markdown",
   "metadata": {},
   "source": [
    "### 속성(attribute)을 추가\n",
    " - instance (member) 변수\n",
    " - 객체(instance).변수명 = 값   <- 많이 사용하지 않는 방법\n",
    "     - 객체가 이미 가지고 있는 변수일 경우는 **변경**, 없는 변수일 경우엔 **추가**\n",
    " - 생성자/메소드를 통해 변수 추가   <- 대게 이 방법으로 사용\n",
    " - 속성을 조회(사용)\n",
    "     - 객체.변수명"
   ]
  },
  {
   "cell_type": "code",
   "execution_count": 3,
   "metadata": {},
   "outputs": [],
   "source": [
    "p.name = \"홍길동\"  # p 객체에 이름, 나이, 주소 등 속성(atrribute) 넣기\n",
    "p.age = 20\n",
    "p.address = \"서울\""
   ]
  },
  {
   "cell_type": "code",
   "execution_count": 5,
   "metadata": {},
   "outputs": [
    {
     "name": "stdout",
     "output_type": "stream",
     "text": [
      "홍길동\n",
      "20\n",
      "서울\n"
     ]
    }
   ],
   "source": [
    "print(p.name)\n",
    "print(p.age)\n",
    "print(p.address)"
   ]
  },
  {
   "cell_type": "code",
   "execution_count": 7,
   "metadata": {},
   "outputs": [],
   "source": [
    "p2 = Person()\n",
    "p2.name=\"이순신\"\n",
    "p2.email=\"abc@a.com\""
   ]
  },
  {
   "cell_type": "code",
   "execution_count": 10,
   "metadata": {},
   "outputs": [
    {
     "name": "stdout",
     "output_type": "stream",
     "text": [
      "이순신\n"
     ]
    },
    {
     "ename": "AttributeError",
     "evalue": "'Person' object has no attribute 'age'",
     "output_type": "error",
     "traceback": [
      "\u001b[1;31m---------------------------------------------------------------------------\u001b[0m",
      "\u001b[1;31mAttributeError\u001b[0m                            Traceback (most recent call last)",
      "\u001b[1;32m<ipython-input-10-41ca42ee6019>\u001b[0m in \u001b[0;36m<module>\u001b[1;34m\u001b[0m\n\u001b[0;32m      1\u001b[0m \u001b[0mprint\u001b[0m\u001b[1;33m(\u001b[0m\u001b[0mp2\u001b[0m\u001b[1;33m.\u001b[0m\u001b[0mname\u001b[0m\u001b[1;33m)\u001b[0m\u001b[1;33m\u001b[0m\u001b[1;33m\u001b[0m\u001b[0m\n\u001b[1;32m----> 2\u001b[1;33m \u001b[0mprint\u001b[0m\u001b[1;33m(\u001b[0m\u001b[0mp2\u001b[0m\u001b[1;33m.\u001b[0m\u001b[0mage\u001b[0m\u001b[1;33m)\u001b[0m \u001b[1;31m# p2 객체에 age속성이 없기때문에 오류\u001b[0m\u001b[1;33m\u001b[0m\u001b[1;33m\u001b[0m\u001b[0m\n\u001b[0m",
      "\u001b[1;31mAttributeError\u001b[0m: 'Person' object has no attribute 'age'"
     ]
    }
   ],
   "source": [
    "print(p2.name)\n",
    "print(p2.age) # p2 객체에 age속성이 없기때문에 오류"
   ]
  },
  {
   "cell_type": "code",
   "execution_count": 12,
   "metadata": {},
   "outputs": [
    {
     "name": "stdout",
     "output_type": "stream",
     "text": [
      "박영수\n"
     ]
    }
   ],
   "source": [
    "# 값이 존재하는 속성에 새로운 값을 씌우면 변경, 값이 존재하지 않는 경우엔 추가\n",
    "p2.name=\"박영수\"\n",
    "print(p2.name)"
   ]
  },
  {
   "cell_type": "markdown",
   "metadata": {},
   "source": [
    "### 생성자\n",
    " - 클래스에서 객체 생성할 때 호출되는 기능(이때 딱 한번 호출됨)\n",
    " - atrribute(instance변수) 값 초기화하는 코드를 구현\n",
    " \n",
    " ```python\n",
    "def __ init__(self, 매개변수):    -> 매개변수 는 생략 가능\n",
    "    구현                             -> attribute 초기화\n",
    " ```\n",
    " \n",
    " - 매개변수를 선언 : 객체 생성하는 곳에서 속성에 넣어줄 값을 받을 경우 선언\n",
    "\n",
    "### self\n",
    " - 생성자/instance 메소드의 첫번째 매개변수로 선언\n",
    "     - 관례적으로 self로 선언\n",
    " - 생성자/instance 메소드를 가지고 있는 객체 자체를 가르킨다.\n",
    " - self를 이용해 생성자나 메소드가 attribute 또는 다른 instance 메소드를 호출할 수 있다."
   ]
  },
  {
   "cell_type": "code",
   "execution_count": 14,
   "metadata": {},
   "outputs": [],
   "source": [
    "class Person2:\n",
    "    \n",
    "    def __init__(self):\n",
    "        self.name = None\n",
    "        self.age = 0\n",
    "        self.address = \"서울\"\n",
    "        \n",
    "p3=Person2()  # person2() -> 클래스의 생성자가 호출됨"
   ]
  },
  {
   "cell_type": "code",
   "execution_count": 15,
   "metadata": {},
   "outputs": [
    {
     "name": "stdout",
     "output_type": "stream",
     "text": [
      "None\n",
      "0\n",
      "서울\n"
     ]
    }
   ],
   "source": [
    "print(p3.name)\n",
    "print(p3.age)\n",
    "print(p3.address)"
   ]
  },
  {
   "cell_type": "code",
   "execution_count": 22,
   "metadata": {},
   "outputs": [
    {
     "name": "stdout",
     "output_type": "stream",
     "text": [
      "성윤혜 31 인천\n"
     ]
    }
   ],
   "source": [
    "# 매개변수가 있는 생성자\n",
    "class Person3:\n",
    "\n",
    "    def __init__(self, name, age, address):\n",
    "        self.name = name\n",
    "        self.age = age\n",
    "        self.address = address\n",
    "\n",
    "p4 = Person3(\"성윤혜\",31,\"인천\")\n",
    "print(p4.name, p4.age, p4.address)"
   ]
  },
  {
   "cell_type": "code",
   "execution_count": 30,
   "metadata": {},
   "outputs": [
    {
     "name": "stdout",
     "output_type": "stream",
     "text": [
      "김영후 29 None\n"
     ]
    }
   ],
   "source": [
    "class Person3:\n",
    "\n",
    "    def __init__(self, name, age, address=None):\n",
    "        self.name = name\n",
    "        self.age = age\n",
    "        self.address = address\n",
    "\n",
    "p5 = Person3(\"김영후\",29)  # 주소 변수는 생략했으므로 기본값 None 반환\n",
    "print(p5.name, p5.age, p5.address)"
   ]
  },
  {
   "cell_type": "markdown",
   "metadata": {},
   "source": [
    "### Instance 메소드\n",
    " - 객체가 제공하는 기능(동작)\n",
    " - 주로 attribute와 관련된 작업을 처리한다.\n",
    " \n",
    "```python\n",
    "def 이름(self, 매개변수):\n",
    "    구현\n",
    "```\n",
    "\n",
    "호출: 객체.메소드이름(인자)"
   ]
  },
  {
   "cell_type": "code",
   "execution_count": 61,
   "metadata": {},
   "outputs": [],
   "source": [
    "# 생성자 + 메소드\n",
    "class Person4:\n",
    "    def __init__(self, name, age, address=None):\n",
    "        self.name = name\n",
    "        self.age = age\n",
    "        self.address = address\n",
    "        \n",
    "    def get_person_info(self):\n",
    "        \"\"\"attribute들을 하나의 문자열로 묶어서 리턴하는 메소드\n",
    "        매개변수\n",
    "        리턴값\n",
    "            str: 이름, 나이, 주소를 문자열로 묶어 반환\n",
    "        \"\"\"\n",
    "        info=\"이름:{},나이:{},주소:{}\".format(self.name, self.age, self.address)\n",
    "        \n",
    "        return info\n",
    "    \n",
    "    # 속성의 값을 변경하는 메소드: set_속성명()\n",
    "    def set_name(self, name):  # 이름 변경\n",
    "        if name.strip():\n",
    "            self.name = name\n",
    "        else:\n",
    "            print(\"이름은 한글자 이상 넣으시오\")\n",
    "            \n",
    "    def set_age(self, age):   # 나이 변경 ...\n",
    "        if age >= 0:\n",
    "            self.age = age\n",
    "        else:\n",
    "            print(\"나이에 0 이상의 정수를 넣으시오\")\n",
    "    \n",
    "    def set_address(self, address):\n",
    "        self.address = address\n",
    "        \n",
    "    # 속성의 값은 반환하는 메소드: get_속성명()\n",
    "    def get_name(self):\n",
    "        return self.name\n",
    "\n",
    "    def get_age(self):\n",
    "        return self.age\n",
    "    \n",
    "    def get_address(self):\n",
    "        return self.address"
   ]
  },
  {
   "cell_type": "code",
   "execution_count": 62,
   "metadata": {},
   "outputs": [
    {
     "name": "stdout",
     "output_type": "stream",
     "text": [
      "이름:홍길동,나이:12,주소:부산시\n"
     ]
    }
   ],
   "source": [
    "p6=Person4(\"홍길동\",12,\"부산시\")\n",
    "\n",
    "info=p6.get_person_info()\n",
    "print(info)"
   ]
  },
  {
   "cell_type": "code",
   "execution_count": 63,
   "metadata": {},
   "outputs": [],
   "source": [
    "p6.set_name(\"이순신\")"
   ]
  },
  {
   "cell_type": "code",
   "execution_count": 47,
   "metadata": {},
   "outputs": [],
   "source": [
    "p7=Person4(\"홍길동\",20,\"인천\")"
   ]
  },
  {
   "cell_type": "code",
   "execution_count": 49,
   "metadata": {},
   "outputs": [
    {
     "name": "stdout",
     "output_type": "stream",
     "text": [
      "나이에 0 이상의 정수를 넣으시오\n"
     ]
    },
    {
     "data": {
      "text/plain": [
       "20"
      ]
     },
     "execution_count": 49,
     "metadata": {},
     "output_type": "execute_result"
    }
   ],
   "source": [
    "p7.set_age(-30)\n",
    "p7.get_age()"
   ]
  },
  {
   "cell_type": "code",
   "execution_count": 52,
   "metadata": {},
   "outputs": [
    {
     "name": "stdout",
     "output_type": "stream",
     "text": [
      "이름은 한글자 이상 넣으시오\n"
     ]
    },
    {
     "data": {
      "text/plain": [
       "'홍길동'"
      ]
     },
     "execution_count": 52,
     "metadata": {},
     "output_type": "execute_result"
    }
   ],
   "source": [
    "p7.set_name(\" \")\n",
    "p7.get_name()"
   ]
  },
  {
   "cell_type": "code",
   "execution_count": 54,
   "metadata": {},
   "outputs": [
    {
     "data": {
      "text/plain": [
       "'새이름'"
      ]
     },
     "execution_count": 54,
     "metadata": {},
     "output_type": "execute_result"
    }
   ],
   "source": [
    "p7.set_name(\"새이름\")\n",
    "p7.get_name()"
   ]
  },
  {
   "cell_type": "code",
   "execution_count": 64,
   "metadata": {},
   "outputs": [
    {
     "data": {
      "text/plain": [
       "{'name': '새이름', 'age': 20, 'address': '인천'}"
      ]
     },
     "execution_count": 64,
     "metadata": {},
     "output_type": "execute_result"
    }
   ],
   "source": [
    "# 객체.__dict__ : 객체의 속성들을 조회(dictionary로 반환)\n",
    "p7.__dict__"
   ]
  },
  {
   "cell_type": "code",
   "execution_count": 65,
   "metadata": {},
   "outputs": [
    {
     "data": {
      "text/plain": [
       "dict"
      ]
     },
     "execution_count": 65,
     "metadata": {},
     "output_type": "execute_result"
    }
   ],
   "source": [
    "type(p7.__dict__)"
   ]
  },
  {
   "cell_type": "code",
   "execution_count": 66,
   "metadata": {},
   "outputs": [
    {
     "data": {
      "text/plain": [
       "{'name': '새이름', 'age': 20, 'address': '인천', 'email': 'aaa@a.com'}"
      ]
     },
     "execution_count": 66,
     "metadata": {},
     "output_type": "execute_result"
    }
   ],
   "source": [
    "p7.email=\"aaa@a.com\"   # 추가\n",
    "p7.__dict__"
   ]
  },
  {
   "cell_type": "code",
   "execution_count": null,
   "metadata": {},
   "outputs": [],
   "source": []
  },
  {
   "cell_type": "code",
   "execution_count": 67,
   "metadata": {},
   "outputs": [],
   "source": [
    "class Test:\n",
    "    def __init__(self, age):\n",
    "        self.__age = age\n",
    "        \n",
    "    def set_age(self, age):\n",
    "        self.__age = age\n",
    "    \n",
    "    def get_age(self, age):\n",
    "        return self.__age"
   ]
  },
  {
   "cell_type": "code",
   "execution_count": 68,
   "metadata": {},
   "outputs": [
    {
     "ename": "TypeError",
     "evalue": "get_age() missing 1 required positional argument: 'age'",
     "output_type": "error",
     "traceback": [
      "\u001b[1;31m---------------------------------------------------------------------------\u001b[0m",
      "\u001b[1;31mTypeError\u001b[0m                                 Traceback (most recent call last)",
      "\u001b[1;32m<ipython-input-68-64246b773d88>\u001b[0m in \u001b[0;36m<module>\u001b[1;34m\u001b[0m\n\u001b[0;32m      1\u001b[0m \u001b[0mt\u001b[0m\u001b[1;33m=\u001b[0m\u001b[0mTest\u001b[0m\u001b[1;33m(\u001b[0m\u001b[1;36m10\u001b[0m\u001b[1;33m)\u001b[0m\u001b[1;33m\u001b[0m\u001b[1;33m\u001b[0m\u001b[0m\n\u001b[1;32m----> 2\u001b[1;33m \u001b[0mprint\u001b[0m\u001b[1;33m(\u001b[0m\u001b[0mt\u001b[0m\u001b[1;33m.\u001b[0m\u001b[0mget_age\u001b[0m\u001b[1;33m(\u001b[0m\u001b[1;33m)\u001b[0m\u001b[1;33m)\u001b[0m\u001b[1;33m\u001b[0m\u001b[1;33m\u001b[0m\u001b[0m\n\u001b[0m",
      "\u001b[1;31mTypeError\u001b[0m: get_age() missing 1 required positional argument: 'age'"
     ]
    }
   ],
   "source": [
    "t=Test(10)\n",
    "print(t.get_age())"
   ]
  },
  {
   "cell_type": "code",
   "execution_count": 69,
   "metadata": {},
   "outputs": [
    {
     "ename": "AttributeError",
     "evalue": "'Test' object has no attribute '__age'",
     "output_type": "error",
     "traceback": [
      "\u001b[1;31m---------------------------------------------------------------------------\u001b[0m",
      "\u001b[1;31mAttributeError\u001b[0m                            Traceback (most recent call last)",
      "\u001b[1;32m<ipython-input-69-a84fb76b20a5>\u001b[0m in \u001b[0;36m<module>\u001b[1;34m\u001b[0m\n\u001b[1;32m----> 1\u001b[1;33m \u001b[0mprint\u001b[0m\u001b[1;33m(\u001b[0m\u001b[0mt\u001b[0m\u001b[1;33m.\u001b[0m\u001b[0m__age\u001b[0m\u001b[1;33m)\u001b[0m\u001b[1;33m\u001b[0m\u001b[1;33m\u001b[0m\u001b[0m\n\u001b[0m",
      "\u001b[1;31mAttributeError\u001b[0m: 'Test' object has no attribute '__age'"
     ]
    }
   ],
   "source": [
    "print(t.__age)"
   ]
  },
  {
   "cell_type": "code",
   "execution_count": 70,
   "metadata": {},
   "outputs": [
    {
     "data": {
      "text/plain": [
       "{'_Test__age': 10}"
      ]
     },
     "execution_count": 70,
     "metadata": {},
     "output_type": "execute_result"
    }
   ],
   "source": [
    "t.__dict__"
   ]
  },
  {
   "cell_type": "code",
   "execution_count": 71,
   "metadata": {},
   "outputs": [
    {
     "data": {
      "text/plain": [
       "{'_Test__age': 10, '__age': 20}"
      ]
     },
     "execution_count": 71,
     "metadata": {},
     "output_type": "execute_result"
    }
   ],
   "source": [
    "t.__age=20\n",
    "t.__dict__"
   ]
  },
  {
   "cell_type": "markdown",
   "metadata": {},
   "source": [
    "## 상속\n",
    " - 기존 클래스를 물려받아 속성이나 메소드를 추가한 새로운 클래스를 만드는 것\n",
    " - 파이썬은 다중상속을 지원(여러클래스로부터 상속사능)\n",
    "\n",
    "```python\n",
    "class 이름(상위클래스이름, 상위클래스, 상위클래스, ...)  # 여러 상위클래스를 상속받을 수 있다\n",
    "```\n"
   ]
  },
  {
   "cell_type": "code",
   "execution_count": 85,
   "metadata": {},
   "outputs": [],
   "source": [
    "# (name, age,address)-Person4, level\n",
    "class Member(Person4):\n",
    "    def __init__(self, name, age, address, level):\n",
    "        # super() : 부모 객체를 반환\n",
    "        super().__init__(name,age,address) # 부모 객체의 생성자 호출\n",
    "        self.level=level\n",
    "    \n",
    "    # 부모클래스에 정의된 메소드와 동일한 이름의 메소드 정의\n",
    "    # 같은 일을 하지만 자식클래스의 특징을 추가해야 하는 경우 같은 이름으로 구현\n",
    "    # 메소드 재정의(Method Overriding)\n",
    "    def get_person_info(self):\n",
    "        '''회원 정보를 묶어서 반환하는 string으로 메소드'''\n",
    "        base_info=super().get_person_info()  # 상위 클래스에 정의된 메소드 호출\n",
    "        info=\"{}, 등급:{}\".format(base_info, self.level)\n",
    "        return info"
   ]
  },
  {
   "cell_type": "code",
   "execution_count": 86,
   "metadata": {
    "scrolled": true
   },
   "outputs": [
    {
     "name": "stdout",
     "output_type": "stream",
     "text": [
      "20\n"
     ]
    }
   ],
   "source": [
    "m = Member(\"새회원\",10,\"서울\",\"준회원\")\n",
    "#print(m.get_name())\n",
    "m.set_age(20)\n",
    "print(m.get_age())"
   ]
  },
  {
   "cell_type": "code",
   "execution_count": 84,
   "metadata": {
    "scrolled": true
   },
   "outputs": [
    {
     "name": "stdout",
     "output_type": "stream",
     "text": [
      "이름:새회원,나이:20,주소:서울, 등급:준회원\n"
     ]
    }
   ],
   "source": [
    "print(m.get_person_info())"
   ]
  },
  {
   "cell_type": "markdown",
   "metadata": {},
   "source": [
    "## 특수 메소드\n",
    " - __ 로 시작하는 메소드로 객체가 특정 상황(시점)이 되면 파이썬실행환경이 자동으로 호출해주는 메소드들.\n",
    "     - 실행환경이 호출하는 메소드를 call back 메소드라고도 한다."
   ]
  },
  {
   "cell_type": "code",
   "execution_count": 112,
   "metadata": {},
   "outputs": [],
   "source": [
    "class Point:\n",
    "    def __init__(self, x, y):   # 생성자 -> 특수 메소드 : 객체 생성시 Point(10,20) 호출\n",
    "        self.x = x\n",
    "        self.y = y\n",
    "        \n",
    "    def __str__(self):   # 객체를 문자열로 변환할 떄 호출되는 메소드 - str()\n",
    "        return \"X:{},Y:{}\".format(self.x,self.y)\n",
    "    \n",
    "    def __eq__(self, other):  # Point객체 A == Point객체 B : == 연산자로 비교할 떄 호출\n",
    "        return (self.x == other.x) & (self.y == other.y)  # self: A, other: B\n",
    "    \n",
    "    # __gt__(self, other)  : >\n",
    "    # __ge__()             : >=\n",
    "    # __lt__()             : <\n",
    "    # __le__()             : <=\n",
    "    # __ne__()             : !=\n",
    "    \n",
    "    def __add__(self, other):   # A + B : 연산시 호출 -> self: A, other: B\n",
    "        new_x=self.x + other.x\n",
    "        new_y=self.y + other.y\n",
    "        return Point(new_x,new_y)\n",
    "    \n",
    "    def __sub__(self, other):\n",
    "        '''self: point객체, other: 정수'''\n",
    "        n_x = self.x - other\n",
    "        n_y = self.y - other\n",
    "        return Point(n_x, n_y)\n",
    "    \n",
    "    # __sub__(self, other) : -\n",
    "    # __mul__()            : *\n",
    "    # __truediv__()        : / (나누기)\n",
    "    # __floordiv__()       : // (몫 나누기)\n",
    "    # __mod__()            : % (나머지 나누기)"
   ]
  },
  {
   "cell_type": "code",
   "execution_count": 97,
   "metadata": {},
   "outputs": [
    {
     "data": {
      "text/plain": [
       "(10, 20)"
      ]
     },
     "execution_count": 97,
     "metadata": {},
     "output_type": "execute_result"
    }
   ],
   "source": [
    "pt=Point(10,20)\n",
    "pt.x, pt.y"
   ]
  },
  {
   "cell_type": "code",
   "execution_count": 98,
   "metadata": {},
   "outputs": [
    {
     "data": {
      "text/plain": [
       "'X:10,Y:20'"
      ]
     },
     "execution_count": 98,
     "metadata": {},
     "output_type": "execute_result"
    }
   ],
   "source": [
    "str(pt)  # Point객체를 문자열로 변환"
   ]
  },
  {
   "cell_type": "code",
   "execution_count": 99,
   "metadata": {},
   "outputs": [
    {
     "name": "stdout",
     "output_type": "stream",
     "text": [
      "X:10,Y:20\n"
     ]
    }
   ],
   "source": [
    "print(pt)"
   ]
  },
  {
   "cell_type": "code",
   "execution_count": 102,
   "metadata": {},
   "outputs": [
    {
     "data": {
      "text/plain": [
       "False"
      ]
     },
     "execution_count": 102,
     "metadata": {},
     "output_type": "execute_result"
    }
   ],
   "source": [
    "pt2=Point(10,20)\n",
    "pt2 == pt  # 두 객체가 같은 객체인지 비교"
   ]
  },
  {
   "cell_type": "code",
   "execution_count": 103,
   "metadata": {
    "scrolled": true
   },
   "outputs": [
    {
     "data": {
      "text/plain": [
       "True"
      ]
     },
     "execution_count": 103,
     "metadata": {},
     "output_type": "execute_result"
    }
   ],
   "source": [
    "pt3 = pt\n",
    "pt3 == pt"
   ]
  },
  {
   "cell_type": "code",
   "execution_count": 106,
   "metadata": {},
   "outputs": [
    {
     "name": "stdout",
     "output_type": "stream",
     "text": [
      "X:10,Y:20 X:10,Y:20\n"
     ]
    }
   ],
   "source": [
    "print(pt, pt2)"
   ]
  },
  {
   "cell_type": "code",
   "execution_count": 107,
   "metadata": {},
   "outputs": [
    {
     "ename": "TypeError",
     "evalue": "unsupported operand type(s) for +: 'Point' and 'Point'",
     "output_type": "error",
     "traceback": [
      "\u001b[1;31m---------------------------------------------------------------------------\u001b[0m",
      "\u001b[1;31mTypeError\u001b[0m                                 Traceback (most recent call last)",
      "\u001b[1;32m<ipython-input-107-ad80cbab6aba>\u001b[0m in \u001b[0;36m<module>\u001b[1;34m\u001b[0m\n\u001b[1;32m----> 1\u001b[1;33m \u001b[0mpt\u001b[0m \u001b[1;33m+\u001b[0m \u001b[0mpt2\u001b[0m\u001b[1;33m\u001b[0m\u001b[1;33m\u001b[0m\u001b[0m\n\u001b[0m",
      "\u001b[1;31mTypeError\u001b[0m: unsupported operand type(s) for +: 'Point' and 'Point'"
     ]
    }
   ],
   "source": [
    "pt + pt2  # 객체끼리 사칙연산 불가 -> def __add__(self, other) 를 이용"
   ]
  },
  {
   "cell_type": "code",
   "execution_count": 114,
   "metadata": {},
   "outputs": [
    {
     "name": "stdout",
     "output_type": "stream",
     "text": [
      "X:40,Y:60\n"
     ]
    }
   ],
   "source": [
    "pt4=Point(10,20)\n",
    "pt5=Point(30,40)\n",
    "p=pt4 + pt5\n",
    "print(p)"
   ]
  },
  {
   "cell_type": "code",
   "execution_count": 115,
   "metadata": {
    "scrolled": true
   },
   "outputs": [
    {
     "name": "stdout",
     "output_type": "stream",
     "text": [
      "X:0,Y:10\n"
     ]
    }
   ],
   "source": [
    "print(pt4-10)"
   ]
  },
  {
   "cell_type": "code",
   "execution_count": 17,
   "metadata": {},
   "outputs": [],
   "source": [
    "class Super1:\n",
    "    def m(self):\n",
    "        print(\"Super1.m()\")\n",
    "        \n",
    "class Super2:\n",
    "    def m(self):\n",
    "        print(\"Super1.m()\")\n",
    "    \n",
    "    def m2(self):\n",
    "        print(\"Super2.m2()\")\n",
    "\n",
    "class Sub(Super1,Super2):   # 다중상속받을때 두 클래스에 같은 메소드가 존재할때 매개변수 앞쪽클래스를 상속받음\n",
    "    def method(self):\n",
    "        super().m()\n",
    "        super().m2()"
   ]
  },
  {
   "cell_type": "code",
   "execution_count": 19,
   "metadata": {},
   "outputs": [
    {
     "name": "stdout",
     "output_type": "stream",
     "text": [
      "Super1.m()\n"
     ]
    }
   ],
   "source": [
    "s = Sub()\n",
    "s.m()"
   ]
  },
  {
   "cell_type": "code",
   "execution_count": 20,
   "metadata": {},
   "outputs": [
    {
     "name": "stdout",
     "output_type": "stream",
     "text": [
      "Super2.m2()\n"
     ]
    }
   ],
   "source": [
    "s.m2()"
   ]
  },
  {
   "cell_type": "code",
   "execution_count": 21,
   "metadata": {},
   "outputs": [
    {
     "name": "stdout",
     "output_type": "stream",
     "text": [
      "Super1.m()\n",
      "Super2.m2()\n"
     ]
    }
   ],
   "source": [
    "s.method()"
   ]
  },
  {
   "cell_type": "markdown",
   "metadata": {},
   "source": [
    "## 클래스 변수, 클래스 메소드\n",
    " - 클래스의 변수(속성), 클래스의 동작 (객체와 관계없다.)\n",
    " - 클래스 변수\n",
    "     - class block에 변수로 선언\n",
    " - 클래스 메소드\n",
    "     - 메소드 선언부에 @classmethod (데코레이션)을 붙인다.\n",
    "     - 첫번째 매개변수로 클래스자체를 받는 변수를 선언한다.(이 변수를 이용해 클래스 변수 호출)\n",
    "\n",
    "## Static Method (정적메소드)\n",
    " - 클래스의 동작\n",
    " - 클래스 변수와 관련없는 기능을 수행\n",
    " - 구현\n",
    "     - 메소드 선언부에 @staticmethod (데코레이션)을 붙인다.\n",
    "     - 매개변수에 대한 제약이 없다."
   ]
  },
  {
   "cell_type": "code",
   "execution_count": 26,
   "metadata": {},
   "outputs": [],
   "source": [
    "class calc:\n",
    "    # 클래스 블럭에 선언한 변수 -> class 변수, 호출: Class이름.변수\n",
    "    PI = 3.141592653589793238\n",
    "    raise_num=5\n",
    "    \n",
    "    @staticmethod  # 첫번째 매개변수(self) 필요없음\n",
    "    def add(num1, num2):\n",
    "        return num1 + num2\n",
    "    \n",
    "    @classmethod\n",
    "    def circleSize(clz, radius): #첫번째 매개변수: 클래스(calc)\n",
    "        return radius * radius * clz.PI"
   ]
  },
  {
   "cell_type": "code",
   "execution_count": 23,
   "metadata": {},
   "outputs": [
    {
     "data": {
      "text/plain": [
       "140"
      ]
     },
     "execution_count": 23,
     "metadata": {},
     "output_type": "execute_result"
    }
   ],
   "source": [
    "#static 메소드 호출 - class이름.메소드호출()\n",
    "calc.add(120,20)"
   ]
  },
  {
   "cell_type": "code",
   "execution_count": 25,
   "metadata": {},
   "outputs": [
    {
     "data": {
      "text/plain": [
       "(3.141592653589793, 5)"
      ]
     },
     "execution_count": 25,
     "metadata": {},
     "output_type": "execute_result"
    }
   ],
   "source": [
    "calc.PI, calc.raise_num"
   ]
  },
  {
   "cell_type": "code",
   "execution_count": 29,
   "metadata": {},
   "outputs": [
    {
     "data": {
      "text/plain": [
       "12.566370614359172"
      ]
     },
     "execution_count": 29,
     "metadata": {},
     "output_type": "execute_result"
    }
   ],
   "source": [
    "# 클래스 메소드 - class이름.메소드()\n",
    "calc.circleSize(2)"
   ]
  },
  {
   "cell_type": "code",
   "execution_count": 1,
   "metadata": {},
   "outputs": [],
   "source": [
    "class FourCal:\n",
    "    pass"
   ]
  },
  {
   "cell_type": "code",
   "execution_count": 3,
   "metadata": {},
   "outputs": [
    {
     "data": {
      "text/plain": [
       "__main__.FourCal"
      ]
     },
     "execution_count": 3,
     "metadata": {},
     "output_type": "execute_result"
    }
   ],
   "source": [
    "a=FourCal()\n",
    "type(a)"
   ]
  },
  {
   "cell_type": "code",
   "execution_count": null,
   "metadata": {},
   "outputs": [],
   "source": []
  },
  {
   "cell_type": "code",
   "execution_count": null,
   "metadata": {},
   "outputs": [],
   "source": []
  },
  {
   "cell_type": "code",
   "execution_count": null,
   "metadata": {},
   "outputs": [],
   "source": []
  },
  {
   "cell_type": "code",
   "execution_count": null,
   "metadata": {},
   "outputs": [],
   "source": []
  },
  {
   "cell_type": "code",
   "execution_count": null,
   "metadata": {},
   "outputs": [],
   "source": []
  }
 ],
 "metadata": {
  "kernelspec": {
   "display_name": "Python 3",
   "language": "python",
   "name": "python3"
  },
  "language_info": {
   "codemirror_mode": {
    "name": "ipython",
    "version": 3
   },
   "file_extension": ".py",
   "mimetype": "text/x-python",
   "name": "python",
   "nbconvert_exporter": "python",
   "pygments_lexer": "ipython3",
   "version": "3.7.3"
  }
 },
 "nbformat": 4,
 "nbformat_minor": 2
}
