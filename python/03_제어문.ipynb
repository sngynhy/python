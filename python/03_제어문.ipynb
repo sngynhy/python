{
 "cells": [
  {
   "cell_type": "code",
   "execution_count": null,
   "metadata": {},
   "outputs": [],
   "source": [
    "if 조건 :         # <-선언\n",
    "     명령문1 # <-반드시 앞에 들여쓰기할것! 들여쓰기로 코드를 묶어줌\n",
    "    명령문2\n",
    "종료"
   ]
  },
  {
   "cell_type": "code",
   "execution_count": null,
   "metadata": {},
   "outputs": [],
   "source": [
    "if 조건 :       # true or false인 경우\n",
    "    명령문1\n",
    "else\n",
    "    명령문2\n",
    "종료"
   ]
  },
  {
   "cell_type": "code",
   "execution_count": null,
   "metadata": {},
   "outputs": [],
   "source": [
    "if 조건1 :    # 조건이 여러가지인 경우\n",
    "    명령문1\n",
    "\n",
    "elif 조건2 :\n",
    "    명령문2\n",
    "\n",
    "elif 조건3 :\n",
    "    명려운3\n",
    "\n",
    "else:\n",
    "    명령문4"
   ]
  },
  {
   "cell_type": "code",
   "execution_count": 1,
   "metadata": {
    "scrolled": true
   },
   "outputs": [
    {
     "data": {
      "text/plain": [
       "True"
      ]
     },
     "execution_count": 1,
     "metadata": {},
     "output_type": "execute_result"
    }
   ],
   "source": [
    "bool([1,2])"
   ]
  },
  {
   "cell_type": "code",
   "execution_count": 2,
   "metadata": {},
   "outputs": [
    {
     "data": {
      "text/plain": [
       "(False, False)"
      ]
     },
     "execution_count": 2,
     "metadata": {},
     "output_type": "execute_result"
    }
   ],
   "source": [
    "bool([]),bool({})"
   ]
  },
  {
   "cell_type": "code",
   "execution_count": 4,
   "metadata": {},
   "outputs": [
    {
     "name": "stdout",
     "output_type": "stream",
     "text": [
      "0\n",
      "영\n",
      "종료\n"
     ]
    }
   ],
   "source": [
    "num = 0\n",
    "if num==0:  # if문 선언부\n",
    "    print(\"0\") # 실행문의 앞 들여쓰기간격은 일정하게\n",
    "    print(\"영\")\n",
    "    \n",
    "print(\"종료\")  # 종료 - if문 조건의 true/false 와 상관없이 무조건 출력됨"
   ]
  },
  {
   "cell_type": "code",
   "execution_count": 11,
   "metadata": {},
   "outputs": [
    {
     "name": "stdout",
     "output_type": "stream",
     "text": [
      "0 아님\n",
      "종료\n"
     ]
    }
   ],
   "source": [
    "num = 10\n",
    "if num == 0:\n",
    "    print(\"0\") \n",
    "    print(\"영\")\n",
    "else:\n",
    "    print(\"0 아님\")\n",
    "    \n",
    "print(\"종료\") "
   ]
  },
  {
   "cell_type": "code",
   "execution_count": 13,
   "metadata": {},
   "outputs": [
    {
     "name": "stdout",
     "output_type": "stream",
     "text": [
      "양수\n",
      "종료\n"
     ]
    }
   ],
   "source": [
    "num = 2\n",
    "if num==0:\n",
    "    print(\"2\")\n",
    "    print(\"이\")\n",
    "elif num>0:\n",
    "    print(\"양수\")\n",
    "elif num<0:  # 이외의 경우가 없는 경우에는 else로 정리해도 된다\n",
    "    print(\"음수\")\n",
    "print(\"종료\") "
   ]
  },
  {
   "cell_type": "code",
   "execution_count": 18,
   "metadata": {},
   "outputs": [
    {
     "name": "stdout",
     "output_type": "stream",
     "text": [
      "id:\n",
      "아이디를 입력하세요\n"
     ]
    }
   ],
   "source": [
    "id = input('id:')\n",
    "# id를 입력했으면 저장, 안했으면 오류메세지\n",
    "if len(id)!=0:    # 또는 len(id) 도 가능 -> 빈문자열:false, 1글자 이상:ture\n",
    "    print(id+\"를 저장했습니다.\")\n",
    "else:\n",
    "    print(\"아이디를 입력하세요\")"
   ]
  },
  {
   "cell_type": "code",
   "execution_count": 20,
   "metadata": {},
   "outputs": [
    {
     "name": "stdout",
     "output_type": "stream",
     "text": [
      "id:fjdios\n",
      "fjdios를 저장했습니다.\n"
     ]
    }
   ],
   "source": [
    "id = input('id:')\n",
    "# id를 입력했으면 저장, 안했으면 오류메세지\n",
    "if id.strip():      # strip 문자열의 앞뒤 공백제거\n",
    "    print(id+\"를 저장했습니다.\")\n",
    "else:\n",
    "    print(\"아이디를 입력하세요\")"
   ]
  },
  {
   "cell_type": "code",
   "execution_count": 24,
   "metadata": {
    "scrolled": false
   },
   "outputs": [
    {
     "name": "stdout",
     "output_type": "stream",
     "text": [
      "도시명:인천시 \n",
      "인천시는 광역시\n",
      "인천시는 광역시\n",
      "인천시는 광역시\n"
     ]
    }
   ],
   "source": [
    "city=input(\"도시명:\").strip()\n",
    "if city=='서울시':\n",
    "    print('서울시: 특별시')\n",
    "elif city in ['인천시','대구시','대전시','부산시','광주시','울산시']:\n",
    "    print(f'{city}는 광역시')\n",
    "    print('{}는 광역시'.format(city))\n",
    "    print('%s는 광역시' % city)\n",
    "else:\n",
    "    print('{}는 일반시'.format(city))"
   ]
  },
  {
   "cell_type": "markdown",
   "metadata": {},
   "source": [
    "# while"
   ]
  },
  {
   "cell_type": "code",
   "execution_count": 35,
   "metadata": {},
   "outputs": [
    {
     "name": "stdout",
     "output_type": "stream",
     "text": [
      "limit:3\n",
      "0\n",
      "1\n",
      "2\n"
     ]
    }
   ],
   "source": [
    "limit=int(input(\"limit:\"))\n",
    "count=0\n",
    "while count < limit:\n",
    "    print(count)\n",
    "    count = count + 1   # 또는 count += 1 <-대입연산자"
   ]
  },
  {
   "cell_type": "markdown",
   "metadata": {},
   "source": [
    "# for in문 "
   ]
  },
  {
   "cell_type": "code",
   "execution_count": 36,
   "metadata": {},
   "outputs": [
    {
     "name": "stdout",
     "output_type": "stream",
     "text": [
      "10\n",
      "20\n",
      "30\n",
      "40\n",
      "50\n"
     ]
    }
   ],
   "source": [
    "nums=[10,20,30,40,50]\n",
    "for num in nums:             # for 변수 in 반복할 대상\n",
    "    print(num)"
   ]
  },
  {
   "cell_type": "code",
   "execution_count": 38,
   "metadata": {},
   "outputs": [
    {
     "name": "stdout",
     "output_type": "stream",
     "text": [
      "1\n",
      "2\n",
      "3\n",
      "4\n"
     ]
    }
   ],
   "source": [
    "t=1,2,3,4\n",
    "for num in t:\n",
    "    print(num)"
   ]
  },
  {
   "cell_type": "code",
   "execution_count": 5,
   "metadata": {},
   "outputs": [
    {
     "data": {
      "text/plain": [
       "{'a': 10, 'b': 10, 'c': 30}"
      ]
     },
     "execution_count": 5,
     "metadata": {},
     "output_type": "execute_result"
    }
   ],
   "source": [
    "dic = dict(a=10,b=10,c=30)\n",
    "dic"
   ]
  },
  {
   "cell_type": "code",
   "execution_count": 40,
   "metadata": {
    "scrolled": true
   },
   "outputs": [
    {
     "name": "stdout",
     "output_type": "stream",
     "text": [
      "a\n",
      "b\n",
      "c\n"
     ]
    }
   ],
   "source": [
    "for key in dic:   # key값이 반복 조회된다.\n",
    "    print(key)"
   ]
  },
  {
   "cell_type": "code",
   "execution_count": 6,
   "metadata": {},
   "outputs": [
    {
     "name": "stdout",
     "output_type": "stream",
     "text": [
      "10\n",
      "10\n",
      "30\n"
     ]
    }
   ],
   "source": [
    "for key in dic:\n",
    "    print(dic[key])"
   ]
  },
  {
   "cell_type": "code",
   "execution_count": 41,
   "metadata": {},
   "outputs": [
    {
     "name": "stdout",
     "output_type": "stream",
     "text": [
      "안\n",
      "녕\n",
      "하\n",
      "세\n",
      "요\n",
      ".\n",
      " \n",
      "a\n",
      "b\n",
      "c\n",
      "d\n",
      "e\n",
      ".\n"
     ]
    }
   ],
   "source": [
    "for c in \"안녕하세요. abcde.\":\n",
    "    print(c)"
   ]
  },
  {
   "cell_type": "markdown",
   "metadata": {},
   "source": [
    "# break, continue\n",
    " - 반복문에서 사용하는 예약어\n",
    " - break: 반복을 멈춰라\n",
    " - continue: 조건을 다시 비교, 다음 원소를 반복조회 해라. 다음반복"
   ]
  },
  {
   "cell_type": "code",
   "execution_count": 42,
   "metadata": {},
   "outputs": [
    {
     "name": "stdout",
     "output_type": "stream",
     "text": [
      "0\n",
      "1\n",
      "2\n",
      "3\n",
      "4\n",
      "5\n",
      "6\n",
      "7\n",
      "8\n",
      "9\n"
     ]
    }
   ],
   "source": [
    "num=0\n",
    "while True:\n",
    "    if num >= 10:\n",
    "        break\n",
    "    print(num)\n",
    "    num += 1  # 또는 num = num + 1"
   ]
  },
  {
   "cell_type": "code",
   "execution_count": 43,
   "metadata": {},
   "outputs": [
    {
     "name": "stdout",
     "output_type": "stream",
     "text": [
      "0\n",
      "5\n",
      "10\n",
      "15\n",
      "20\n",
      "25\n",
      "30\n",
      "35\n",
      "40\n",
      "45\n",
      "50\n",
      "55\n",
      "60\n",
      "65\n",
      "70\n",
      "75\n",
      "80\n",
      "85\n",
      "90\n",
      "95\n",
      "100\n"
     ]
    }
   ],
   "source": [
    "num=0\n",
    "while num <= 100:\n",
    "    if num%5==0:  # 5의 배수이면\n",
    "        print(num)\n",
    "    num += 1"
   ]
  },
  {
   "cell_type": "code",
   "execution_count": 7,
   "metadata": {},
   "outputs": [
    {
     "name": "stdout",
     "output_type": "stream",
     "text": [
      "0\n",
      "5\n",
      "10\n",
      "15\n",
      "20\n",
      "25\n",
      "30\n",
      "35\n",
      "40\n",
      "45\n",
      "50\n",
      "55\n",
      "60\n",
      "65\n",
      "70\n",
      "75\n",
      "80\n",
      "85\n",
      "90\n",
      "95\n",
      "100\n"
     ]
    }
   ],
   "source": [
    "num=0\n",
    "while num <= 100:\n",
    "    if num%5!=0:  # 5의 배수가 아니면\n",
    "        num += 1\n",
    "        continue  # 반복을 멈추고 처음으로 돌아가라(즉 5의배수가 아니면 실행취소)\n",
    "    print(num)\n",
    "    num += 1"
   ]
  },
  {
   "cell_type": "code",
   "execution_count": 20,
   "metadata": {},
   "outputs": [
    {
     "data": {
      "text/plain": [
       "[1, 3]"
      ]
     },
     "execution_count": 20,
     "metadata": {},
     "output_type": "execute_result"
    }
   ],
   "source": [
    "# range(시작값, 멈춤값, 증감값)\n",
    "# 시작값,즉감값 은 생략가능\n",
    "# 멈춤값은 포함하지 않음 (멈춤값-1까지 반환)\n",
    "\n",
    "list(range(1,5,2))"
   ]
  },
  {
   "cell_type": "code",
   "execution_count": 19,
   "metadata": {},
   "outputs": [
    {
     "name": "stdout",
     "output_type": "stream",
     "text": [
      "2\n",
      "4\n",
      "6\n",
      "8\n",
      "10\n",
      "12\n",
      "14\n",
      "16\n",
      "18\n"
     ]
    }
   ],
   "source": [
    "for num in range(1,20):\n",
    "    if num % 2 == 0:\n",
    "        print(num)"
   ]
  },
  {
   "cell_type": "markdown",
   "metadata": {},
   "source": [
    "# for in 문 관련 함수\n",
    " - range()\n",
    " - enumerate():index(몇번째 반복)과 원소를 묶어서 tuple로 반환\n",
    " - zip(자료구조 등..)\n",
    "     - 반복시 마다 같은 index의 값들을 묶어서 반환"
   ]
  },
  {
   "cell_type": "code",
   "execution_count": 26,
   "metadata": {},
   "outputs": [
    {
     "name": "stdout",
     "output_type": "stream",
     "text": [
      "range(1, 100, 5)\n"
     ]
    }
   ],
   "source": [
    "print(range(1,100,5))"
   ]
  },
  {
   "cell_type": "code",
   "execution_count": 27,
   "metadata": {},
   "outputs": [
    {
     "data": {
      "text/plain": [
       "[10, 15, 20, 25, 30, 35, 40, 45, 50, 55, 60, 65, 70, 75, 80, 85, 90, 95]"
      ]
     },
     "execution_count": 27,
     "metadata": {},
     "output_type": "execute_result"
    }
   ],
   "source": [
    "# range를 이용해 list/tuple/set 생성\n",
    "l1=list(range(10,100,5))\n",
    "l1"
   ]
  },
  {
   "cell_type": "code",
   "execution_count": 28,
   "metadata": {},
   "outputs": [
    {
     "data": {
      "text/plain": [
       "(0, 1, 2, 3, 4, 5, 6, 7, 8, 9)"
      ]
     },
     "execution_count": 28,
     "metadata": {},
     "output_type": "execute_result"
    }
   ],
   "source": [
    "t1=tuple(range(10)) # 멈춤값, 0 ~ 10-1, 1씩증가\n",
    "t1"
   ]
  },
  {
   "cell_type": "code",
   "execution_count": 29,
   "metadata": {},
   "outputs": [
    {
     "data": {
      "text/plain": [
       "[10, 9, 8, 7, 6, 5, 4, 3, 2, 1]"
      ]
     },
     "execution_count": 29,
     "metadata": {},
     "output_type": "execute_result"
    }
   ],
   "source": [
    "s1=list(range(10,0,-1))\n",
    "s1"
   ]
  },
  {
   "cell_type": "code",
   "execution_count": 32,
   "metadata": {},
   "outputs": [
    {
     "name": "stdout",
     "output_type": "stream",
     "text": [
      "0\t1\t2\t3\t4\t5\t6\t7\t8\t9\t"
     ]
    }
   ],
   "source": [
    "for num in range(10):\n",
    "    print(num, end='\\t')  # end : 같은줄에 출력 (가로로) \\t : tab키 간격만큼"
   ]
  },
  {
   "cell_type": "code",
   "execution_count": 51,
   "metadata": {},
   "outputs": [
    {
     "name": "stdout",
     "output_type": "stream",
     "text": [
      "안녕\n",
      "안녕\n",
      "안녕\n",
      "안녕\n",
      "안녕\n",
      "안녕\n",
      "안녕\n",
      "안녕\n",
      "안녕\n",
      "안녕\n"
     ]
    }
   ],
   "source": [
    "# 안녕 10번 출력 - 특정작업을 N번 반복할때도 사용\n",
    "for _ in range(10):  # 변수명으로 특수문자는 _ 만 사용가능, 반복문에서 대게 사용\n",
    "    print(\"안녕\")"
   ]
  },
  {
   "cell_type": "code",
   "execution_count": 34,
   "metadata": {},
   "outputs": [
    {
     "data": {
      "text/plain": [
       "[0, 1, 2, 3, 4, 5, 6, 7, 8, 9]"
      ]
     },
     "execution_count": 34,
     "metadata": {},
     "output_type": "execute_result"
    }
   ],
   "source": [
    "# enumerate\n",
    "\n",
    "l2=list(range(10))\n",
    "l2"
   ]
  },
  {
   "cell_type": "code",
   "execution_count": 36,
   "metadata": {
    "scrolled": true
   },
   "outputs": [
    {
     "name": "stdout",
     "output_type": "stream",
     "text": [
      "(0, 0)\n",
      "(1, 1)\n",
      "(2, 2)\n",
      "(3, 3)\n",
      "(4, 4)\n",
      "(5, 5)\n",
      "(6, 6)\n",
      "(7, 7)\n",
      "(8, 8)\n",
      "(9, 9)\n"
     ]
    }
   ],
   "source": [
    "for num in enumerate(l2): # tuple로 반환\n",
    "    print(num)"
   ]
  },
  {
   "cell_type": "code",
   "execution_count": 37,
   "metadata": {},
   "outputs": [
    {
     "name": "stdout",
     "output_type": "stream",
     "text": [
      "0 0\n",
      "1 1\n",
      "2 2\n",
      "3 3\n",
      "4 4\n",
      "5 5\n",
      "6 6\n",
      "7 7\n",
      "8 8\n",
      "9 9\n"
     ]
    }
   ],
   "source": [
    "for idx,num in enumerate(l2): # 따로 반환\n",
    "    print(idx,num)"
   ]
  },
  {
   "cell_type": "code",
   "execution_count": 45,
   "metadata": {},
   "outputs": [
    {
     "name": "stdout",
     "output_type": "stream",
     "text": [
      "0 가\n",
      "2 다\n"
     ]
    }
   ],
   "source": [
    "s=['가','나','다','라']\n",
    "for i, ss in enumerate(s):\n",
    "    if i % 2 == 0:\n",
    "        print(i,ss)"
   ]
  },
  {
   "cell_type": "code",
   "execution_count": 46,
   "metadata": {},
   "outputs": [
    {
     "name": "stdout",
     "output_type": "stream",
     "text": [
      "100 0\n",
      "101 1\n",
      "102 2\n",
      "103 3\n",
      "104 4\n",
      "105 5\n",
      "106 6\n",
      "107 7\n",
      "108 8\n",
      "109 9\n"
     ]
    }
   ],
   "source": [
    "for i,num in enumerate(l2, start=100):  # start=시작번호 설정가능\n",
    "    print(i,num)"
   ]
  },
  {
   "cell_type": "code",
   "execution_count": 57,
   "metadata": {},
   "outputs": [
    {
     "name": "stdout",
     "output_type": "stream",
     "text": [
      "10 A\n",
      "20 B\n",
      "30 C\n"
     ]
    }
   ],
   "source": [
    "# zip(변수,변수) : 튜플로 반환, 두 변수 중 원소의 개수가 적은것을 기준으로 반환\n",
    "\n",
    "a=[10, 20, 30, 40]\n",
    "b=[\"A\", \"B\", \"C\"]\n",
    "\n",
    "for n,m in zip(a,b):\n",
    "    print(n,m)"
   ]
  },
  {
   "cell_type": "code",
   "execution_count": 58,
   "metadata": {},
   "outputs": [
    {
     "name": "stdout",
     "output_type": "stream",
     "text": [
      "(10, 'A')\n",
      "(20, 'B')\n",
      "(30, 'C')\n"
     ]
    }
   ],
   "source": [
    "for n in zip(a,b):\n",
    "    print(n)"
   ]
  },
  {
   "cell_type": "code",
   "execution_count": 52,
   "metadata": {},
   "outputs": [],
   "source": [
    "ids=['id-1', 'id-2', 'id-3', 'id-4', 'id-5']\n",
    "ages=[20, 15, 31, 25, 44]\n",
    "talls=[175.6, 162.7, 178.3, 170,9, 184]\n"
   ]
  },
  {
   "cell_type": "code",
   "execution_count": null,
   "metadata": {},
   "outputs": [],
   "source": []
  },
  {
   "cell_type": "code",
   "execution_count": 53,
   "metadata": {
    "scrolled": true
   },
   "outputs": [
    {
     "name": "stdout",
     "output_type": "stream",
     "text": [
      "('id-1', 20, 175.6)\n",
      "('id-2', 15, 162.7)\n",
      "('id-3', 31, 178.3)\n",
      "('id-4', 25, 170)\n",
      "('id-5', 44, 9)\n"
     ]
    }
   ],
   "source": [
    "for info in zip(ids,ages,talls):\n",
    "    print(info)"
   ]
  },
  {
   "cell_type": "code",
   "execution_count": 54,
   "metadata": {
    "scrolled": true
   },
   "outputs": [
    {
     "name": "stdout",
     "output_type": "stream",
     "text": [
      "아이디:id-1,나이:20,키:175.6\n",
      "아이디:id-2,나이:15,키:162.7\n",
      "아이디:id-3,나이:31,키:178.3\n",
      "아이디:id-4,나이:25,키:170\n",
      "아이디:id-5,나이:44,키:9\n"
     ]
    }
   ],
   "source": [
    "for id, age, tall in zip(ids,ages,talls):\n",
    "    print(f'아이디:{id},나이:{age},키:{tall}')"
   ]
  },
  {
   "cell_type": "markdown",
   "metadata": {},
   "source": [
    "## comprehension (내포)"
   ]
  },
  {
   "cell_type": "code",
   "execution_count": 59,
   "metadata": {},
   "outputs": [
    {
     "data": {
      "text/plain": [
       "[0, 1, 2, 3, 4, 5, 6, 7, 8, 9]"
      ]
     },
     "execution_count": 59,
     "metadata": {},
     "output_type": "execute_result"
    }
   ],
   "source": [
    "l3=list(range(10))\n",
    "l3"
   ]
  },
  {
   "cell_type": "code",
   "execution_count": 66,
   "metadata": {},
   "outputs": [
    {
     "name": "stdout",
     "output_type": "stream",
     "text": [
      "[0, 10, 20, 30, 40, 50, 60, 70, 80, 90]\n"
     ]
    }
   ],
   "source": [
    "# l3의 각 원소 * 10 의 값을 가진 리스트를 생성\n",
    "\n",
    "result_list=[]\n",
    "for num in l3:\n",
    "    result_list.append(num*10)  # list.append(값): list에 값을 추가\n",
    "print(result_list)"
   ]
  },
  {
   "cell_type": "code",
   "execution_count": 68,
   "metadata": {},
   "outputs": [
    {
     "data": {
      "text/plain": [
       "[0, 10, 20, 30, 40, 50, 60, 70, 80, 90]"
      ]
     },
     "execution_count": 68,
     "metadata": {},
     "output_type": "execute_result"
    }
   ],
   "source": [
    "results=[num*10 for num in l3]\n",
    "results"
   ]
  },
  {
   "cell_type": "code",
   "execution_count": 70,
   "metadata": {},
   "outputs": [
    {
     "data": {
      "text/plain": [
       "[-1, 0, 1, 2, 3, 4, 5, 6, 7, 8]"
      ]
     },
     "execution_count": 70,
     "metadata": {},
     "output_type": "execute_result"
    }
   ],
   "source": [
    "# l3의 각 원소의 값 -10 한 값들을 가지를 리스트 생성\n",
    "\n",
    "results2=[num-1 for num in l3]\n",
    "results2"
   ]
  },
  {
   "cell_type": "markdown",
   "metadata": {},
   "source": [
    " - 리스트(list) 컴프리헨션 (자료구조의 원소를 처리한 값을 **리스트**에 넣는 구문)\n",
    " - 셋(set) 컴프리헨션\n",
    " - 딕셔너리(dictionary) 컴프리헨션\n",
    "    - 처리한 결과를 어디에 넣는지에 따라 결정됨.\n",
    " - **튜플 컴프리헨션은 없다.**\n",
    " - 셋/딕셔너리 컴프리헨션은 파이썬 3.0에 추가된 문법."
   ]
  },
  {
   "cell_type": "code",
   "execution_count": 73,
   "metadata": {},
   "outputs": [
    {
     "data": {
      "text/plain": [
       "{-10, -9, -8, -7, -6, -5, -4, -3, -2, -1}"
      ]
     },
     "execution_count": 73,
     "metadata": {},
     "output_type": "execute_result"
    }
   ],
   "source": [
    "# set 컴프리헨션\n",
    "\n",
    "{num-10 for num in l3}"
   ]
  },
  {
   "cell_type": "code",
   "execution_count": 76,
   "metadata": {},
   "outputs": [
    {
     "data": {
      "text/plain": [
       "{'key0': -10,\n",
       " 'key1': -9,\n",
       " 'key2': -8,\n",
       " 'key3': -7,\n",
       " 'key4': -6,\n",
       " 'key5': -5,\n",
       " 'key6': -4,\n",
       " 'key7': -3,\n",
       " 'key8': -2,\n",
       " 'key9': -1}"
      ]
     },
     "execution_count": 76,
     "metadata": {},
     "output_type": "execute_result"
    }
   ],
   "source": [
    "# 딕셔너리 컴프리헨션 {키:값}\n",
    "\n",
    "{'key'+str(a):num-10 for a,num in enumerate(l3)}"
   ]
  },
  {
   "cell_type": "code",
   "execution_count": 82,
   "metadata": {},
   "outputs": [
    {
     "name": "stdout",
     "output_type": "stream",
     "text": [
      "[0, 1, 2, 3, 4, 5, 6, 7, 8, 9, 10, 11, 12, 13, 14, 15, 16, 17, 18, 19, 20, 21, 22, 23, 24, 25, 26, 27, 28, 29, 30, 31, 32, 33, 34, 35, 36, 37, 38, 39, 40, 41, 42, 43, 44, 45, 46, 47, 48, 49, 50, 51, 52, 53, 54, 55, 56, 57, 58, 59, 60, 61, 62, 63, 64, 65, 66, 67, 68, 69, 70, 71, 72, 73, 74, 75, 76, 77, 78, 79, 80, 81, 82, 83, 84, 85, 86, 87, 88, 89, 90, 91, 92, 93, 94, 95, 96, 97, 98, 99, 100]\n"
     ]
    }
   ],
   "source": [
    "l4=list(range(0,101))\n",
    "print(l4)"
   ]
  },
  {
   "cell_type": "code",
   "execution_count": 79,
   "metadata": {},
   "outputs": [
    {
     "name": "stdout",
     "output_type": "stream",
     "text": [
      "[0, 25, 50, 75, 100, 125, 150, 175, 200, 225, 250, 275, 300, 325, 350, 375, 400, 425, 450, 475, 500]\n"
     ]
    }
   ],
   "source": [
    "# l4의 원소중 5의 배수값들인 원소 * 5 들을 가지는 리스트 생성\n",
    "\n",
    "result_list3=[]\n",
    "for num in l4:\n",
    "    if num % 5 == 0:\n",
    "        result_list3.append(num*5)\n",
    "print(result_list3)"
   ]
  },
  {
   "cell_type": "code",
   "execution_count": 81,
   "metadata": {},
   "outputs": [
    {
     "name": "stdout",
     "output_type": "stream",
     "text": [
      "[0, 25, 50, 75, 100, 125, 150, 175, 200, 225, 250, 275, 300, 325, 350, 375, 400, 425, 450, 475, 500]\n"
     ]
    }
   ],
   "source": [
    "result_list4=[num*5 for num in l4 if num%5==0]  # 리스트 컴프리헨션\n",
    "print(result_list4)"
   ]
  },
  {
   "cell_type": "code",
   "execution_count": 85,
   "metadata": {},
   "outputs": [
    {
     "name": "stdout",
     "output_type": "stream",
     "text": [
      "[1, 2, 3]\n",
      "[10, 20, 30]\n"
     ]
    }
   ],
   "source": [
    "l5=[[1,2,3],[10,20,30]] \n",
    "for i in l5:\n",
    "    print(i)"
   ]
  },
  {
   "cell_type": "code",
   "execution_count": 86,
   "metadata": {},
   "outputs": [
    {
     "name": "stdout",
     "output_type": "stream",
     "text": [
      "1\t2\t3\t\n",
      "10\t20\t30\t\n"
     ]
    }
   ],
   "source": [
    "for i in l5:    \n",
    "    for j in i:   # 자료구조 중첩->반복문도 중첩\n",
    "        print(j, end=\"\\t\")\n",
    "    print()"
   ]
  },
  {
   "cell_type": "code",
   "execution_count": 87,
   "metadata": {},
   "outputs": [
    {
     "data": {
      "text/plain": [
       "[[1, 2, 3], [10, 20, 30]]"
      ]
     },
     "execution_count": 87,
     "metadata": {},
     "output_type": "execute_result"
    }
   ],
   "source": [
    "[i for i in l5]"
   ]
  },
  {
   "cell_type": "code",
   "execution_count": 88,
   "metadata": {},
   "outputs": [
    {
     "data": {
      "text/plain": [
       "[1, 2, 3, 10, 20, 30]"
      ]
     },
     "execution_count": 88,
     "metadata": {},
     "output_type": "execute_result"
    }
   ],
   "source": [
    "[j for i in l5 for j in i]"
   ]
  },
  {
   "cell_type": "code",
   "execution_count": 89,
   "metadata": {
    "scrolled": true
   },
   "outputs": [
    {
     "data": {
      "text/plain": [
       "[2, 10, 20, 30]"
      ]
     },
     "execution_count": 89,
     "metadata": {},
     "output_type": "execute_result"
    }
   ],
   "source": [
    "[j for i in l5 for j in i if j%2==0]"
   ]
  },
  {
   "cell_type": "markdown",
   "metadata": {},
   "source": [
    "# 연습문제"
   ]
  },
  {
   "cell_type": "code",
   "execution_count": 44,
   "metadata": {},
   "outputs": [
    {
     "name": "stdout",
     "output_type": "stream",
     "text": [
      "합계: 890\n",
      "평균: 89.0\n",
      "89.0\n"
     ]
    }
   ],
   "source": [
    "#(1) 아래 리스트의 평균을 구하시오. \n",
    "jumsu = [100, 90, 100, 80, 70, 100, 80, 90, 95, 85]\n",
    "\n",
    "total=0  # 합계 저장할 변수, 초기값은 0\n",
    "for num in jumsu:\n",
    "    total = total + num  # total += jumsu\n",
    "print(\"합계:\", total)\n",
    "print(\"평균:\", total/len(jumsu))\n",
    "avg=total/len(jumsu)\n",
    "avg"
   ]
  },
  {
   "cell_type": "code",
   "execution_count": 8,
   "metadata": {},
   "outputs": [
    {
     "name": "stdout",
     "output_type": "stream",
     "text": [
      "0 - pass\n",
      "1 - pass\n",
      "2 - pass\n",
      "3 - fail\n",
      "4 - fail\n",
      "5 - pass\n",
      "6 - fail\n",
      "7 - pass\n",
      "8 - pass\n",
      "9 - fail\n"
     ]
    }
   ],
   "source": [
    "#(2) 평균점수이상은 pass, 미만은 fail을 index번호와 함께 출력하시오. (ex: 0-pass, 1-pass, 2-fail)\n",
    "\n",
    "for idx,num in enumerate(jumsu):\n",
    "    if num >= avg:\n",
    "        print(idx,'-','pass')\n",
    "    else:\n",
    "        print(idx,'-','fail')\n"
   ]
  },
  {
   "cell_type": "code",
   "execution_count": 9,
   "metadata": {},
   "outputs": [
    {
     "name": "stdout",
     "output_type": "stream",
     "text": [
      "0-pass\n",
      "1-pass\n",
      "2-pass\n",
      "3-fail\n",
      "4-fail\n",
      "5-pass\n",
      "6-fail\n",
      "7-pass\n",
      "8-pass\n",
      "9-fail\n"
     ]
    }
   ],
   "source": [
    "for idx,num in enumerate(jumsu):\n",
    "    if num >= avg:\n",
    "        print(\"{}-{}\".format(idx,'pass'))\n",
    "    else:\n",
    "        print(\"{}-{}\".format(idx,'fail'))"
   ]
  },
  {
   "cell_type": "code",
   "execution_count": 14,
   "metadata": {
    "scrolled": true
   },
   "outputs": [
    {
     "name": "stdout",
     "output_type": "stream",
     "text": [
      "0 pass\n",
      "1 pass\n",
      "2 pass\n",
      "3 fail\n",
      "4 fail\n",
      "5 pass\n",
      "6 fail\n",
      "7 pass\n",
      "8 pass\n",
      "9 fail\n"
     ]
    }
   ],
   "source": [
    "for idx, num in enumerate(jumsu):\n",
    "    print(idx,\"pass\" if num>=avg else \"fail\")"
   ]
  },
  {
   "cell_type": "code",
   "execution_count": 15,
   "metadata": {},
   "outputs": [
    {
     "data": {
      "text/plain": [
       "[100, 90, 100, 80, 70, 100, 80, 90, 95, 85]"
      ]
     },
     "execution_count": 15,
     "metadata": {},
     "output_type": "execute_result"
    }
   ],
   "source": [
    "jumsu"
   ]
  },
  {
   "cell_type": "code",
   "execution_count": 20,
   "metadata": {},
   "outputs": [
    {
     "name": "stdout",
     "output_type": "stream",
     "text": [
      "['pass', 'pass', 'pass', 'fail', 'fail', 'pass', 'fail', 'pass', 'pass', 'fail']\t"
     ]
    }
   ],
   "source": [
    "test_list=[]\n",
    "for num in jumsu:\n",
    "    if num >= avg:\n",
    "        test_list.append(\"pass\")\n",
    "    else:\n",
    "        test_list.append(\"fail\")\n",
    "print(test_list,end='\\t')"
   ]
  },
  {
   "cell_type": "code",
   "execution_count": 23,
   "metadata": {
    "scrolled": true
   },
   "outputs": [
    {
     "data": {
      "text/plain": [
       "['pass',\n",
       " 'pass',\n",
       " 'pass',\n",
       " 'fail',\n",
       " 'fail',\n",
       " 'pass',\n",
       " 'fail',\n",
       " 'pass',\n",
       " 'pass',\n",
       " 'fail']"
      ]
     },
     "execution_count": 23,
     "metadata": {},
     "output_type": "execute_result"
    }
   ],
   "source": [
    "[\"pass\" if num>= avg else \"fail\" for num in jumsu]"
   ]
  },
  {
   "cell_type": "code",
   "execution_count": 32,
   "metadata": {
    "scrolled": true
   },
   "outputs": [
    {
     "data": {
      "text/plain": [
       "95"
      ]
     },
     "execution_count": 32,
     "metadata": {},
     "output_type": "execute_result"
    }
   ],
   "source": [
    "#(3) 아래 리스트 값들 중 최대값을 조회해 출력\n",
    "jumsu = [60, 90, 80, 80, 70, 55, 80, 90, 95, 85]\n",
    "\n",
    "jumsu1=sorted(jumsu)\n",
    "jumsu1[-1]"
   ]
  },
  {
   "cell_type": "code",
   "execution_count": 41,
   "metadata": {
    "scrolled": true
   },
   "outputs": [
    {
     "name": "stdout",
     "output_type": "stream",
     "text": [
      "최대값: 95\n"
     ]
    }
   ],
   "source": [
    "jumsu = [60, 90, 80, 80, 70, 55, 80, 90, 95, 85]\n",
    "max_var=jumsu[0]  # 최대값을 저장할 ㅂ변수\n",
    "for num in jumsu:\n",
    "    if max_var < num:\n",
    "        max_var = num\n",
    "print(\"최대값:\",max_var)"
   ]
  },
  {
   "cell_type": "code",
   "execution_count": 49,
   "metadata": {},
   "outputs": [
    {
     "name": "stdout",
     "output_type": "stream",
     "text": [
      "785\n",
      "785\n",
      "95\n",
      "55\n",
      "78.5\n",
      "78.50\n"
     ]
    },
    {
     "data": {
      "text/plain": [
       "78.5"
      ]
     },
     "execution_count": 49,
     "metadata": {},
     "output_type": "execute_result"
    }
   ],
   "source": [
    "# 내장함수\n",
    "jumsu = [60, 90, 80, 80, 70, 55, 80, 90, 95, 85]\n",
    "print(sum(jumsu))  #  자료구조내 모든 숫자들의 합계 계산\n",
    "print(sum(tuple(jumsu)))\n",
    "print(max(jumsu))  # 원소중 최대값\n",
    "print(min(jumsu))  # 최소값\n",
    "print(sum(jumsu)/len(jumsu))  # 평균\n",
    "print(\"%.2f\" % (sum(jumsu)/len(jumsu)))\n",
    "a=sum(jumsu)/len(jumsu)\n",
    "round(a)  # 소수점이하의 수 반올림\n",
    "round(a, 2) # round(대상값, 자리수) 반올림하여 자리수까지 표현\n",
    "# (자리수 양수:소숫점이하자리, 음수:정수자리)"
   ]
  },
  {
   "cell_type": "code",
   "execution_count": 58,
   "metadata": {},
   "outputs": [
    {
     "name": "stdout",
     "output_type": "stream",
     "text": [
      "1989\n",
      "1989.111\n",
      "2000.0\n",
      "1990.0\n",
      "28000\n"
     ]
    }
   ],
   "source": [
    "num=1989.1105\n",
    "print(round(num))\n",
    "print(round(num,3))  # 양수 : 반올림하여 소수 셋째자리까지 나타냄\n",
    "print(round(num,-2)) # 음수 : 십의자리에서 반올림하여라\n",
    "print(round(num,-1)) # 음수 : 일의자리에서 반올림하여라"
   ]
  },
  {
   "cell_type": "code",
   "execution_count": 66,
   "metadata": {
    "scrolled": true
   },
   "outputs": [
    {
     "name": "stdout",
     "output_type": "stream",
     "text": [
      "단을 입력하시오9\n",
      "9 x 1 = 9\n",
      "9 x 2 = 18\n",
      "9 x 3 = 27\n",
      "9 x 4 = 36\n",
      "9 x 5 = 45\n",
      "9 x 6 = 54\n",
      "9 x 7 = 63\n",
      "9 x 8 = 72\n",
      "9 x 9 = 81\n"
     ]
    }
   ],
   "source": [
    "#(4) 사용자로부터 정수를 입력받아 그 단의 구구단을 출력하시오. \n",
    "# ex) 단을 입력하시오 : 2  \n",
    "# 2 x 1 = 2\n",
    "# 2 x 2 = 4\n",
    "#..\n",
    "# 2 x 9 = 18\n",
    "\n",
    "#컴프리헨션\n",
    "\n",
    "num=int(input('단을 입력하시오'))  # num은 문자열이므로 int함수이용\n",
    "for i in range(1,10):\n",
    "    print(\"{} x {} = {}\".format(num,i,num*i))"
   ]
  },
  {
   "cell_type": "code",
   "execution_count": 73,
   "metadata": {},
   "outputs": [
    {
     "name": "stdout",
     "output_type": "stream",
     "text": [
      "2 x 1 = 2\t3 x 1 = 3\t4 x 1 = 4\t5 x 1 = 5\t6 x 1 = 6\t7 x 1 = 7\t8 x 1 = 8\t9 x 1 = 9\t\n",
      "2 x 2 = 4\t3 x 2 = 6\t4 x 2 = 8\t5 x 2 = 10\t6 x 2 = 12\t7 x 2 = 14\t8 x 2 = 16\t9 x 2 = 18\t\n",
      "2 x 3 = 6\t3 x 3 = 9\t4 x 3 = 12\t5 x 3 = 15\t6 x 3 = 18\t7 x 3 = 21\t8 x 3 = 24\t9 x 3 = 27\t\n",
      "2 x 4 = 8\t3 x 4 = 12\t4 x 4 = 16\t5 x 4 = 20\t6 x 4 = 24\t7 x 4 = 28\t8 x 4 = 32\t9 x 4 = 36\t\n",
      "2 x 5 = 10\t3 x 5 = 15\t4 x 5 = 20\t5 x 5 = 25\t6 x 5 = 30\t7 x 5 = 35\t8 x 5 = 40\t9 x 5 = 45\t\n",
      "2 x 6 = 12\t3 x 6 = 18\t4 x 6 = 24\t5 x 6 = 30\t6 x 6 = 36\t7 x 6 = 42\t8 x 6 = 48\t9 x 6 = 54\t\n",
      "2 x 7 = 14\t3 x 7 = 21\t4 x 7 = 28\t5 x 7 = 35\t6 x 7 = 42\t7 x 7 = 49\t8 x 7 = 56\t9 x 7 = 63\t\n",
      "2 x 8 = 16\t3 x 8 = 24\t4 x 8 = 32\t5 x 8 = 40\t6 x 8 = 48\t7 x 8 = 56\t8 x 8 = 64\t9 x 8 = 72\t\n",
      "2 x 9 = 18\t3 x 9 = 27\t4 x 9 = 36\t5 x 9 = 45\t6 x 9 = 54\t7 x 9 = 63\t8 x 9 = 72\t9 x 9 = 81\t\n"
     ]
    }
   ],
   "source": [
    "# 구구단 표\n",
    "for num1 in range(1,10): # 뒷자리\n",
    "    for num2 in range(2,10): #앞자리\n",
    "        print(\"{} x {} = {}\".format(num2,num1,num2*num1), end='\\t')\n",
    "    print() # 공백은 줄바꿈을 출력"
   ]
  },
  {
   "cell_type": "code",
   "execution_count": 77,
   "metadata": {
    "scrolled": false
   },
   "outputs": [
    {
     "name": "stdout",
     "output_type": "stream",
     "text": [
      "[20, 60, 140, 10, 240, 1400, 2, 70]\n"
     ]
    }
   ],
   "source": [
    "#(5) 다음 리스트가 가진 값에 두배(* 2)를 가지는 새로운 리스트를 만드시오. (리스트 컴프리헨션 이용)\n",
    "lst = [10, 30, 70, 5, 120, 700, 1, 35]\n",
    "\n",
    "result=[]\n",
    "for num in lst:\n",
    "    result.append(num*2)\n",
    "print(result)"
   ]
  },
  {
   "cell_type": "code",
   "execution_count": 78,
   "metadata": {},
   "outputs": [
    {
     "data": {
      "text/plain": [
       "[20, 60, 140, 10, 240, 1400, 2, 70]"
      ]
     },
     "execution_count": 78,
     "metadata": {},
     "output_type": "execute_result"
    }
   ],
   "source": [
    "[num*2 for num in lst]"
   ]
  },
  {
   "cell_type": "code",
   "execution_count": 75,
   "metadata": {},
   "outputs": [
    {
     "data": {
      "text/plain": [
       "[(10, 100),\n",
       " (30, 300),\n",
       " (70, 700),\n",
       " (5, 50),\n",
       " (5, 50),\n",
       " (120, 1200),\n",
       " (700, 7000),\n",
       " (1, 10),\n",
       " (35, 350),\n",
       " (35, 350)]"
      ]
     },
     "execution_count": 75,
     "metadata": {},
     "output_type": "execute_result"
    }
   ],
   "source": [
    "#(6) 다음 리스트가 가진 값에 10배의 값을 가지는 값을 (원래값, 10배값) 의 튜플묶음으로 가지는 리스트를 만드시오 (리스트 컴프리헨션 이용)\n",
    "# Ex) [(10,100), (30,300), .., (35, 350)]\n",
    "lst = [10, 30, 70, 5, 5, 120, 700, 1, 35, 35]\n",
    "\n",
    "[(x,x*10) for x in lst]"
   ]
  },
  {
   "cell_type": "code",
   "execution_count": 82,
   "metadata": {
    "scrolled": true
   },
   "outputs": [
    {
     "data": {
      "text/plain": [
       "[9, 99, 63, 99, 180, 360]"
      ]
     },
     "execution_count": 82,
     "metadata": {},
     "output_type": "execute_result"
    }
   ],
   "source": [
    "#(7) 다음 리스트가 가진 값들 중 3의 배수만 가지는 리스트를 만드시오. (리스트 컴프리헨션 이용)\n",
    "lst2 = [ 3, 20, 33, 21, 33, 8, 11, 10, 7, 17, 60, 120, 2]\n",
    "\n",
    "[num*3 for num in lst2 if num % 3 == 0]"
   ]
  },
  {
   "cell_type": "code",
   "execution_count": 81,
   "metadata": {},
   "outputs": [
    {
     "name": "stdout",
     "output_type": "stream",
     "text": [
      "[9, 99, 63, 99, 180, 360]\n"
     ]
    }
   ],
   "source": [
    "result=[]\n",
    "for i in lst2:\n",
    "    if i % 3 == 0:\n",
    "        result.append(i*3)\n",
    "print(result)\n"
   ]
  },
  {
   "cell_type": "code",
   "execution_count": 83,
   "metadata": {},
   "outputs": [
    {
     "data": {
      "text/plain": [
       "{9, 63, 99, 180, 360}"
      ]
     },
     "execution_count": 83,
     "metadata": {},
     "output_type": "execute_result"
    }
   ],
   "source": [
    "{num*3 for num in lst2 if num % 3 == 0}  # set{}은 중복된 값 제거"
   ]
  },
  {
   "cell_type": "code",
   "execution_count": 84,
   "metadata": {},
   "outputs": [
    {
     "data": {
      "text/plain": [
       "['a.exe', 'function.exe', 'b.exe', 'run.exe']"
      ]
     },
     "execution_count": 84,
     "metadata": {},
     "output_type": "execute_result"
    }
   ],
   "source": [
    "#(8) 다음 파일이름들을 담은 리스트에서 확장자가 exe인 파일만 골라서 새로운 리스트에 담으시오.(string의 endswith()함수 이용)\n",
    "file_name=[\"test.txt\", \"a.exe\", \"jupyter.bat\", \"function.exe\", \"b.exe\", \"cat.jpg\", \"dog.png\", \"run.exe\", \"i.dll\"]\n",
    "\n",
    "[name for name in file_name if name.endswith('exe')]"
   ]
  },
  {
   "cell_type": "code",
   "execution_count": 89,
   "metadata": {},
   "outputs": [
    {
     "data": {
      "text/plain": [
       "(True, False, True, False, True)"
      ]
     },
     "execution_count": 89,
     "metadata": {},
     "output_type": "execute_result"
    }
   ],
   "source": [
    "f=\"abc.exe\"\n",
    "f.endswith('.exe'), f.endswith('.bat'), f.startswith('ab'),f.startswith(\"test\"), \"bc\" in f"
   ]
  },
  {
   "cell_type": "code",
   "execution_count": 85,
   "metadata": {
    "scrolled": true
   },
   "outputs": [
    {
     "data": {
      "text/plain": [
       "['mystroy.txt', 'jupyter.bat', 'function.exe']"
      ]
     },
     "execution_count": 85,
     "metadata": {},
     "output_type": "execute_result"
    }
   ],
   "source": [
    "#(9) 다음 중 10글자 이상인 파일명(확장자포함)만 가지는 리스트를 만드시오.\n",
    "file_name=[\"mystroy.txt\", \"a.exe\", \"jupyter.bat\", \"function.exe\", \"b.exe\", \"cat.jpg\", \"dog.png\", \"run.exe\", \"i.dll\"]\n",
    "\n",
    "[name for name in file_name if len(name)>=10]"
   ]
  },
  {
   "cell_type": "code",
   "execution_count": 121,
   "metadata": {},
   "outputs": [
    {
     "data": {
      "text/plain": [
       "44"
      ]
     },
     "execution_count": 121,
     "metadata": {},
     "output_type": "execute_result"
    }
   ],
   "source": [
    "import random\n",
    "random.randint(1,100)  # 실행시마다 1~100 사이 임의의 정수 중 하나를 반환"
   ]
  },
  {
   "cell_type": "code",
   "execution_count": 1,
   "metadata": {},
   "outputs": [
    {
     "name": "stdout",
     "output_type": "stream",
     "text": [
      "숫자를 입력하세요:80\n",
      "더 작은 수 입니다\n",
      "숫자를 입력하세요:70\n",
      "더 큰 수 입니다\n",
      "숫자를 입력하세요:79\n",
      "정답입니다\n"
     ]
    }
   ],
   "source": [
    "number=79\n",
    "\n",
    "while True:\n",
    "    guess=int(input(\"숫자를 입력하세요:\"))\n",
    "    if guess == number:\n",
    "        print(\"정답입니다\")\n",
    "        break\n",
    "    elif guess > number:\n",
    "        print(\"더 작은 수 입니다\")\n",
    "    else:\n",
    "        print(\"더 큰 수 입니다\")"
   ]
  },
  {
   "cell_type": "code",
   "execution_count": null,
   "metadata": {
    "scrolled": true
   },
   "outputs": [
    {
     "name": "stdout",
     "output_type": "stream",
     "text": [
      "19\n"
     ]
    }
   ],
   "source": [
    "import random\n",
    "num=random.randint(1,100)\n",
    "print(num)\n",
    "\n",
    "while True:\n",
    "    guess=int(input(\"숫자를 입력하세요:\"))\n",
    "    if guess == num:\n",
    "        print(\"정답입니다\")\n",
    "        break\n",
    "    elif guess > num:\n",
    "        print(\"더 작은 수 입니다\")\n",
    "    else:\n",
    "        print(\"더 큰 수 입니다\")"
   ]
  },
  {
   "cell_type": "code",
   "execution_count": 3,
   "metadata": {},
   "outputs": [
    {
     "name": "stdout",
     "output_type": "stream",
     "text": [
      "1~100 사이의 숫자 중 하나를 입력하세요\n",
      "1~100:50\n",
      "더 큰 값을 입력하세요\n",
      "1~100:70\n",
      "더 작은 값을 입력하세요\n",
      "1~100:60\n",
      "더 큰 값을 입력하세요\n",
      "1~100:65\n",
      "더 작은 값을 입력하세요\n",
      "1~100:64\n",
      "더 작은 값을 입력하세요\n",
      "1~100:63\n",
      "더 작은 값을 입력하세요\n",
      "1~100:62\n",
      "7번 만에 맞췄습니다\n",
      "[50, 70, 60, 65, 64, 63, 62]\n"
     ]
    }
   ],
   "source": [
    "# 정답이 될 임의의 값 생성\n",
    "import random\n",
    "num = random.randint(1,100) # 1~100사이의 임의의 정수 반환\n",
    "count = 1 # 몇번째 맟추는지를 저장할 변수\n",
    "guess_list=[]  # append 함수사용하려면 리스트먼저 생성하기!\n",
    "\n",
    "print(\"1~100 사이의 숫자 중 하나를 입력하세요\")\n",
    "\n",
    "# 사용자로부터 숫자 입력\n",
    "guess_num = int(input(\"1~100:\"))\n",
    "guess_list.append(guess_num)\n",
    "\n",
    "#정답과 사용자입력값이 같은지 비교해서 같으면 종료, 다르면 다시 입력\n",
    "while num != guess_num:\n",
    "    if num > guess_num:\n",
    "        print(\"더 큰 값을 입력하세요\")\n",
    "    else:\n",
    "        print(\"더 작은 값을 입력하세요\")\n",
    "    guess_num = int(input('1~100:'))\n",
    "    guess_list.append(guess_num)\n",
    "    \n",
    "    count = count + 1 # count += 1\n",
    "    \n",
    "print(\"{}번 만에 맞췄습니다\".format(count))\n",
    "print(guess_list)"
   ]
  },
  {
   "cell_type": "code",
   "execution_count": 4,
   "metadata": {},
   "outputs": [
    {
     "name": "stdout",
     "output_type": "stream",
     "text": [
      "\n"
     ]
    }
   ],
   "source": []
  },
  {
   "cell_type": "code",
   "execution_count": null,
   "metadata": {},
   "outputs": [],
   "source": []
  },
  {
   "cell_type": "code",
   "execution_count": null,
   "metadata": {},
   "outputs": [],
   "source": []
  },
  {
   "cell_type": "code",
   "execution_count": null,
   "metadata": {},
   "outputs": [],
   "source": []
  }
 ],
 "metadata": {
  "kernelspec": {
   "display_name": "Python 3",
   "language": "python",
   "name": "python3"
  },
  "language_info": {
   "codemirror_mode": {
    "name": "ipython",
    "version": 3
   },
   "file_extension": ".py",
   "mimetype": "text/x-python",
   "name": "python",
   "nbconvert_exporter": "python",
   "pygments_lexer": "ipython3",
   "version": "3.7.4"
  }
 },
 "nbformat": 4,
 "nbformat_minor": 2
}
