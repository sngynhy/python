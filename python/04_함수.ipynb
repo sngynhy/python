{
 "cells": [
  {
   "cell_type": "markdown",
   "metadata": {},
   "source": [
    "## 함수 정의"
   ]
  },
  {
   "cell_type": "code",
   "execution_count": 3,
   "metadata": {},
   "outputs": [],
   "source": [
    "def greeting():  # 선언부(함수 선언, 함수 이름, 함수식 괄호는 항상 입력)_사용법(호출하는 입장에서)\n",
    "    print(\"안녕하세요\")   # 구현부_함수가 호출됐을 때 실행할 명령문들\n",
    "    print(\"반갑습니다\")"
   ]
  },
  {
   "cell_type": "code",
   "execution_count": 4,
   "metadata": {},
   "outputs": [
    {
     "name": "stdout",
     "output_type": "stream",
     "text": [
      "안녕하세요\n",
      "반갑습니다\n"
     ]
    }
   ],
   "source": [
    "# 함수 호출 : 이름([값,..])\n",
    "greeting()"
   ]
  },
  {
   "cell_type": "markdown",
   "metadata": {},
   "source": [
    "## 함수의 매개변수(parameter) - 순서 중요"
   ]
  },
  {
   "cell_type": "code",
   "execution_count": 5,
   "metadata": {},
   "outputs": [],
   "source": [
    "def greeting2(name):\n",
    "    print(name+\"님 안녕하세요\")"
   ]
  },
  {
   "cell_type": "code",
   "execution_count": 7,
   "metadata": {},
   "outputs": [
    {
     "name": "stdout",
     "output_type": "stream",
     "text": [
      "홍길동님 안녕하세요\n",
      "박지희님 안녕하세요\n"
     ]
    }
   ],
   "source": [
    "greeting2(\"홍길동\")\n",
    "greeting2(\"박지희\")"
   ]
  },
  {
   "cell_type": "code",
   "execution_count": 10,
   "metadata": {},
   "outputs": [],
   "source": [
    "def plus(num1, num2, num3):\n",
    "    print(\"{}+{}+{}={}\".format(num1, num2, num3, num1+num2+num3))\n",
    "#   return None  <-반환값이 없으면(none) 생략가능"
   ]
  },
  {
   "cell_type": "code",
   "execution_count": 20,
   "metadata": {},
   "outputs": [
    {
     "name": "stdout",
     "output_type": "stream",
     "text": [
      "1+2+3=6\n",
      "10+20+30=60\n",
      "100+200+300=600\n",
      "None\n"
     ]
    }
   ],
   "source": [
    "plus(1,2,3)\n",
    "plus(10,20,30)\n",
    "r = plus(100,200,300)\n",
    "print(r)  # None 반환"
   ]
  },
  {
   "cell_type": "code",
   "execution_count": 16,
   "metadata": {},
   "outputs": [],
   "source": [
    "## 리턴값 (함수가 처리가 끝나고 반환해주는 결과값)\n",
    "def plus2(num1, num2, num3):\n",
    "    result = num1+num2+num3  # 반환값\n",
    "    return result  # return 반환값 (result값을 가지고 다시 호출한 곳으로 돌아가라)\n",
    "\n",
    "# 반환값을 생략하면 None 이 반환된다\n",
    "# 반환값이 없을 경우(None) return 구문 생략 가능"
   ]
  },
  {
   "cell_type": "code",
   "execution_count": 19,
   "metadata": {},
   "outputs": [
    {
     "data": {
      "text/plain": [
       "40"
      ]
     },
     "execution_count": 19,
     "metadata": {},
     "output_type": "execute_result"
    }
   ],
   "source": [
    "a = plus2(10,20,30)\n",
    "a - 20"
   ]
  },
  {
   "cell_type": "code",
   "execution_count": 25,
   "metadata": {},
   "outputs": [],
   "source": [
    "# 반환값이 여러개인 경우 => 자료구조로 묶어서 반환 (반환값은 1개만 가능하기 때문)\n",
    "\n",
    "def calculate(num1, num2):\n",
    "    r1 = num1+num2\n",
    "    r2 = num1-num2\n",
    "    r3 = num1*num2\n",
    "    r4 = num1/num2\n",
    "    return r1,r2,r3,r4  # 반환값들 나열 (보통 편의상 튜플로 반환, 괄호생략가능)\n",
    "#   return [r1,r2,r3,r4] 리스트로 반환"
   ]
  },
  {
   "cell_type": "code",
   "execution_count": 26,
   "metadata": {},
   "outputs": [
    {
     "name": "stdout",
     "output_type": "stream",
     "text": [
      "30 -10 200 0.5\n"
     ]
    }
   ],
   "source": [
    "v1,v2,v3,v4=calculate(10, 20)\n",
    "print(v1,v2,v3,v4)"
   ]
  },
  {
   "cell_type": "code",
   "execution_count": 28,
   "metadata": {
    "scrolled": true
   },
   "outputs": [
    {
     "name": "stdout",
     "output_type": "stream",
     "text": [
      "<class 'tuple'>\n",
      "(30, -10, 200, 0.5)\n"
     ]
    }
   ],
   "source": [
    "v=calculate(10,20)\n",
    "print(type(v))\n",
    "print(v)"
   ]
  },
  {
   "cell_type": "code",
   "execution_count": 29,
   "metadata": {},
   "outputs": [],
   "source": [
    "def calculate2(num1, num2):\n",
    "    r1 = num1+num2\n",
    "    r2 = num1-num2\n",
    "    r3 = num1*num2\n",
    "    r4 = num1/num2\n",
    "    return {\n",
    "        \"덧셈\":r1, \"뺄셈\":r2, \"곱셈\":r3, \"나눗셈\":r4\n",
    "    }  #딕셔너리로 반환"
   ]
  },
  {
   "cell_type": "code",
   "execution_count": 31,
   "metadata": {},
   "outputs": [
    {
     "data": {
      "text/plain": [
       "{'덧셈': 30, '뺄셈': 10, '곱셈': 200, '나눗셈': 2.0}"
      ]
     },
     "execution_count": 31,
     "metadata": {},
     "output_type": "execute_result"
    }
   ],
   "source": [
    "calculate2(20,10)"
   ]
  },
  {
   "cell_type": "code",
   "execution_count": 34,
   "metadata": {},
   "outputs": [
    {
     "data": {
      "text/plain": [
       "30"
      ]
     },
     "execution_count": 34,
     "metadata": {},
     "output_type": "execute_result"
    }
   ],
   "source": [
    "d=calculate2(20,10)\n",
    "d['덧셈']"
   ]
  },
  {
   "cell_type": "code",
   "execution_count": 56,
   "metadata": {},
   "outputs": [],
   "source": [
    "## 기본값이 있는 매개변수(parameter)\n",
    "                                                          # 기본값 설정되지 않은 id, name은 필수\n",
    "def printInfo(id, name, age=0, address=None, hobby=[]):  # age=0 호출할 때 전달값이 있으면 그 값이 대입되고 없으면 age는 0을 기본값으로 사용\n",
    "    print(id, name, age, address, hobby)         # 기본값이 있는 매개 변수 뒤에는 일반 매개변수(기본값이 없는)는 선언할 수 없다."
   ]
  },
  {
   "cell_type": "code",
   "execution_count": 48,
   "metadata": {},
   "outputs": [
    {
     "name": "stdout",
     "output_type": "stream",
     "text": [
      "id-1 이름 0 None []\n"
     ]
    }
   ],
   "source": [
    "printInfo(\"id-1\",\"이름\")"
   ]
  },
  {
   "cell_type": "code",
   "execution_count": 40,
   "metadata": {},
   "outputs": [
    {
     "ename": "SyntaxError",
     "evalue": "non-default argument follows default argument (<ipython-input-40-a7d6885a1ded>, line 1)",
     "output_type": "error",
     "traceback": [
      "\u001b[1;36m  File \u001b[1;32m\"<ipython-input-40-a7d6885a1ded>\"\u001b[1;36m, line \u001b[1;32m1\u001b[0m\n\u001b[1;33m    def f(x,y,z=None, k):\u001b[0m\n\u001b[1;37m         ^\u001b[0m\n\u001b[1;31mSyntaxError\u001b[0m\u001b[1;31m:\u001b[0m non-default argument follows default argument\n"
     ]
    }
   ],
   "source": [
    "def f(x,y,z=None, k):  # 기본값있는 매개변수는 항상 맨 뒤에 선언해야함, 그렇지 않으면 이와 같은 오류 발생\n",
    "    pass               # 실행 확인시에는 pass로"
   ]
  },
  {
   "cell_type": "code",
   "execution_count": 49,
   "metadata": {},
   "outputs": [
    {
     "name": "stdout",
     "output_type": "stream",
     "text": [
      "id-2 홍길동 20 None []\n"
     ]
    }
   ],
   "source": [
    "printInfo('id-2','홍길동',20)"
   ]
  },
  {
   "cell_type": "code",
   "execution_count": 54,
   "metadata": {},
   "outputs": [
    {
     "name": "stdout",
     "output_type": "stream",
     "text": [
      "id-3 이순신 서울 None []\n"
     ]
    }
   ],
   "source": [
    "# printInfo(id, name, age=0, address=None, hobby=[])\n",
    "printInfo('id-3','이순신',\"서울\")    # 순서에 맞춰서 작성해야함"
   ]
  },
  {
   "cell_type": "code",
   "execution_count": 60,
   "metadata": {},
   "outputs": [
    {
     "name": "stdout",
     "output_type": "stream",
     "text": [
      "id-4 김영수 0 None ['독서', '음악감상']\n"
     ]
    }
   ],
   "source": [
    "printInfo('id-4','김영수',0,None,['독서','음악감상']) # 기본값이 있는 변수라도 생략은 불가능, 기본값으로 작성"
   ]
  },
  {
   "cell_type": "code",
   "execution_count": 61,
   "metadata": {},
   "outputs": [
    {
     "name": "stdout",
     "output_type": "stream",
     "text": [
      "id-4 김영수 0 None ['독서', '음악감상']\n"
     ]
    }
   ],
   "source": [
    "# 키워드 인수(keyword argument): 호출할 때 매개변수명을 지정해서 값 전달 -> 기본값 변수 생략 가능\n",
    "printInfo('id-4','김영수',hobby=['독서','음악감상'])"
   ]
  },
  {
   "cell_type": "code",
   "execution_count": 62,
   "metadata": {},
   "outputs": [
    {
     "name": "stdout",
     "output_type": "stream",
     "text": [
      "myid 홍길동 20 인천 []\n"
     ]
    }
   ],
   "source": [
    "printInfo(age=20, address='인천', name='홍길동',id='myid') # 변수명 함께 작성시에는 순서 상관없음"
   ]
  },
  {
   "cell_type": "code",
   "execution_count": 80,
   "metadata": {},
   "outputs": [],
   "source": [
    "# 가변인수\n",
    "def sum_nums(num_list):\n",
    "    result = 0\n",
    "    for num in num_list:\n",
    "        result += num\n",
    "    return result"
   ]
  },
  {
   "cell_type": "code",
   "execution_count": 71,
   "metadata": {},
   "outputs": [
    {
     "name": "stdout",
     "output_type": "stream",
     "text": [
      "15\n",
      "31\n"
     ]
    }
   ],
   "source": [
    "v = sum_nums([1,2,3,4,5])\n",
    "print(v)\n",
    "v = sum_nums([5,5,6,7,8])\n",
    "print(v)"
   ]
  },
  {
   "cell_type": "code",
   "execution_count": 81,
   "metadata": {},
   "outputs": [
    {
     "ename": "TypeError",
     "evalue": "sum_nums() takes 1 positional argument but 5 were given",
     "output_type": "error",
     "traceback": [
      "\u001b[1;31m---------------------------------------------------------------------------\u001b[0m",
      "\u001b[1;31mTypeError\u001b[0m                                 Traceback (most recent call last)",
      "\u001b[1;32m<ipython-input-81-05ed8a20d946>\u001b[0m in \u001b[0;36m<module>\u001b[1;34m\u001b[0m\n\u001b[1;32m----> 1\u001b[1;33m \u001b[0mv\u001b[0m \u001b[1;33m=\u001b[0m \u001b[0msum_nums\u001b[0m\u001b[1;33m(\u001b[0m\u001b[1;36m1\u001b[0m\u001b[1;33m,\u001b[0m\u001b[1;36m2\u001b[0m\u001b[1;33m,\u001b[0m\u001b[1;36m3\u001b[0m\u001b[1;33m,\u001b[0m\u001b[1;36m4\u001b[0m\u001b[1;33m,\u001b[0m\u001b[1;36m5\u001b[0m\u001b[1;33m)\u001b[0m\u001b[1;33m\u001b[0m\u001b[1;33m\u001b[0m\u001b[0m\n\u001b[0m\u001b[0;32m      2\u001b[0m \u001b[0mprint\u001b[0m\u001b[1;33m(\u001b[0m\u001b[0mv\u001b[0m\u001b[1;33m)\u001b[0m\u001b[1;33m\u001b[0m\u001b[1;33m\u001b[0m\u001b[0m\n\u001b[0;32m      3\u001b[0m \u001b[0mv\u001b[0m \u001b[1;33m=\u001b[0m \u001b[0msum_nums\u001b[0m\u001b[1;33m(\u001b[0m\u001b[1;36m1\u001b[0m\u001b[1;33m,\u001b[0m\u001b[1;36m2\u001b[0m\u001b[1;33m,\u001b[0m\u001b[1;36m3\u001b[0m\u001b[1;33m)\u001b[0m\u001b[1;33m\u001b[0m\u001b[1;33m\u001b[0m\u001b[0m\n\u001b[0;32m      4\u001b[0m \u001b[0mprint\u001b[0m\u001b[1;33m(\u001b[0m\u001b[0mv\u001b[0m\u001b[1;33m)\u001b[0m\u001b[1;33m\u001b[0m\u001b[1;33m\u001b[0m\u001b[0m\n\u001b[0;32m      5\u001b[0m \u001b[0mprint\u001b[0m\u001b[1;33m(\u001b[0m\u001b[0msum_nums\u001b[0m\u001b[1;33m(\u001b[0m\u001b[1;36m1\u001b[0m\u001b[1;33m,\u001b[0m\u001b[1;36m2\u001b[0m\u001b[1;33m)\u001b[0m\u001b[1;33m)\u001b[0m\u001b[1;33m\u001b[0m\u001b[1;33m\u001b[0m\u001b[0m\n",
      "\u001b[1;31mTypeError\u001b[0m: sum_nums() takes 1 positional argument but 5 were given"
     ]
    }
   ],
   "source": [
    "v = sum_nums(1,2,3,4,5)\n",
    "print(v)\n",
    "v = sum_nums(1,2,3)\n",
    "print(v)\n",
    "print(sum_nums(1,2))\n",
    "print(sum_nums())"
   ]
  },
  {
   "cell_type": "code",
   "execution_count": 86,
   "metadata": {},
   "outputs": [],
   "source": [
    "# 가변인수\n",
    "\n",
    "def sum_nums(*num_list):  # 매개변수명 앞에 * 를 붙이면 즉, *변수 : 0 ~ n 개의 전달값을 튜플로 묶어서 받는다.\n",
    "    print(type(num_list))\n",
    "    result = 0\n",
    "    for num in num_list:\n",
    "        result += num\n",
    "    return result"
   ]
  },
  {
   "cell_type": "code",
   "execution_count": 87,
   "metadata": {},
   "outputs": [
    {
     "name": "stdout",
     "output_type": "stream",
     "text": [
      "<class 'tuple'>\n",
      "15\n",
      "<class 'tuple'>\n",
      "6\n",
      "<class 'tuple'>\n",
      "3\n",
      "<class 'tuple'>\n",
      "0\n"
     ]
    }
   ],
   "source": [
    "v = sum_nums(1,2,3,4,5)\n",
    "print(v)\n",
    "v = sum_nums(1,2,3)\n",
    "print(v)\n",
    "print(sum_nums(1,2))\n",
    "print(sum_nums())"
   ]
  },
  {
   "cell_type": "code",
   "execution_count": 88,
   "metadata": {},
   "outputs": [
    {
     "name": "stdout",
     "output_type": "stream",
     "text": [
      "<class 'tuple'>\n"
     ]
    },
    {
     "ename": "TypeError",
     "evalue": "unsupported operand type(s) for +=: 'int' and 'list'",
     "output_type": "error",
     "traceback": [
      "\u001b[1;31m---------------------------------------------------------------------------\u001b[0m",
      "\u001b[1;31mTypeError\u001b[0m                                 Traceback (most recent call last)",
      "\u001b[1;32m<ipython-input-88-2fca76785ecd>\u001b[0m in \u001b[0;36m<module>\u001b[1;34m\u001b[0m\n\u001b[0;32m      1\u001b[0m \u001b[0ml\u001b[0m \u001b[1;33m=\u001b[0m \u001b[1;33m[\u001b[0m\u001b[1;36m1\u001b[0m\u001b[1;33m,\u001b[0m\u001b[1;36m2\u001b[0m\u001b[1;33m,\u001b[0m\u001b[1;36m3\u001b[0m\u001b[1;33m,\u001b[0m\u001b[1;36m4\u001b[0m\u001b[1;33m,\u001b[0m\u001b[1;36m5\u001b[0m\u001b[1;33m,\u001b[0m\u001b[1;36m6\u001b[0m\u001b[1;33m,\u001b[0m\u001b[1;36m7\u001b[0m\u001b[1;33m,\u001b[0m\u001b[1;36m8\u001b[0m\u001b[1;33m,\u001b[0m\u001b[1;36m9\u001b[0m\u001b[1;33m]\u001b[0m\u001b[1;33m\u001b[0m\u001b[1;33m\u001b[0m\u001b[0m\n\u001b[1;32m----> 2\u001b[1;33m \u001b[0mv\u001b[0m \u001b[1;33m=\u001b[0m \u001b[0msum_nums\u001b[0m\u001b[1;33m(\u001b[0m\u001b[0ml\u001b[0m\u001b[1;33m)\u001b[0m\u001b[1;33m\u001b[0m\u001b[1;33m\u001b[0m\u001b[0m\n\u001b[0m\u001b[0;32m      3\u001b[0m \u001b[0mprint\u001b[0m\u001b[1;33m(\u001b[0m\u001b[0mv\u001b[0m\u001b[1;33m)\u001b[0m\u001b[1;33m\u001b[0m\u001b[1;33m\u001b[0m\u001b[0m\n",
      "\u001b[1;32m<ipython-input-86-67d0e8575295>\u001b[0m in \u001b[0;36msum_nums\u001b[1;34m(*num_list)\u001b[0m\n\u001b[0;32m      3\u001b[0m     \u001b[0mresult\u001b[0m \u001b[1;33m=\u001b[0m \u001b[1;36m0\u001b[0m\u001b[1;33m\u001b[0m\u001b[1;33m\u001b[0m\u001b[0m\n\u001b[0;32m      4\u001b[0m     \u001b[1;32mfor\u001b[0m \u001b[0mnum\u001b[0m \u001b[1;32min\u001b[0m \u001b[0mnum_list\u001b[0m\u001b[1;33m:\u001b[0m\u001b[1;33m\u001b[0m\u001b[1;33m\u001b[0m\u001b[0m\n\u001b[1;32m----> 5\u001b[1;33m         \u001b[0mresult\u001b[0m \u001b[1;33m+=\u001b[0m \u001b[0mnum\u001b[0m\u001b[1;33m\u001b[0m\u001b[1;33m\u001b[0m\u001b[0m\n\u001b[0m\u001b[0;32m      6\u001b[0m     \u001b[1;32mreturn\u001b[0m \u001b[0mresult\u001b[0m\u001b[1;33m\u001b[0m\u001b[1;33m\u001b[0m\u001b[0m\n",
      "\u001b[1;31mTypeError\u001b[0m: unsupported operand type(s) for +=: 'int' and 'list'"
     ]
    }
   ],
   "source": [
    "l = [1,2,3,4,5,6,7,8,9]\n",
    "v = sum_nums(*l) # 리스트(튜플)의 원소들을 가변인자로 전달 -> *리스트, *튜플\n",
    "print(v)"
   ]
  },
  {
   "cell_type": "code",
   "execution_count": 89,
   "metadata": {},
   "outputs": [],
   "source": [
    "# 가변인수 : **변수명\n",
    "# 호출할때 keyword 인수 형태로 전달하고 가변인수는 전달된 갑을 딕셔너리(dictionary) 로 처리한다\n",
    "# 값의 개수는 제한 없음"
   ]
  },
  {
   "cell_type": "code",
   "execution_count": 90,
   "metadata": {},
   "outputs": [],
   "source": [
    "def personInfo(**info):\n",
    "    print(\"ID:\", info.get('id'))\n",
    "    print(\"이름:\", info.get('name'))\n",
    "    print(\"나이:\", info.get('age'))\n",
    "    print(type(info))\n",
    "    print(info)"
   ]
  },
  {
   "cell_type": "code",
   "execution_count": 91,
   "metadata": {},
   "outputs": [
    {
     "name": "stdout",
     "output_type": "stream",
     "text": [
      "ID: id-10\n",
      "이름: 홍길동\n",
      "나이: 20\n",
      "<class 'dict'>\n",
      "{'id': 'id-10', 'name': '홍길동', 'age': 20, 'address': '서울'}\n"
     ]
    }
   ],
   "source": [
    "personInfo(id='id-10',name='홍길동',age=20,address='서울')"
   ]
  },
  {
   "cell_type": "code",
   "execution_count": 93,
   "metadata": {},
   "outputs": [
    {
     "ename": "TypeError",
     "evalue": "personInfo() takes 0 positional arguments but 1 was given",
     "output_type": "error",
     "traceback": [
      "\u001b[1;31m---------------------------------------------------------------------------\u001b[0m",
      "\u001b[1;31mTypeError\u001b[0m                                 Traceback (most recent call last)",
      "\u001b[1;32m<ipython-input-93-f21d075fe027>\u001b[0m in \u001b[0;36m<module>\u001b[1;34m\u001b[0m\n\u001b[0;32m      1\u001b[0m \u001b[0minfo\u001b[0m \u001b[1;33m=\u001b[0m \u001b[1;33m{\u001b[0m\u001b[1;34m'id'\u001b[0m\u001b[1;33m:\u001b[0m \u001b[1;34m'id-10'\u001b[0m\u001b[1;33m,\u001b[0m \u001b[1;34m'name'\u001b[0m\u001b[1;33m:\u001b[0m \u001b[1;34m'홍길동'\u001b[0m\u001b[1;33m,\u001b[0m \u001b[1;34m'age'\u001b[0m\u001b[1;33m:\u001b[0m \u001b[1;36m20\u001b[0m\u001b[1;33m,\u001b[0m \u001b[1;34m'address'\u001b[0m\u001b[1;33m:\u001b[0m \u001b[1;34m'서울'\u001b[0m\u001b[1;33m}\u001b[0m\u001b[1;33m\u001b[0m\u001b[1;33m\u001b[0m\u001b[0m\n\u001b[1;32m----> 2\u001b[1;33m \u001b[0mpersonInfo\u001b[0m\u001b[1;33m(\u001b[0m\u001b[0minfo\u001b[0m\u001b[1;33m)\u001b[0m\u001b[1;33m\u001b[0m\u001b[1;33m\u001b[0m\u001b[0m\n\u001b[0m",
      "\u001b[1;31mTypeError\u001b[0m: personInfo() takes 0 positional arguments but 1 was given"
     ]
    }
   ],
   "source": [
    "info = {'id': 'id-10', 'name': '홍길동', 'age': 20, 'address': '서울'}\n",
    "personInfo(info)"
   ]
  },
  {
   "cell_type": "code",
   "execution_count": 94,
   "metadata": {},
   "outputs": [
    {
     "name": "stdout",
     "output_type": "stream",
     "text": [
      "ID: id-10\n",
      "이름: 홍길동\n",
      "나이: 20\n",
      "<class 'dict'>\n",
      "{'id': 'id-10', 'name': '홍길동', 'age': 20, 'address': '서울'}\n"
     ]
    }
   ],
   "source": [
    "info = {'id': 'id-10', 'name': '홍길동', 'age': 20, 'address': '서울'}\n",
    "personInfo(**info)  # 형식 맞추기 : 딕셔너리의 item(key-value)를 키워드 인수형식으로 만들어 호출"
   ]
  },
  {
   "cell_type": "code",
   "execution_count": 98,
   "metadata": {},
   "outputs": [
    {
     "ename": "SyntaxError",
     "evalue": "invalid syntax (<ipython-input-98-3096275f9ac6>, line 3)",
     "output_type": "error",
     "traceback": [
      "\u001b[1;36m  File \u001b[1;32m\"<ipython-input-98-3096275f9ac6>\"\u001b[1;36m, line \u001b[1;32m3\u001b[0m\n\u001b[1;33m    def a(m, n, *x, **y, r):   # 가변인수는 일반 매개변수 다음에 선언해야 한다. 즉 가변인수 뒤에 일반 매개변수 올 수 없다(오류발생)\u001b[0m\n\u001b[1;37m                         ^\u001b[0m\n\u001b[1;31mSyntaxError\u001b[0m\u001b[1;31m:\u001b[0m invalid syntax\n"
     ]
    }
   ],
   "source": [
    "# 가변인수는 하나의 함수에 한개씩만 선언할 수 있다. 단, *변수, **변수 는 가능(구분가능하기때문에)\n",
    "# 변수명(관례) : *args, **kwargs\n",
    "def a(m, n, *x, **y, r):   # 가변인수는 일반 매개변수 다음에 선언해야 한다. 즉 가변인수 뒤에 일반 매개변수 올 수 없다(오류발생)\n",
    "    pass"
   ]
  },
  {
   "cell_type": "markdown",
   "metadata": {},
   "source": [
    "#  함수는 일급시민객체(first class citizen object)\n",
    " - 일급시민객체 란?\n",
    "  - 변수에 대입 가능\n",
    "  - 함수 호출 시 매개변수로 전달할 수 있어야 한다\n",
    "  - 함수의 반환값으로 사용할 수 있어야 한다"
   ]
  },
  {
   "cell_type": "code",
   "execution_count": 99,
   "metadata": {},
   "outputs": [],
   "source": [
    "def hello(name):\n",
    "    print(name+\" 안녕하세요.\")"
   ]
  },
  {
   "cell_type": "code",
   "execution_count": 100,
   "metadata": {},
   "outputs": [
    {
     "name": "stdout",
     "output_type": "stream",
     "text": [
      "홍길동 안녕하세요.\n"
     ]
    }
   ],
   "source": [
    "hello(\"홍길동\")"
   ]
  },
  {
   "cell_type": "code",
   "execution_count": 119,
   "metadata": {},
   "outputs": [],
   "source": [
    "my_hello = hello"
   ]
  },
  {
   "cell_type": "code",
   "execution_count": 102,
   "metadata": {
    "scrolled": true
   },
   "outputs": [
    {
     "name": "stdout",
     "output_type": "stream",
     "text": [
      "이순신 안녕하세요.\n"
     ]
    }
   ],
   "source": [
    "my_hello(\"이순신\")"
   ]
  },
  {
   "cell_type": "code",
   "execution_count": 105,
   "metadata": {},
   "outputs": [
    {
     "data": {
      "text/plain": [
       "(3, -1, 2, 0.5)"
      ]
     },
     "execution_count": 105,
     "metadata": {},
     "output_type": "execute_result"
    }
   ],
   "source": [
    "calc = calculate(1,2)  # 함수 호출, calc: calculate(1,2)의 반환값이 들어감\n",
    "calc"
   ]
  },
  {
   "cell_type": "code",
   "execution_count": 108,
   "metadata": {},
   "outputs": [
    {
     "data": {
      "text/plain": [
       "(3, -1, 2, 0.5)"
      ]
     },
     "execution_count": 108,
     "metadata": {},
     "output_type": "execute_result"
    }
   ],
   "source": [
    "calc = calculate  # 함수 자체를 calc변수에 대입(함수에 새이름 추가하는 개념)\n",
    "calc(1,2)"
   ]
  },
  {
   "cell_type": "code",
   "execution_count": 109,
   "metadata": {},
   "outputs": [],
   "source": [
    "def calculate3(func):\n",
    "    num1 = 10\n",
    "    num2 = 20\n",
    "    result = func(num1, num2)\n",
    "    print(result)"
   ]
  },
  {
   "cell_type": "code",
   "execution_count": 113,
   "metadata": {},
   "outputs": [],
   "source": [
    "def plus(n1, n2):\n",
    "    return n1+n2"
   ]
  },
  {
   "cell_type": "code",
   "execution_count": 114,
   "metadata": {
    "scrolled": true
   },
   "outputs": [
    {
     "data": {
      "text/plain": [
       "3"
      ]
     },
     "execution_count": 114,
     "metadata": {},
     "output_type": "execute_result"
    }
   ],
   "source": [
    "a = plus\n",
    "a(1,2)"
   ]
  },
  {
   "cell_type": "code",
   "execution_count": 116,
   "metadata": {
    "scrolled": true
   },
   "outputs": [
    {
     "name": "stdout",
     "output_type": "stream",
     "text": [
      "30\n"
     ]
    },
    {
     "data": {
      "text/plain": [
       "30"
      ]
     },
     "execution_count": 116,
     "metadata": {},
     "output_type": "execute_result"
    }
   ],
   "source": [
    "calculate3(plus)\n",
    "# func=plus\n",
    "# func(10,20) => 10+20"
   ]
  },
  {
   "cell_type": "code",
   "execution_count": 117,
   "metadata": {
    "scrolled": true
   },
   "outputs": [
    {
     "name": "stdout",
     "output_type": "stream",
     "text": [
      "-10\n"
     ]
    }
   ],
   "source": [
    "def minus(n1,n2):\n",
    "    return n1-n2\n",
    "calculate3(minus) => 10-20"
   ]
  },
  {
   "cell_type": "markdown",
   "metadata": {},
   "source": [
    "# 람다식(lambda)\n",
    " - 단일 구문으로 표현하는 익명의 함수\n",
    " - 익명함수: 이름없이 구현만 가지고 있는 함수\n",
    " - 일회성 함수를 만들 때 사용, 즉 여러번 사용 불가\n",
    " \n",
    " - 구문\n",
    " ```python\n",
    " lambda [매개변수]: 명령문    # [매개변수] 생략 가능\n",
    " ```\n",
    " \n",
    " \n",
    " - 명령문 : 하나의 명령문만 가능. 반환값이 있어야 한다. (명령문이 반환하는 값을 람다함수가 반환한다.)"
   ]
  },
  {
   "cell_type": "code",
   "execution_count": 120,
   "metadata": {},
   "outputs": [],
   "source": [
    "def minus(n1,n2):\n",
    "    return n1-n2"
   ]
  },
  {
   "cell_type": "code",
   "execution_count": 123,
   "metadata": {},
   "outputs": [
    {
     "data": {
      "text/plain": [
       "-1"
      ]
     },
     "execution_count": 123,
     "metadata": {},
     "output_type": "execute_result"
    }
   ],
   "source": [
    "fun = lambda n1,n2 : n1-n2\n",
    "fun(1,2)"
   ]
  },
  {
   "cell_type": "code",
   "execution_count": 124,
   "metadata": {},
   "outputs": [
    {
     "data": {
      "text/plain": [
       "200"
      ]
     },
     "execution_count": 124,
     "metadata": {},
     "output_type": "execute_result"
    }
   ],
   "source": [
    "(lambda x:x*20)(10)"
   ]
  },
  {
   "cell_type": "code",
   "execution_count": 126,
   "metadata": {},
   "outputs": [
    {
     "name": "stdout",
     "output_type": "stream",
     "text": [
      "-10\n"
     ]
    }
   ],
   "source": [
    "calculate3(lambda x,y:x-y)"
   ]
  },
  {
   "cell_type": "code",
   "execution_count": 129,
   "metadata": {},
   "outputs": [
    {
     "name": "stdout",
     "output_type": "stream",
     "text": [
      "200\n"
     ]
    }
   ],
   "source": [
    "calculate3(lambda x,y:x*y)"
   ]
  },
  {
   "cell_type": "code",
   "execution_count": 132,
   "metadata": {},
   "outputs": [
    {
     "data": {
      "text/plain": [
       "['aaa', 'aaaddddd', 'bb', 'ccccc', 'fdjisojiofjiosj', 's']"
      ]
     },
     "execution_count": 132,
     "metadata": {},
     "output_type": "execute_result"
    }
   ],
   "source": [
    "str_list=[\"aaa\",\"bb\",\"ccccc\",\"aaaddddd\",\"s\",\"fdjisojiofjiosj\"]\n",
    "str_list.sort()\n",
    "str_list"
   ]
  },
  {
   "cell_type": "code",
   "execution_count": 133,
   "metadata": {},
   "outputs": [
    {
     "data": {
      "text/plain": [
       "['s', 'bb', 'aaa', 'ccccc', 'aaaddddd', 'fdjisojiofjiosj']"
      ]
     },
     "execution_count": 133,
     "metadata": {},
     "output_type": "execute_result"
    }
   ],
   "source": [
    "str_list=[\"aaa\",\"bb\",\"ccccc\",\"aaaddddd\",\"s\",\"fdjisojiofjiosj\"]\n",
    "str_list.sort(key=lambda x:len(x))  # key=함수, 함수가 반환하는 숫자순서로 정렬 (이 경우 글자수의 크기순으로 오름차순 정렬)\n",
    "str_list"
   ]
  },
  {
   "cell_type": "markdown",
   "metadata": {},
   "source": [
    " - filter(함수, 리스트): 리스트 내 원소들 중 특정 조건을 만족하는 것들만 걸러내는 함수\n",
    "                  : 원소 하나 하나를 함수에 전달해 True를 반환하는 것만 남긴다.\n",
    " - map(함수, 리스트): 리스트 내 원소들을 처리하여 변형한 결과를 Iterabal로 반환"
   ]
  },
  {
   "cell_type": "code",
   "execution_count": 145,
   "metadata": {},
   "outputs": [
    {
     "data": {
      "text/plain": [
       "<filter at 0x23dd90ba128>"
      ]
     },
     "execution_count": 145,
     "metadata": {},
     "output_type": "execute_result"
    }
   ],
   "source": [
    "num_list= list(range(1,100))\n",
    "even_list=filter(lambda x:x%2==0,  num_list)\n",
    "even_list  # Iterable 타입 (제너레이터-range())\n",
    "#list(even_list)"
   ]
  },
  {
   "cell_type": "code",
   "execution_count": 146,
   "metadata": {
    "scrolled": true
   },
   "outputs": [
    {
     "name": "stdout",
     "output_type": "stream",
     "text": [
      "2 4 6 8 10 12 14 16 18 20 22 24 26 28 30 32 34 36 38 40 42 44 46 48 50 52 54 56 58 60 62 64 66 68 70 72 74 76 78 80 82 84 86 88 90 92 94 96 98 "
     ]
    }
   ],
   "source": [
    "for i in even_list:\n",
    "    print(i, end=' ')"
   ]
  },
  {
   "cell_type": "code",
   "execution_count": 149,
   "metadata": {},
   "outputs": [
    {
     "data": {
      "text/plain": [
       "[2,\n",
       " 4,\n",
       " 6,\n",
       " 8,\n",
       " 10,\n",
       " 12,\n",
       " 14,\n",
       " 16,\n",
       " 18,\n",
       " 20,\n",
       " 22,\n",
       " 24,\n",
       " 26,\n",
       " 28,\n",
       " 30,\n",
       " 32,\n",
       " 34,\n",
       " 36,\n",
       " 38,\n",
       " 40,\n",
       " 42,\n",
       " 44,\n",
       " 46,\n",
       " 48,\n",
       " 50,\n",
       " 52,\n",
       " 54,\n",
       " 56,\n",
       " 58,\n",
       " 60,\n",
       " 62,\n",
       " 64,\n",
       " 66,\n",
       " 68,\n",
       " 70,\n",
       " 72,\n",
       " 74,\n",
       " 76,\n",
       " 78,\n",
       " 80,\n",
       " 82,\n",
       " 84,\n",
       " 86,\n",
       " 88,\n",
       " 90,\n",
       " 92,\n",
       " 94,\n",
       " 96,\n",
       " 98]"
      ]
     },
     "execution_count": 149,
     "metadata": {},
     "output_type": "execute_result"
    }
   ],
   "source": [
    "[num for num in num_list if num % 2 == 0] # list(even_list)와 같은 결과"
   ]
  },
  {
   "cell_type": "code",
   "execution_count": 155,
   "metadata": {},
   "outputs": [
    {
     "data": {
      "text/plain": [
       "[200,\n",
       " 400,\n",
       " 600,\n",
       " 800,\n",
       " 1000,\n",
       " 1200,\n",
       " 1400,\n",
       " 1600,\n",
       " 1800,\n",
       " 2000,\n",
       " 2200,\n",
       " 2400,\n",
       " 2600,\n",
       " 2800,\n",
       " 3000,\n",
       " 3200,\n",
       " 3400,\n",
       " 3600,\n",
       " 3800,\n",
       " 4000,\n",
       " 4200,\n",
       " 4400,\n",
       " 4600,\n",
       " 4800,\n",
       " 5000,\n",
       " 5200,\n",
       " 5400,\n",
       " 5600,\n",
       " 5800,\n",
       " 6000,\n",
       " 6200,\n",
       " 6400,\n",
       " 6600,\n",
       " 6800,\n",
       " 7000,\n",
       " 7200,\n",
       " 7400,\n",
       " 7600,\n",
       " 7800,\n",
       " 8000,\n",
       " 8200,\n",
       " 8400,\n",
       " 8600,\n",
       " 8800,\n",
       " 9000,\n",
       " 9200,\n",
       " 9400,\n",
       " 9600,\n",
       " 9800,\n",
       " 10000,\n",
       " 10200,\n",
       " 10400,\n",
       " 10600,\n",
       " 10800,\n",
       " 11000,\n",
       " 11200,\n",
       " 11400,\n",
       " 11600,\n",
       " 11800,\n",
       " 12000,\n",
       " 12200,\n",
       " 12400,\n",
       " 12600,\n",
       " 12800,\n",
       " 13000,\n",
       " 13200,\n",
       " 13400,\n",
       " 13600,\n",
       " 13800,\n",
       " 14000,\n",
       " 14200,\n",
       " 14400,\n",
       " 14600,\n",
       " 14800,\n",
       " 15000,\n",
       " 15200,\n",
       " 15400,\n",
       " 15600,\n",
       " 15800,\n",
       " 16000,\n",
       " 16200,\n",
       " 16400,\n",
       " 16600,\n",
       " 16800,\n",
       " 17000,\n",
       " 17200,\n",
       " 17400,\n",
       " 17600,\n",
       " 17800,\n",
       " 18000,\n",
       " 18200,\n",
       " 18400,\n",
       " 18600,\n",
       " 18800,\n",
       " 19000,\n",
       " 19200,\n",
       " 19400,\n",
       " 19600,\n",
       " 19800]"
      ]
     },
     "execution_count": 155,
     "metadata": {},
     "output_type": "execute_result"
    }
   ],
   "source": [
    "m = map(lambda x:x*200, num_list)\n",
    "list(m)"
   ]
  },
  {
   "cell_type": "code",
   "execution_count": 156,
   "metadata": {},
   "outputs": [
    {
     "data": {
      "text/plain": [
       "[200,\n",
       " 400,\n",
       " 600,\n",
       " 800,\n",
       " 1000,\n",
       " 1200,\n",
       " 1400,\n",
       " 1600,\n",
       " 1800,\n",
       " 2000,\n",
       " 2200,\n",
       " 2400,\n",
       " 2600,\n",
       " 2800,\n",
       " 3000,\n",
       " 3200,\n",
       " 3400,\n",
       " 3600,\n",
       " 3800,\n",
       " 4000,\n",
       " 4200,\n",
       " 4400,\n",
       " 4600,\n",
       " 4800,\n",
       " 5000,\n",
       " 5200,\n",
       " 5400,\n",
       " 5600,\n",
       " 5800,\n",
       " 6000,\n",
       " 6200,\n",
       " 6400,\n",
       " 6600,\n",
       " 6800,\n",
       " 7000,\n",
       " 7200,\n",
       " 7400,\n",
       " 7600,\n",
       " 7800,\n",
       " 8000,\n",
       " 8200,\n",
       " 8400,\n",
       " 8600,\n",
       " 8800,\n",
       " 9000,\n",
       " 9200,\n",
       " 9400,\n",
       " 9600,\n",
       " 9800,\n",
       " 10000,\n",
       " 10200,\n",
       " 10400,\n",
       " 10600,\n",
       " 10800,\n",
       " 11000,\n",
       " 11200,\n",
       " 11400,\n",
       " 11600,\n",
       " 11800,\n",
       " 12000,\n",
       " 12200,\n",
       " 12400,\n",
       " 12600,\n",
       " 12800,\n",
       " 13000,\n",
       " 13200,\n",
       " 13400,\n",
       " 13600,\n",
       " 13800,\n",
       " 14000,\n",
       " 14200,\n",
       " 14400,\n",
       " 14600,\n",
       " 14800,\n",
       " 15000,\n",
       " 15200,\n",
       " 15400,\n",
       " 15600,\n",
       " 15800,\n",
       " 16000,\n",
       " 16200,\n",
       " 16400,\n",
       " 16600,\n",
       " 16800,\n",
       " 17000,\n",
       " 17200,\n",
       " 17400,\n",
       " 17600,\n",
       " 17800,\n",
       " 18000,\n",
       " 18200,\n",
       " 18400,\n",
       " 18600,\n",
       " 18800,\n",
       " 19000,\n",
       " 19200,\n",
       " 19400,\n",
       " 19600,\n",
       " 19800]"
      ]
     },
     "execution_count": 156,
     "metadata": {},
     "output_type": "execute_result"
    }
   ],
   "source": [
    "[num*200 for num in num_list]"
   ]
  },
  {
   "cell_type": "code",
   "execution_count": 157,
   "metadata": {},
   "outputs": [
    {
     "data": {
      "text/plain": [
       "[100,\n",
       " 300,\n",
       " 500,\n",
       " 700,\n",
       " 900,\n",
       " 1100,\n",
       " 1300,\n",
       " 1500,\n",
       " 1700,\n",
       " 1900,\n",
       " 2100,\n",
       " 2300,\n",
       " 2500,\n",
       " 2700,\n",
       " 2900,\n",
       " 3100,\n",
       " 3300,\n",
       " 3500,\n",
       " 3700,\n",
       " 3900,\n",
       " 4100,\n",
       " 4300,\n",
       " 4500,\n",
       " 4700,\n",
       " 4900,\n",
       " 5100,\n",
       " 5300,\n",
       " 5500,\n",
       " 5700,\n",
       " 5900,\n",
       " 6100,\n",
       " 6300,\n",
       " 6500,\n",
       " 6700,\n",
       " 6900,\n",
       " 7100,\n",
       " 7300,\n",
       " 7500,\n",
       " 7700,\n",
       " 7900,\n",
       " 8100,\n",
       " 8300,\n",
       " 8500,\n",
       " 8700,\n",
       " 8900,\n",
       " 9100,\n",
       " 9300,\n",
       " 9500,\n",
       " 9700,\n",
       " 9900]"
      ]
     },
     "execution_count": 157,
     "metadata": {},
     "output_type": "execute_result"
    }
   ],
   "source": [
    "# num_list 의 값들 중 홀수 * 100\n",
    "m1=map(lambda x:x*100 ,filter(lambda x:x%2!=0, num_list))\n",
    "list(m1)"
   ]
  },
  {
   "cell_type": "code",
   "execution_count": 158,
   "metadata": {
    "scrolled": true
   },
   "outputs": [
    {
     "data": {
      "text/plain": [
       "[9,\n",
       " 36,\n",
       " 81,\n",
       " 144,\n",
       " 225,\n",
       " 324,\n",
       " 441,\n",
       " 576,\n",
       " 729,\n",
       " 900,\n",
       " 1089,\n",
       " 1296,\n",
       " 1521,\n",
       " 1764,\n",
       " 2025,\n",
       " 2304,\n",
       " 2601,\n",
       " 2916,\n",
       " 3249,\n",
       " 3600,\n",
       " 3969,\n",
       " 4356,\n",
       " 4761,\n",
       " 5184,\n",
       " 5625,\n",
       " 6084,\n",
       " 6561,\n",
       " 7056,\n",
       " 7569,\n",
       " 8100,\n",
       " 8649,\n",
       " 9216,\n",
       " 9801]"
      ]
     },
     "execution_count": 158,
     "metadata": {},
     "output_type": "execute_result"
    }
   ],
   "source": [
    "# num_list 값들 중 3의 배수의 제곱\n",
    "m2=map(lambda x:x**2,filter(lambda x:x%3==0, num_list))\n",
    "list(m2)"
   ]
  },
  {
   "cell_type": "code",
   "execution_count": 166,
   "metadata": {},
   "outputs": [],
   "source": [
    "# docstring: 함수에 대한 설명 (shift + tab 키) or ?함수식\n",
    "# 함수의 구현부의 첫번째에 여러줄 문자열로 작성한다.\n",
    "\n",
    "# 함수 매개변수/리턴타입에 대한 힌트(주석) , 문자열 \" \" 필요, 타입(str,int..)은 \" \" 생략가능, 기본값있는 경우 = 앞에 주석달기\n",
    "def printInfo(id:\"아이디-int\", name:str, age:int, address:\"주소\"=None)->\"리턴값주석\":\n",
    "    \"\"\"설명\n",
    "    매개변수 설명\n",
    "    리턴값 설명\n",
    "    예제(필요하면)\"\"\"\n",
    "    return f'{id}, {name}, {age}, {address}'"
   ]
  },
  {
   "cell_type": "code",
   "execution_count": 167,
   "metadata": {},
   "outputs": [],
   "source": [
    "?printInfo"
   ]
  },
  {
   "cell_type": "markdown",
   "metadata": {},
   "source": [
    "# 연습문제"
   ]
  },
  {
   "cell_type": "code",
   "execution_count": 6,
   "metadata": {},
   "outputs": [
    {
     "name": "stdout",
     "output_type": "stream",
     "text": [
      "2x1=2\n",
      "2x2=4\n",
      "2x3=6\n",
      "2x4=8\n",
      "2x5=10\n",
      "2x6=12\n",
      "2x7=14\n",
      "2x8=16\n",
      "2x9=18\n",
      "4x1=4\n",
      "4x2=8\n",
      "4x3=12\n",
      "4x4=16\n",
      "4x5=20\n",
      "4x6=24\n",
      "4x7=28\n",
      "4x8=32\n",
      "4x9=36\n"
     ]
    }
   ],
   "source": [
    "# 1. 사용자가 입력한 단의 구구단을 출력하는 함수를 구현\n",
    "\n",
    "def multi(num):\n",
    "#    num=int(input(\"단을 입력하세요\"))\n",
    "    for i in range(1,10):\n",
    "        print(\"{}x{}={}\".format(num,i,num*i))\n",
    "        \n",
    "multi(2)\n",
    "multi(4)"
   ]
  },
  {
   "cell_type": "code",
   "execution_count": 17,
   "metadata": {},
   "outputs": [
    {
     "name": "stdout",
     "output_type": "stream",
     "text": [
      "1,12 사이의 모든 정수의 합은 65입니다.\n"
     ]
    }
   ],
   "source": [
    "# 2. 시작 정수, 끝 정수를 받아 그 사이의 모든 정수의 합을 구해서 반환하는 함수를 구현\n",
    "\n",
    "def add(x,y):\n",
    "    result=0\n",
    "    \n",
    "    for num in range(x+1,y):\n",
    "        result += num \n",
    "    return print(\"{},{} 사이의 모든 정수의 합은 {}입니다.\".format(x,y,result))\n",
    "add(1,12)"
   ]
  },
  {
   "cell_type": "code",
   "execution_count": 11,
   "metadata": {},
   "outputs": [
    {
     "name": "stdout",
     "output_type": "stream",
     "text": [
      "44\n",
      "0\n"
     ]
    }
   ],
   "source": [
    "# 2. 선생님 풀이\n",
    "\n",
    "def accumulate(start,end):\n",
    "    return sum(range(start+1,end)) # sum 함수이용\n",
    "\n",
    "print(accumulate(1,10))\n",
    "print(accumulate(2,1))  # 시작값이 끝값보다 큰 경우 0 반환"
   ]
  },
  {
   "cell_type": "code",
   "execution_count": 20,
   "metadata": {},
   "outputs": [
    {
     "name": "stdout",
     "output_type": "stream",
     "text": [
      "7,10 사이의 모든 정수의 합은 17입니다.\n",
      "None\n",
      "0,9 사이의 모든 정수의 합은 36입니다.\n",
      "None\n",
      "0,100 사이의 모든 정수의 합은 4950입니다.\n",
      "None\n"
     ]
    }
   ],
   "source": [
    "# 3. 2번 문제에서 시작을 받지 않은 경우 0을, 끝 정수를 받지 않으면 10이 들어가도록 구현을 변경\n",
    "\n",
    "def add(x=0,y=10):\n",
    "    result=0\n",
    "\n",
    "    for num in range(x+1,y):\n",
    "        result += num\n",
    "    return print(\"{},{} 사이의 모든 정수의 합은 {}입니다.\".format(x,y,result))\n",
    "\n",
    "print(add(7))  # 첫번째값을 받고 두번째 값을 받지 않을때는 두번째값 생략가능\n",
    "print(add(x=0,y=9)) # 첫번째값을 받지 않을경우에는 기본값으로 기입하고 x,y값 명시하거나\n",
    "print(add(y=100)) # x 값 생략하면 기본값으로 계산됨"
   ]
  },
  {
   "cell_type": "code",
   "execution_count": 22,
   "metadata": {},
   "outputs": [
    {
     "name": "stdout",
     "output_type": "stream",
     "text": [
      "39\n",
      "6\n",
      "190\n"
     ]
    }
   ],
   "source": [
    "def add(x=0,y=10):\n",
    "    return sum(range(x+1,y))\n",
    "\n",
    "print(add(3))  #x=3,y=10\n",
    "print(add(0,4))\n",
    "print(add(y=20))"
   ]
  },
  {
   "cell_type": "code",
   "execution_count": 26,
   "metadata": {},
   "outputs": [
    {
     "name": "stdout",
     "output_type": "stream",
     "text": [
      "17\n"
     ]
    }
   ],
   "source": [
    "def add(*args):  # *변수명 : 가변인수 -> 튜플로 자동으로 묶어줌\n",
    "    result=0\n",
    "    for num in args:\n",
    "        result+=num\n",
    "    return result\n",
    "\n",
    "print(add(1,10,2,4))"
   ]
  },
  {
   "cell_type": "code",
   "execution_count": 35,
   "metadata": {},
   "outputs": [
    {
     "name": "stdout",
     "output_type": "stream",
     "text": [
      "15\n",
      "120\n"
     ]
    }
   ],
   "source": [
    "def add(**kwargs):\n",
    "    v = kwargs['value']\n",
    "    op = kwargs['op']\n",
    "    \n",
    "    if op == '+':\n",
    "        result = 0\n",
    "        for num in v:\n",
    "            result += num\n",
    "    elif op == 'x':\n",
    "        result = 1\n",
    "        for num in v:\n",
    "            result*= num\n",
    "    return result\n",
    "    \n",
    "    \n",
    "print(add(value=[1,2,3,4,5], op='+'))  #{\"value\":[1,2,3,4,5], \"op\":\"+\"}\n",
    "print(add(value=[1,2,3,4,5], op='x'))"
   ]
  },
  {
   "cell_type": "code",
   "execution_count": 41,
   "metadata": {},
   "outputs": [
    {
     "name": "stdout",
     "output_type": "stream",
     "text": [
      "저체중 17.306122448979593\n"
     ]
    }
   ],
   "source": [
    "# 4. 체질량 지수(體質量指數, Body Mass Index, BMI)는 비만도를 나타내는 지수로 키가 a미터 이고 몸무게가 b kg일때 b/a**2 로 구한다.\n",
    "# 체질량 지수가\n",
    "#- 18.5 미만이면 저체중\n",
    "#- 18.5이상 25미만이면 정상 \n",
    "#- 25이상이면 과체중\n",
    "#- 30이상이면 비만으로 하는데\n",
    "#몸무게와 키를 매개변수로 받아 비만인지 과체중인지 반환하는 함수를 구현하시오.\n",
    "\n",
    "def check_bmi(a,b):\n",
    "    a=a/100\n",
    "    value=b/a**2\n",
    "\n",
    "    if b/a**2 < 18.5:\n",
    "        print(\"저체중\",value)\n",
    "    elif b/a**2 >= 18.5 and b/a**2 <25:\n",
    "        print(\"정상\",value)\n",
    "    elif b/a**2 >= 25 and b/a**2 < 30:\n",
    "        print(\"과체중\",value)\n",
    "    elif b/a**2 >= 30:\n",
    "        print(\"비만\",value)\n",
    "        \n",
    "check_bmi(175,53)"
   ]
  },
  {
   "cell_type": "code",
   "execution_count": 44,
   "metadata": {},
   "outputs": [
    {
     "data": {
      "text/plain": [
       "('저체중', 17.959183673469386)"
      ]
     },
     "execution_count": 44,
     "metadata": {},
     "output_type": "execute_result"
    }
   ],
   "source": [
    "# 선생님 풀이\n",
    "\n",
    "def check_bmi(a:\"키단위:m\",b:\"몸무게단위:kg\")->\"비만여부\":\n",
    "    bmi=b/a**2\n",
    "    result=None\n",
    "    \n",
    "    if bmi<18.5:\n",
    "        result=\"저체중\"\n",
    "    elif bmi<25:\n",
    "        result=\"정상\"\n",
    "    elif bmi<30:\n",
    "        result=\"과체중\"\n",
    "    else:\n",
    "        result=\"비만\"\n",
    "    return result, bmi\n",
    "\n",
    "check_bmi(1.75,55)"
   ]
  },
  {
   "cell_type": "code",
   "execution_count": 45,
   "metadata": {},
   "outputs": [
    {
     "data": {
      "text/plain": [
       "[1, 20, 3, 21]"
      ]
     },
     "execution_count": 45,
     "metadata": {},
     "output_type": "execute_result"
    }
   ],
   "source": [
    "# 람다식\n",
    "#5. filter를 이용해 다음 리스트에서 양수만 추출히 리스트를 구현\n",
    "ex1 = [1, -10, -2, 20, 3, -5, -7, 21]\n",
    "\n",
    "list(filter(lambda x:x>=0, ex1))"
   ]
  },
  {
   "cell_type": "code",
   "execution_count": 48,
   "metadata": {},
   "outputs": [
    {
     "name": "stdout",
     "output_type": "stream",
     "text": [
      "[1, 20, 3, 21]\n"
     ]
    },
    {
     "data": {
      "text/plain": [
       "[1, 20, 3, 21]"
      ]
     },
     "execution_count": 48,
     "metadata": {},
     "output_type": "execute_result"
    }
   ],
   "source": [
    "# 선생님 풀이\n",
    "\n",
    "pos=filter(lambda x:x>0, ex1)\n",
    "pos_list=list(pos)\n",
    "print(pos_list)\n",
    "\n",
    "a=list(filter(lambda x:x>0, ex1))\n",
    "a"
   ]
  },
  {
   "cell_type": "code",
   "execution_count": 46,
   "metadata": {},
   "outputs": [
    {
     "data": {
      "text/plain": [
       "[100, 4, 25, 49]"
      ]
     },
     "execution_count": 46,
     "metadata": {},
     "output_type": "execute_result"
    }
   ],
   "source": [
    "#6. filter와 map을 이용해 다음 리스트에서 음수만 추출한 뒤 그 제곱한 값들을 가지는 리스트를 구현\n",
    "ex2 = [1, -10, -2, 20, 3, -5, -7, 21]\n",
    "list(map(lambda x:x**2 ,filter(lambda x:x<0, ex2)))"
   ]
  },
  {
   "cell_type": "code",
   "execution_count": 52,
   "metadata": {},
   "outputs": [
    {
     "data": {
      "text/plain": [
       "[100, 4, 25, 49]"
      ]
     },
     "execution_count": 52,
     "metadata": {},
     "output_type": "execute_result"
    }
   ],
   "source": [
    "# 선생님 풀이\n",
    "\n",
    "neg=filter(lambda x:x<0, ex2)\n",
    "r=map(lambda x:x**2, neg)\n",
    "list(r)"
   ]
  },
  {
   "cell_type": "code",
   "execution_count": 54,
   "metadata": {},
   "outputs": [
    {
     "data": {
      "text/plain": [
       "[100, 4, 25, 49]"
      ]
     },
     "execution_count": 54,
     "metadata": {},
     "output_type": "execute_result"
    }
   ],
   "source": [
    "[x**2 for x in ex2 if x<0]"
   ]
  },
  {
   "cell_type": "code",
   "execution_count": 55,
   "metadata": {},
   "outputs": [
    {
     "data": {
      "text/plain": [
       "55"
      ]
     },
     "execution_count": 55,
     "metadata": {},
     "output_type": "execute_result"
    }
   ],
   "source": [
    "import functools    # functools: 여러가지 함수를 묶어놓은 것(모듈)\n",
    "# reduce(함수, 대상리스트): 함수매개변수는 2개, 리스트의 원소들을 누적집계해서 반환\n",
    "functools.reduce(lambda x,y:x+y,range(1,11)) "
   ]
  },
  {
   "cell_type": "code",
   "execution_count": 56,
   "metadata": {},
   "outputs": [
    {
     "data": {
      "text/plain": [
       "11"
      ]
     },
     "execution_count": 56,
     "metadata": {},
     "output_type": "execute_result"
    }
   ],
   "source": [
    "# a, b 는 함수안에 선언한 변수 => 함수 내에서만 사용가능\n",
    "# ==> 지역변수 (Local Variable)\n",
    "def test(a):\n",
    "    b = a+1\n",
    "#    return b     return 생략시 None값 반환\n",
    "test(10)"
   ]
  },
  {
   "cell_type": "code",
   "execution_count": 60,
   "metadata": {},
   "outputs": [
    {
     "data": {
      "text/plain": [
       "3"
      ]
     },
     "execution_count": 60,
     "metadata": {},
     "output_type": "execute_result"
    }
   ],
   "source": [
    "def test2():\n",
    "    for i in range(10):\n",
    "        if i == 3:\n",
    "            return i  # return: 호출한곳으로 돌아가라 실행 다 끝났다\n",
    "test2()"
   ]
  },
  {
   "cell_type": "code",
   "execution_count": null,
   "metadata": {},
   "outputs": [],
   "source": []
  },
  {
   "cell_type": "code",
   "execution_count": null,
   "metadata": {},
   "outputs": [],
   "source": []
  },
  {
   "cell_type": "code",
   "execution_count": null,
   "metadata": {},
   "outputs": [],
   "source": []
  },
  {
   "cell_type": "code",
   "execution_count": null,
   "metadata": {},
   "outputs": [],
   "source": []
  },
  {
   "cell_type": "code",
   "execution_count": null,
   "metadata": {},
   "outputs": [],
   "source": []
  },
  {
   "cell_type": "code",
   "execution_count": null,
   "metadata": {},
   "outputs": [],
   "source": []
  },
  {
   "cell_type": "code",
   "execution_count": null,
   "metadata": {},
   "outputs": [],
   "source": []
  },
  {
   "cell_type": "code",
   "execution_count": null,
   "metadata": {},
   "outputs": [],
   "source": []
  },
  {
   "cell_type": "code",
   "execution_count": null,
   "metadata": {},
   "outputs": [],
   "source": []
  },
  {
   "cell_type": "code",
   "execution_count": null,
   "metadata": {},
   "outputs": [],
   "source": []
  },
  {
   "cell_type": "code",
   "execution_count": null,
   "metadata": {},
   "outputs": [],
   "source": []
  }
 ],
 "metadata": {
  "kernelspec": {
   "display_name": "Python 3",
   "language": "python",
   "name": "python3"
  },
  "language_info": {
   "codemirror_mode": {
    "name": "ipython",
    "version": 3
   },
   "file_extension": ".py",
   "mimetype": "text/x-python",
   "name": "python",
   "nbconvert_exporter": "python",
   "pygments_lexer": "ipython3",
   "version": "3.7.3"
  }
 },
 "nbformat": 4,
 "nbformat_minor": 2
}
