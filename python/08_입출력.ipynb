{
 "cells": [
  {
   "cell_type": "markdown",
   "metadata": {},
   "source": [
    "# 텍스트 파일 입출력\n",
    "\n",
    "1. 연결 - open()\n",
    "2. 입력(read())/출력(write())\n",
    "3. 연결 닫기"
   ]
  },
  {
   "cell_type": "markdown",
   "metadata": {},
   "source": [
    " - w: 새로쓰기 (기존 파일이 있으면 지우고 새로 생성, 없으면 새로 생성)\n",
    " - a: 이어쓰기 (기존 내용 뒤에 이어서 출력)"
   ]
  },
  {
   "cell_type": "code",
   "execution_count": null,
   "metadata": {},
   "outputs": [],
   "source": [
    "# 연결 open(파일 경로, 모드 [,encoding 방식 ])\n",
    "# fw=open(\"test_text.txt\", 'wt')\n",
    "# fw=open(\"test_text.txt\", 'wt', encoding='utf-8') # test_text.txt와 텍스트쓰기 모드로 연결\n",
    "fw=open(\"test_text.txt\", 'at', encoding='utf-8')\n",
    "txt=\"\"\"졸려요\n",
    "배불러\n",
    "자고싶다\n",
    "막창먹고싶어\n",
    "\"\"\"\n",
    "# 출력\n",
    "fw.write(txt)\n",
    "fw.write(\"또 써\\n\")\n",
    "fw.write(\"메롱\\n\")\n",
    "fw.close()"
   ]
  },
  {
   "cell_type": "code",
   "execution_count": null,
   "metadata": {},
   "outputs": [],
   "source": [
    "f=open('test_text.txt','rt') # 텍스트 읽기 모드로 연결 - 기본 CP949\n",
    "r_txt=f.read()\n",
    "print(r_txt)"
   ]
  },
  {
   "cell_type": "code",
   "execution_count": null,
   "metadata": {},
   "outputs": [],
   "source": [
    "f=open('test_text.txt','rt',encoding='utf-8') # 쓰기모드를 utf-8로 지정했기때문에 읽기모드도 같은 방식으로 지정\n",
    "r_txt=f.read()\n",
    "print(r_txt)\n",
    "f.close()"
   ]
  },
  {
   "cell_type": "code",
   "execution_count": null,
   "metadata": {},
   "outputs": [],
   "source": [
    "f=open('test_text.txt','rt',encoding='utf-8')\n",
    "s=f.readline() # 한 줄\n",
    "print(s)\n",
    "f.close()"
   ]
  },
  {
   "cell_type": "code",
   "execution_count": null,
   "metadata": {},
   "outputs": [],
   "source": [
    "f=open('test_text.txt','rt',encoding='utf-8')\n",
    "s_list=f.readlines() # 여러 줄\n",
    "print(s_list)\n",
    "f.close()"
   ]
  },
  {
   "cell_type": "code",
   "execution_count": null,
   "metadata": {},
   "outputs": [],
   "source": [
    "f=open('test_text.txt','rt',encoding='utf-8')\n",
    "for row in f:\n",
    "    print(row.strip())\n",
    "f.close()"
   ]
  },
  {
   "cell_type": "code",
   "execution_count": null,
   "metadata": {
    "scrolled": true
   },
   "outputs": [],
   "source": [
    "try:\n",
    "    f=open('test_text.txt','rt',encoding='utf-8')\n",
    "    for idx,row in enumerate(f, start=1):\n",
    "        print(idx, row.strip())\n",
    "except:\n",
    "    print('처리')\n",
    "\n",
    "finally: # 앞의 실행유무에 상관없이 무조건 실행\n",
    "    print('finally')\n",
    "    f.close()"
   ]
  },
  {
   "cell_type": "code",
   "execution_count": null,
   "metadata": {},
   "outputs": [],
   "source": [
    "with open('test_text.txt','rt',encoding='utf-8') as fr:  # fr=open(xxx) 즉, fr은 변수\n",
    "    try:\n",
    "        for s in fr:  # 입출력\n",
    "            print(s.strip())\n",
    "    except:\n",
    "        print('오류 처리')\n",
    "\n",
    "        # with block을 빠져 나오면 자동으로 close() 된다 즉, fr.close() 생략\n",
    "print('종료')"
   ]
  },
  {
   "cell_type": "markdown",
   "metadata": {},
   "source": [
    "## 자원(파일) 경로\n",
    " - 절대경로\n",
    "     - 시작 경로(Root)부터 쭉 나열하는 것.\n",
    "     - ex) c:\\a\\b\\c\\d\\a.txt\n",
    " - 상대경로\n",
    "     - 현재 작업 디렉토리(경로) 부터 찾아가는 방식. (즉, 현재 작업하고 있는 디렉토리가 기준이 됨)\n",
    "     - 따라서 작업 디렉토리에 따라 경로가 다름\n",
    "     - `.`: 현재 경로\n",
    "     - `..`: 상위 경로\n",
    "     - `\\`, `/`: 경로 구분자로 상위or하위 경로로 들어갈 때 사용\n",
    "     - ex) `./../test/a.txt` (항상 `./` (현재경로)으로 시작함 -> 맨 앞 `./` 은 생략가능)"
   ]
  },
  {
   "cell_type": "code",
   "execution_count": null,
   "metadata": {},
   "outputs": [],
   "source": [
    "# 현재 작업 경로\n",
    "import os\n",
    "print(os.getcwd())"
   ]
  },
  {
   "cell_type": "code",
   "execution_count": null,
   "metadata": {},
   "outputs": [],
   "source": [
    "TODO - 간단한 메모장\n",
    "사용자로부터 파일명을 입력받는다.\n",
    "사용자로 부터 파일에 저장할 문장을 입력받아서 파일에 저장한다.\n",
    " - 한줄씩 입력받는다.\n",
    "사용자가 !q 를 입력하면 저장후 종료한다.\n",
    "사용자가 저장한 파일을 읽어서 출력한다."
   ]
  },
  {
   "cell_type": "code",
   "execution_count": null,
   "metadata": {},
   "outputs": [],
   "source": [
    "note=input(\"파일명을 입력하세요:\")\n",
    "note=note+'.txt'\n",
    "f=open(note,'w',encoding='utf-8')\n",
    "txt=input(\"문장을 입력하세요:\")\n",
    "while txt != '!q':\n",
    "    f.write(txt+'\\n')\n",
    "    txt=input(\"문장을 입력하세요:\")\n",
    "    if txt == '!q':\n",
    "        break\n",
    "f.close\n",
    "f=open(note,'r',encoding='utf-8')\n",
    "print(f.read())"
   ]
  },
  {
   "cell_type": "markdown",
   "metadata": {},
   "source": [
    "선생님 풀이"
   ]
  },
  {
   "cell_type": "code",
   "execution_count": 2,
   "metadata": {
    "scrolled": true
   },
   "outputs": [
    {
     "name": "stdout",
     "output_type": "stream",
     "text": [
      "저장할 파일명을 입력하세요:\n",
      "파일명:note2\n",
      "내용을 입력하세요. 종료시 !q를 입력하세요\n",
      "==================================================\n",
      "졸려\n",
      "!q\n"
     ]
    }
   ],
   "source": [
    "# encoding=input(\"인코딩:\")\n",
    "print(\"저장할 파일명을 입력하세요:\")\n",
    "filename=input(\"파일명:\")\n",
    "with open(filename,'wt',encoding='utf-8') as fw: # 연결\n",
    "    print(\"내용을 입력하세요. 종료시 !q를 입력하세요\")\n",
    "    print(\"=\"*50)\n",
    "    line=input()\n",
    "    while line != '!q':\n",
    "        fw.write(line+'\\n')\n",
    "        line = input()"
   ]
  },
  {
   "cell_type": "code",
   "execution_count": 43,
   "metadata": {},
   "outputs": [],
   "source": [
    "def memmo():\n",
    "    print(\"저장할 파일명을 입력하세요:\")\n",
    "    filename=input(\"파일명:\")\n",
    "    with open(filename,'wt',encoding='utf-8') as fw: # 연결\n",
    "        print(\"내용을 입력하세요. 종료시 !q를 입력하세요\")\n",
    "        print(\"=\"*50)\n",
    "        line=input()\n",
    "        while line != '!q':\n",
    "            fw.write(line+'\\n')\n",
    "            line = input()"
   ]
  },
  {
   "cell_type": "markdown",
   "metadata": {},
   "source": [
    " - CSV(Comma Separate Value): 데이터를 모아 저장하는 방식\n",
    "    - 하나의 값을 구성하는 값(속성)들을 ',' 로 구분\n",
    "    - 각각의 값들은 엔터로 구분\n",
    "    - 텍스트 기반 (모든 프로그램에서 사용 가능)"
   ]
  },
  {
   "cell_type": "code",
   "execution_count": null,
   "metadata": {},
   "outputs": [],
   "source": [
    "TODO - member.csv 파일을 읽어서 각 열의 값을 배열에 담는다.\n",
    "이름,나이,주소  형태의 csv를 읽어\n",
    "names = []\n",
    "ages =[]\n",
    "address =[]\n",
    "배열에 넣는다. \n",
    "- 단 첫줄은 head이므로 읽지 않는다.\n",
    "- 참고 함수: 문자열 split(), for문 관련 enumerate()"
   ]
  },
  {
   "cell_type": "code",
   "execution_count": 30,
   "metadata": {},
   "outputs": [
    {
     "name": "stdout",
     "output_type": "stream",
     "text": [
      "['김영수', '박영희', '오민수', '최정길', '이명수', '이철수'] ['20', '21', '30', '15', '22', '17'] ['서울', '서울', '부산', '인천', '광주', '대전']\n"
     ]
    }
   ],
   "source": [
    "names = []\n",
    "ages =[]\n",
    "addresses =[]\n",
    "f=open('member.csv','rt')\n",
    "for i in f.readlines()[1:]:\n",
    "    s1,s2,s3=i.strip().split(',')\n",
    "    names.append(s1)\n",
    "    ages.append(s2)\n",
    "    addresses.append(s3)\n",
    "print(names,ages,address)"
   ]
  },
  {
   "cell_type": "markdown",
   "metadata": {},
   "source": [
    "선생님 풀이"
   ]
  },
  {
   "cell_type": "code",
   "execution_count": 31,
   "metadata": {},
   "outputs": [
    {
     "name": "stdout",
     "output_type": "stream",
     "text": [
      "['김영수', '박영희', '오민수', '최정길', '이명수', '이철수']\n",
      "['20', '21', '30', '15', '22', '17']\n",
      "['서울', '서울', '부산', '인천', '광주', '대전']\n"
     ]
    }
   ],
   "source": [
    "# 1.각각 이름, 나이, 주소를 저장할 리스트 만들기\n",
    "names = []\n",
    "ages =[]\n",
    "addresses =[]\n",
    "# 연결\n",
    "with open(\"member.csv\",\"rt\",encoding='CP949') as fr: # encoding='CP949' 생략가능 (기본값이므로)\n",
    "#     fr.readline(), fr.readlines()\n",
    "    for idx,row in enumerate(fr):  # 반복할때마다 한줄씩 반환\n",
    "        if idx==0:\n",
    "            continue\n",
    "        tmp=row.strip().split(',')\n",
    "        names.append(tmp[0])\n",
    "        ages.append(tmp[1])\n",
    "        addresses.append(tmp[2])\n",
    "print(names)\n",
    "print(ages)\n",
    "print(addresses)"
   ]
  },
  {
   "cell_type": "code",
   "execution_count": 33,
   "metadata": {},
   "outputs": [
    {
     "name": "stdout",
     "output_type": "stream",
     "text": [
      "('김영수', '20', '서울')\n",
      "('박영희', '21', '서울')\n",
      "('오민수', '30', '부산')\n",
      "('최정길', '15', '인천')\n",
      "('이명수', '22', '광주')\n",
      "('이철수', '17', '대전')\n"
     ]
    }
   ],
   "source": [
    "for xxx in zip(names,ages,addresses):\n",
    "    print(xxx)"
   ]
  },
  {
   "cell_type": "code",
   "execution_count": 42,
   "metadata": {},
   "outputs": [],
   "source": [
    "with open('member2.csv','wt',encoding='utf-8') as fw:\n",
    "    for p in zip(names,ages,addresses):\n",
    "        row=','.join(p)\n",
    "        fw.write(row+'\\n')"
   ]
  },
  {
   "cell_type": "markdown",
   "metadata": {},
   "source": [
    "## pickle 모듈\n",
    " - 모든 파이썬 객체(데이터)를 binary로 파일에 저장/읽기 하는 함수 제공\n",
    " - dump(저장할객체, fw): 파일에 쓰기(저장) 함수\n",
    " - load(fr): 파일로부터 읽는 함수"
   ]
  },
  {
   "cell_type": "code",
   "execution_count": 45,
   "metadata": {},
   "outputs": [
    {
     "data": {
      "text/plain": [
       "['김영수', '박영희', '오민수', '최정길', '이명수', '이철수']"
      ]
     },
     "execution_count": 45,
     "metadata": {},
     "output_type": "execute_result"
    }
   ],
   "source": [
    "names"
   ]
  },
  {
   "cell_type": "code",
   "execution_count": 46,
   "metadata": {},
   "outputs": [],
   "source": [
    "import pickle"
   ]
  },
  {
   "cell_type": "code",
   "execution_count": 61,
   "metadata": {},
   "outputs": [],
   "source": [
    "# 리스트 객체를 파일에 저장\n",
    "with open('names.pkl','wb') as fw:   # pkl: pickle의 확장자, wb: binary형태로 쓸거야\n",
    "    pickle.dump(names, fw)"
   ]
  },
  {
   "cell_type": "code",
   "execution_count": 62,
   "metadata": {},
   "outputs": [],
   "source": [
    "#with open('names2.txt','wt') as fw2:\n",
    "#     fw2.write(str(names))"
   ]
  },
  {
   "cell_type": "code",
   "execution_count": 63,
   "metadata": {},
   "outputs": [],
   "source": [
    "with open('names.pkl','rb') as fr:\n",
    "    name2=pickle.load(fr)"
   ]
  },
  {
   "cell_type": "code",
   "execution_count": 64,
   "metadata": {},
   "outputs": [
    {
     "data": {
      "text/plain": [
       "'김영수'"
      ]
     },
     "execution_count": 64,
     "metadata": {},
     "output_type": "execute_result"
    }
   ],
   "source": [
    "name2[0]"
   ]
  },
  {
   "cell_type": "code",
   "execution_count": 65,
   "metadata": {},
   "outputs": [],
   "source": [
    "with open('member.pkl','wb') as fw:\n",
    "    pickle.dump(names, fw)\n",
    "    pickle.dump(ages, fw)\n",
    "    pickle.dump(addresses, fw)"
   ]
  },
  {
   "cell_type": "code",
   "execution_count": 66,
   "metadata": {},
   "outputs": [
    {
     "name": "stdout",
     "output_type": "stream",
     "text": [
      "['김영수', '박영희', '오민수', '최정길', '이명수', '이철수']\n",
      "['20', '21', '30', '15', '22', '17']\n",
      "['서울', '서울', '부산', '인천', '광주', '대전']\n"
     ]
    }
   ],
   "source": [
    "with open('member.pkl','rb') as fr:\n",
    "    n = pickle.load(fr)\n",
    "    a = pickle.load(fr)\n",
    "    addr = pickle.load(fr)\n",
    "print(n)\n",
    "print(a)\n",
    "print(addr)   # dump, load 순서맞춰서"
   ]
  },
  {
   "cell_type": "code",
   "execution_count": 67,
   "metadata": {},
   "outputs": [
    {
     "ename": "EOFError",
     "evalue": "Ran out of input",
     "output_type": "error",
     "traceback": [
      "\u001b[1;31m---------------------------------------------------------------------------\u001b[0m",
      "\u001b[1;31mEOFError\u001b[0m                                  Traceback (most recent call last)",
      "\u001b[1;32m<ipython-input-67-3d9f55f7c109>\u001b[0m in \u001b[0;36m<module>\u001b[1;34m\u001b[0m\n\u001b[0;32m      3\u001b[0m     \u001b[0ma\u001b[0m \u001b[1;33m=\u001b[0m \u001b[0mpickle\u001b[0m\u001b[1;33m.\u001b[0m\u001b[0mload\u001b[0m\u001b[1;33m(\u001b[0m\u001b[0mfr\u001b[0m\u001b[1;33m)\u001b[0m\u001b[1;33m\u001b[0m\u001b[1;33m\u001b[0m\u001b[0m\n\u001b[0;32m      4\u001b[0m     \u001b[0maddr\u001b[0m \u001b[1;33m=\u001b[0m \u001b[0mpickle\u001b[0m\u001b[1;33m.\u001b[0m\u001b[0mload\u001b[0m\u001b[1;33m(\u001b[0m\u001b[0mfr\u001b[0m\u001b[1;33m)\u001b[0m\u001b[1;33m\u001b[0m\u001b[1;33m\u001b[0m\u001b[0m\n\u001b[1;32m----> 5\u001b[1;33m     \u001b[0mt\u001b[0m \u001b[1;33m=\u001b[0m \u001b[0mpickle\u001b[0m\u001b[1;33m.\u001b[0m\u001b[0mload\u001b[0m\u001b[1;33m(\u001b[0m\u001b[0mfr\u001b[0m\u001b[1;33m)\u001b[0m\u001b[1;33m\u001b[0m\u001b[1;33m\u001b[0m\u001b[0m\n\u001b[0m\u001b[0;32m      6\u001b[0m \u001b[0mprint\u001b[0m\u001b[1;33m(\u001b[0m\u001b[0mn\u001b[0m\u001b[1;33m)\u001b[0m\u001b[1;33m\u001b[0m\u001b[1;33m\u001b[0m\u001b[0m\n\u001b[0;32m      7\u001b[0m \u001b[0mprint\u001b[0m\u001b[1;33m(\u001b[0m\u001b[0ma\u001b[0m\u001b[1;33m)\u001b[0m\u001b[1;33m\u001b[0m\u001b[1;33m\u001b[0m\u001b[0m\n",
      "\u001b[1;31mEOFError\u001b[0m: Ran out of input"
     ]
    }
   ],
   "source": [
    "with open('member.pkl','rb') as fr:\n",
    "    n = pickle.load(fr)\n",
    "    a = pickle.load(fr)\n",
    "    addr = pickle.load(fr)\n",
    "    t = pickle.load(fr)    # EOFError: \n",
    "print(n)\n",
    "print(a)\n",
    "print(addr)   # dump, load 순서맞춰서"
   ]
  },
  {
   "cell_type": "code",
   "execution_count": 68,
   "metadata": {
    "scrolled": true
   },
   "outputs": [
    {
     "name": "stdout",
     "output_type": "stream",
     "text": [
      "['김영수', '박영희', '오민수', '최정길', '이명수', '이철수']\n",
      "['20', '21', '30', '15', '22', '17']\n",
      "['서울', '서울', '부산', '인천', '광주', '대전']\n",
      "종료\n"
     ]
    }
   ],
   "source": [
    "with open('member.pkl','rb') as fr:\n",
    "    while True:\n",
    "        try:\n",
    "            print(pickle.load(fr))\n",
    "        except:\n",
    "            break\n",
    "print(\"종료\")"
   ]
  },
  {
   "cell_type": "markdown",
   "metadata": {},
   "source": [
    "## 예제문제"
   ]
  },
  {
   "cell_type": "code",
   "execution_count": 82,
   "metadata": {},
   "outputs": [],
   "source": [
    "class Person:\n",
    "    def __init__(self, name, age):\n",
    "        self.name=name\n",
    "        self.age=age\n",
    "    def __str__(self):\n",
    "        return '이름:{},나이:{}'.format(self.name,self.age)"
   ]
  },
  {
   "cell_type": "code",
   "execution_count": 74,
   "metadata": {},
   "outputs": [],
   "source": [
    "p1=Person('홍길동',20)"
   ]
  },
  {
   "cell_type": "code",
   "execution_count": 76,
   "metadata": {},
   "outputs": [],
   "source": [
    "import pickle\n",
    "with open('p.pkl','wb') as fw:\n",
    "    pickle.dump(p1, fw)"
   ]
  },
  {
   "cell_type": "code",
   "execution_count": 78,
   "metadata": {},
   "outputs": [],
   "source": [
    "import pickle\n",
    "with open('p.pkl','rb') as fr:\n",
    "    p1_copy=pickle.load(fr)"
   ]
  },
  {
   "cell_type": "code",
   "execution_count": 79,
   "metadata": {},
   "outputs": [
    {
     "data": {
      "text/plain": [
       "'홍길동'"
      ]
     },
     "execution_count": 79,
     "metadata": {},
     "output_type": "execute_result"
    }
   ],
   "source": [
    "p1_copy.name"
   ]
  },
  {
   "cell_type": "code",
   "execution_count": 81,
   "metadata": {},
   "outputs": [
    {
     "data": {
      "text/plain": [
       "'이름:홍길동,나이:20'"
      ]
     },
     "execution_count": 81,
     "metadata": {},
     "output_type": "execute_result"
    }
   ],
   "source": [
    "str(p1_copy)"
   ]
  },
  {
   "cell_type": "code",
   "execution_count": 83,
   "metadata": {},
   "outputs": [],
   "source": [
    "p1=Person('홍길동',20)\n",
    "p2=Person('성윤혜',31)\n",
    "p3=Person('박지민',31)\n",
    "p4=Person('이슬',31)\n",
    "p_list=[p1,p2,p3,p4]"
   ]
  },
  {
   "cell_type": "code",
   "execution_count": 85,
   "metadata": {},
   "outputs": [],
   "source": [
    "import pickle\n",
    "with open('p_list.pkl','wb') as fw:\n",
    "    pickle.dump(p_list, fw)\n",
    "with open('p_list.pkl','rb') as fr:\n",
    "    p_list_copy=pickle.load(fr)"
   ]
  },
  {
   "cell_type": "code",
   "execution_count": 86,
   "metadata": {},
   "outputs": [
    {
     "data": {
      "text/plain": [
       "'이름:홍길동,나이:20'"
      ]
     },
     "execution_count": 86,
     "metadata": {},
     "output_type": "execute_result"
    }
   ],
   "source": [
    "str(p_list_copy[0])"
   ]
  },
  {
   "cell_type": "code",
   "execution_count": 87,
   "metadata": {},
   "outputs": [
    {
     "data": {
      "text/plain": [
       "'이름:박지민,나이:31'"
      ]
     },
     "execution_count": 87,
     "metadata": {},
     "output_type": "execute_result"
    }
   ],
   "source": [
    "str(p_list_copy[2])"
   ]
  },
  {
   "cell_type": "code",
   "execution_count": 89,
   "metadata": {},
   "outputs": [
    {
     "data": {
      "text/plain": [
       "['__class__',\n",
       " '__delattr__',\n",
       " '__dict__',\n",
       " '__dir__',\n",
       " '__doc__',\n",
       " '__eq__',\n",
       " '__format__',\n",
       " '__ge__',\n",
       " '__getattribute__',\n",
       " '__gt__',\n",
       " '__hash__',\n",
       " '__init__',\n",
       " '__init_subclass__',\n",
       " '__le__',\n",
       " '__lt__',\n",
       " '__module__',\n",
       " '__ne__',\n",
       " '__new__',\n",
       " '__reduce__',\n",
       " '__reduce_ex__',\n",
       " '__repr__',\n",
       " '__setattr__',\n",
       " '__sizeof__',\n",
       " '__slotnames__',\n",
       " '__str__',\n",
       " '__subclasshook__',\n",
       " '__weakref__',\n",
       " 'age',\n",
       " 'name']"
      ]
     },
     "execution_count": 89,
     "metadata": {},
     "output_type": "execute_result"
    }
   ],
   "source": [
    "dir(p1)"
   ]
  },
  {
   "cell_type": "code",
   "execution_count": null,
   "metadata": {},
   "outputs": [],
   "source": []
  },
  {
   "cell_type": "code",
   "execution_count": null,
   "metadata": {},
   "outputs": [],
   "source": []
  }
 ],
 "metadata": {
  "kernelspec": {
   "display_name": "Python 3",
   "language": "python",
   "name": "python3"
  },
  "language_info": {
   "codemirror_mode": {
    "name": "ipython",
    "version": 3
   },
   "file_extension": ".py",
   "mimetype": "text/x-python",
   "name": "python",
   "nbconvert_exporter": "python",
   "pygments_lexer": "ipython3",
   "version": "3.7.3"
  }
 },
 "nbformat": 4,
 "nbformat_minor": 2
}
