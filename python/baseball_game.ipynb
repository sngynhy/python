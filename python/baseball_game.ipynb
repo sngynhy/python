{
 "cells": [
  {
   "cell_type": "code",
   "execution_count": 1,
   "metadata": {},
   "outputs": [],
   "source": [
    "import random"
   ]
  },
  {
   "cell_type": "code",
   "execution_count": 140,
   "metadata": {},
   "outputs": [],
   "source": [
    "# 게임을 위한 랜덤 숫자 생성\n",
    "rn=['0','0','0']\n",
    "rn[0]=str(random.randint(1,9))\n",
    "rn[1]=rn[0]\n",
    "rn[2]=rn[0]\n",
    "while (rn[0]==rn[1]):\n",
    "    rn[1]=str(random.randint(1,9))\n",
    "while (rn[0]==rn[2] or rn[1]==rn[2]):\n",
    "    rn[2]=str(random.randint(1,9))    "
   ]
  },
  {
   "cell_type": "code",
   "execution_count": 139,
   "metadata": {},
   "outputs": [
    {
     "data": {
      "text/plain": [
       "'2'"
      ]
     },
     "execution_count": 139,
     "metadata": {},
     "output_type": "execute_result"
    }
   ],
   "source": [
    "tr_cnt=0  # 시도횟수\n",
    "st_cnt=0  # 스트라이크 갯수\n",
    "bl_cnt=0  # 볼 갯수\n",
    "\n",
    "print(\"숫자야구게임을 시작합니다!\")\n",
    "print(\"---------------------\")\n",
    "\n",
    "while(s_cnt<3):\n",
    "    num=str(input(\"숫자 3자리를 입력하세요 : \"))\n",
    "    \n",
    "    st_cnt=0           \n",
    "    bl_cnt=0\n",
    "    \n",
    "    for i in range(0,3):\n",
    "        for j in range(0,3):\n",
    "            if (num[i]=str(rn))"
   ]
  },
  {
   "cell_type": "markdown",
   "metadata": {},
   "source": [
    "### 랜덤 숫자 생성"
   ]
  },
  {
   "cell_type": "code",
   "execution_count": 213,
   "metadata": {},
   "outputs": [],
   "source": [
    "def get_random_number():\n",
    "    return random.randrange(100,1000)"
   ]
  },
  {
   "cell_type": "markdown",
   "metadata": {},
   "source": [
    "### 입력받은 값이 숫자열인지 확인"
   ]
  },
  {
   "cell_type": "code",
   "execution_count": 164,
   "metadata": {},
   "outputs": [],
   "source": [
    "def is_digit(user_input_number):\n",
    "    if user_input_number.isdigit():\n",
    "        return True                \n",
    "    return False"
   ]
  },
  {
   "cell_type": "markdown",
   "metadata": {},
   "source": [
    "### 입력받은 수가 3자리 수인가"
   ]
  },
  {
   "cell_type": "code",
   "execution_count": 165,
   "metadata": {},
   "outputs": [],
   "source": [
    "def is_betweein_100_and_999(user_input_number):\n",
    "    if len(user_input_number)==3:\n",
    "        return True\n",
    "    return False"
   ]
  },
  {
   "cell_type": "markdown",
   "metadata": {},
   "source": [
    "### 각 자리의 숫자 중 중복되는 수가 있는가"
   ]
  },
  {
   "cell_type": "code",
   "execution_count": 166,
   "metadata": {},
   "outputs": [],
   "source": [
    "def is_duplicated_number(three_digit):\n",
    "    if len(three_digit)==len(set(three_digit)):\n",
    "        return True\n",
    "    return False"
   ]
  },
  {
   "cell_type": "markdown",
   "metadata": {},
   "source": [
    "### 1. 숫자열 2. 3자리 정수 3. 중복되는 수 없음\n",
    "### 위 조건을 모두 만족하는가"
   ]
  },
  {
   "cell_type": "code",
   "execution_count": 167,
   "metadata": {},
   "outputs": [],
   "source": [
    "def is_validated_number(user_input_number):\n",
    "    if is_digit(user_input_number) and is_betweein_100_and_999(user_input_number) and is_duplicated_number(user_input_number):\n",
    "        return True\n",
    "    return False\n",
    "    "
   ]
  },
  {
   "cell_type": "markdown",
   "metadata": {},
   "source": [
    "### 랜덤숫자 중복되는 수가 있는가"
   ]
  },
  {
   "cell_type": "code",
   "execution_count": 174,
   "metadata": {},
   "outputs": [],
   "source": [
    "def get_not_duplicated_three_digit_number():\n",
    "    random_number=get_random_number()\n",
    "    \n",
    "    while True:\n",
    "        if len(str(random_number))==len(set(str(random_number))):\n",
    "            return random_number\n",
    "        else:\n",
    "            return get_random_number()"
   ]
  },
  {
   "cell_type": "code",
   "execution_count": 202,
   "metadata": {},
   "outputs": [
    {
     "data": {
      "text/plain": [
       "379"
      ]
     },
     "execution_count": 202,
     "metadata": {},
     "output_type": "execute_result"
    }
   ],
   "source": [
    "get_not_duplicated_three_digit_number()"
   ]
  },
  {
   "cell_type": "markdown",
   "metadata": {},
   "source": [
    "### 스트라이크, 볼 갯수"
   ]
  },
  {
   "cell_type": "code",
   "execution_count": 203,
   "metadata": {},
   "outputs": [],
   "source": [
    "def get_strikes_or_ball(user_input_number, random_number):\n",
    "    strike=0\n",
    "    ball=0\n",
    "    for i in range(3):\n",
    "        for j in range(3):\n",
    "            if user_input_number[i]==random_number[j] and i == j:\n",
    "                strike+=1\n",
    "            elif user_input_number[i]==random_number[j] and i != j:\n",
    "                ball+=1\n",
    "    return [strike, ball]"
   ]
  },
  {
   "cell_type": "markdown",
   "metadata": {},
   "source": [
    "### YES or NO"
   ]
  },
  {
   "cell_type": "code",
   "execution_count": 214,
   "metadata": {},
   "outputs": [],
   "source": [
    "def is_yes(one_more_input):\n",
    "    one_more_input=one_more_input.upper()\n",
    "    if one_more_input == 'Y' or one_more_input=='YES':\n",
    "        return True\n",
    "    return False"
   ]
  },
  {
   "cell_type": "code",
   "execution_count": 212,
   "metadata": {},
   "outputs": [],
   "source": [
    "def is_no(one_more_input):\n",
    "    one_more_input=one_more_input.upper()\n",
    "    if one_more_input=='N' or one_more_input=='NO':\n",
    "        retu rn True\n",
    "    return False"
   ]
  },
  {
   "cell_type": "markdown",
   "metadata": {},
   "source": [
    "### main() 함수 수정"
   ]
  },
  {
   "cell_type": "code",
   "execution_count": null,
   "metadata": {},
   "outputs": [],
   "source": [
    "def main():\n",
    "    print(\"Play Baseball\")\n",
    "    user_input=999\n",
    "    random_number=str(get_not_duplicated_three_digit_number())\n",
    "    print('Random Number is : ', random_number)\n",
    "    \n",
    "    while True:\n",
    "        user_input=input(\"Input guess number\")\n",
    "        if is_validated_number(user_input):\n",
    "            s_b = get_strike_or_ball(user_input, random_number)\n",
    "            print(\"Strike:{}, Ball:{}\".format(s_b[0],s_b[1]))\n",
    "            if s_b[0] == 3:\n",
    "                again = 0\n",
    "                while again == 0:\n",
    "                    y_n = input(\"You win. one more (Y/N)?\")\n",
    "                    if is_no(y_n):\n",
    "                        again = 1\n",
    "                    elif is_yes(y_n):\n",
    "                        again = 2\n",
    "                    else: print(\"Wrong Input. Input again\")\n",
    "                if again == 1:\n",
    "                    break\n",
    "                elif again == 2:\n",
    "                    random_number = str(get_not_duplicated_three_digit_number())\n",
    "                    print(\"Random Number is : \", random_number)\n",
    "        else:\n",
    "            print(\"Wrong Input. Input again\")\n",
    "        \n",
    "print(\"Thank you for using this program\")\n",
    "print(\"End of the Game\")\n",
    "\n",
    "if __name__ == \"__main__\":\n",
    "    main()"
   ]
  },
  {
   "cell_type": "code",
   "execution_count": null,
   "metadata": {},
   "outputs": [],
   "source": [
    "while True:       \n",
    "    user_input = input(\"Input guess number\")\n",
    "        if is_validated_number(user_input):\n",
    "            s_b = get_strikes_or_ball(user_input, random_number)\n",
    "            print('Strikes: {}, Balls: {}'.format(s_b[0],s_b[1]))\n",
    "            if s_b[0] == 3:\n",
    "                again = 0\n",
    "                while again == 0:\n",
    "                    y_n = input('You win, one more (Y/N)?')\n",
    "                    if is_no(y_n):\n",
    "                         again = 1\n",
    "                    elif is_yes(y_n):\n",
    "                        again = 2\n",
    "                    else:\n",
    "                        print(\"Wrong Input, Input again\")\n",
    "                if again == 1:\n",
    "                    break\n",
    "                elif again == 2:\n",
    "                    random_number = str(get_not_duplicated_three_digit_number())\n",
    "                    print(\"Random Number is : \", random_number)\n",
    "        else:\n",
    "            print(\"Wrong Input, Input again\")"
   ]
  },
  {
   "cell_type": "code",
   "execution_count": null,
   "metadata": {},
   "outputs": [],
   "source": []
  },
  {
   "cell_type": "code",
   "execution_count": null,
   "metadata": {},
   "outputs": [],
   "source": []
  },
  {
   "cell_type": "code",
   "execution_count": null,
   "metadata": {},
   "outputs": [],
   "source": []
  }
 ],
 "metadata": {
  "kernelspec": {
   "display_name": "Python 3",
   "language": "python",
   "name": "python3"
  },
  "language_info": {
   "codemirror_mode": {
    "name": "ipython",
    "version": 3
   },
   "file_extension": ".py",
   "mimetype": "text/x-python",
   "name": "python",
   "nbconvert_exporter": "python",
   "pygments_lexer": "ipython3",
   "version": "3.7.4"
  }
 },
 "nbformat": 4,
 "nbformat_minor": 2
}
